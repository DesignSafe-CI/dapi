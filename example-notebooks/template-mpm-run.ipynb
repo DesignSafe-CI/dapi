{
 "cells": [
  {
   "cell_type": "markdown",
   "id": "4efabb5e",
   "metadata": {},
   "source": [
    "# Templatized notebook for running CB-Geo MPM TAPIS job"
   ]
  },
  {
   "cell_type": "markdown",
   "id": "abe5d8a3-32da-4233-b605-9fd51d053ec1",
   "metadata": {},
   "source": [
    "## Install DSJobs"
   ]
  },
  {
   "cell_type": "code",
   "execution_count": 1,
   "id": "e70c29e6-e0eb-48cb-914e-3a228faba66d",
   "metadata": {},
   "outputs": [
    {
     "name": "stdout",
     "output_type": "stream",
     "text": [
      "Found existing installation: dsjobs 0.1.0\n",
      "Uninstalling dsjobs-0.1.0:\n",
      "  Successfully uninstalled dsjobs-0.1.0\n"
     ]
    }
   ],
   "source": [
    "!pip uninstall dsjobs -y"
   ]
  },
  {
   "cell_type": "code",
   "execution_count": 2,
   "id": "b7fa3e9a-7bf3-441c-917f-fb57a94ee017",
   "metadata": {},
   "outputs": [],
   "source": [
    "!pip install git+https://github.com/geoelements/dsjobs.git --quiet"
   ]
  },
  {
   "cell_type": "markdown",
   "id": "dd802d14-8cb5-49e7-b43c-1c21ac253961",
   "metadata": {},
   "source": [
    "## Modify MPM Job parameters\n",
    "\n",
    "> Only change the cell below"
   ]
  },
  {
   "cell_type": "code",
   "execution_count": 3,
   "id": "8593c08c-c96a-4a66-9b52-80b8b5c27e44",
   "metadata": {
    "tags": [
     "parameters"
    ]
   },
   "outputs": [],
   "source": [
    "# Default parameters for the MPM template notebook\n",
    "path: str = '/MyData/mpm-benchmarks/2d/uniaxial_stress/' # path to input file\n",
    "\n",
    "input_file: str = 'mpm.json' # input file.json\n",
    "\n",
    "# The parameters modified in your job will be embedded below."
   ]
  },
  {
   "cell_type": "markdown",
   "id": "14a18561-3bf7-4605-a6f4-98ab0b99af10",
   "metadata": {},
   "source": [
    "## Configure and run MPM job"
   ]
  },
  {
   "cell_type": "code",
   "execution_count": 4,
   "id": "0153c5cc-f4b9-460b-b4c6-d92eb8c6ede5",
   "metadata": {},
   "outputs": [
    {
     "name": "stdout",
     "output_type": "stream",
     "text": [
      "{'appId': 'mpm-1.0.0', 'name': 'mpm-uniaxial', 'batchQueue': 'skx-dev', 'nodeCount': 1, 'processorsPerNode': 1, 'memoryPerNode': '1', 'maxRunTime': '00:10:00', 'archive': True, 'inputs': {'inputDirectory': ['agave://designsafe.storage.default/kks32/mpm-benchmarks/2d/uniaxial_stress/']}, 'parameters': {'inputfile': ['mpm.json']}}\n"
     ]
    }
   ],
   "source": [
    "from agavepy.agave import Agave\n",
    "import dsjobs as ds\n",
    "\n",
    "# authenticate\n",
    "ag = Agave.restore()\n",
    "\n",
    "# generate and modify job info\n",
    "job_info               = ds.generate_job_info(ag, appid='mpm-1.0.0', jobname='mpm-uniaxial')\n",
    "\n",
    "# specify input path and file\n",
    "job_info[\"inputs\"]     = {\"inputDirectory\": [ ds.get_ds_path_uri(ag, path) ]}\n",
    "job_info[\"parameters\"] = {\"inputfile\" : [ input_file ]}\n",
    "print(job_info)"
   ]
  },
  {
   "cell_type": "markdown",
   "id": "9851e692-2ba8-4cb0-887f-b639ba8832d2",
   "metadata": {},
   "source": [
    "## Submit and monitor job status"
   ]
  },
  {
   "cell_type": "code",
   "execution_count": 5,
   "id": "4e6dc010-d821-45d5-805b-84620363f468",
   "metadata": {},
   "outputs": [],
   "source": [
    "job = ag.jobs.submit(body=job_info)"
   ]
  },
  {
   "cell_type": "code",
   "execution_count": 6,
   "id": "06dd17dc-2540-46b3-9036-3245a9b6cfae",
   "metadata": {},
   "outputs": [
    {
     "name": "stderr",
     "output_type": "stream",
     "text": [
      "Waiting for job to start: 2it [00:30, 15.14s/it, Status: RUNNING]   \n",
      "Monitoring job:   0%|                                                        | 0/40 [00:00<?, ?it/s]"
     ]
    },
    {
     "name": "stdout",
     "output_type": "stream",
     "text": [
      "\tStatus: RUNNING\n"
     ]
    },
    {
     "name": "stderr",
     "output_type": "stream",
     "text": [
      "Monitoring job:  10%|████▊                                           | 4/40 [01:00<09:04, 15.12s/it]"
     ]
    },
    {
     "name": "stdout",
     "output_type": "stream",
     "text": [
      "\tStatus: ARCHIVING\n"
     ]
    },
    {
     "name": "stderr",
     "output_type": "stream",
     "text": [
      "Monitoring job:  12%|██████                                          | 5/40 [01:15<08:50, 15.15s/it]"
     ]
    },
    {
     "name": "stdout",
     "output_type": "stream",
     "text": [
      "\tStatus: FINISHED\n"
     ]
    },
    {
     "name": "stderr",
     "output_type": "stream",
     "text": [
      "\n"
     ]
    },
    {
     "data": {
      "text/plain": [
       "'FINISHED'"
      ]
     },
     "execution_count": 6,
     "metadata": {},
     "output_type": "execute_result"
    }
   ],
   "source": [
    "ds.get_status(ag, job[\"id\"])"
   ]
  },
  {
   "cell_type": "code",
   "execution_count": 7,
   "id": "614f3568-d290-44d9-896d-608375293a58",
   "metadata": {},
   "outputs": [
    {
     "name": "stdout",
     "output_type": "stream",
     "text": [
      "Runtime Summary\n",
      "---------------\n",
      "PENDING             time: 0:00:00\n",
      "PROCESSING_INPUTS   time: 0:00:03\n",
      "STAGING_INPUTS      time: 0:00:04\n",
      "STAGED              time: 0:00:00\n",
      "STAGING_JOB         time: 0:00:04\n",
      "SUBMITTING          time: 0:00:05\n",
      "QUEUED              time: 0:00:05\n",
      "RUNNING             time: 0:01:08\n",
      "CLEANING_UP         time: 0:00:00\n",
      "ARCHIVING           time: 0:00:08\n",
      "TOTAL               time: 0:01:37\n",
      "---------------\n"
     ]
    }
   ],
   "source": [
    "ds.runtime_summary(ag, job[\"id\"])"
   ]
  }
 ],
 "metadata": {
  "IMAGE_NAME": "taccsciapps/ds-nb-img:base-0.1.2",
  "UUID": "ad99fe82-d690-11ec-8bc3-165d4cd45074",
  "kernelspec": {
   "display_name": "Python 3 (ipykernel)",
   "language": "python",
   "name": "python3"
  },
  "language_info": {
   "codemirror_mode": {
    "name": "ipython",
    "version": 3
   },
   "file_extension": ".py",
   "mimetype": "text/x-python",
   "name": "python",
   "nbconvert_exporter": "python",
   "pygments_lexer": "ipython3",
   "version": "3.9.10"
  }
 },
 "nbformat": 4,
 "nbformat_minor": 5
}
