{
 "cells": [
  {
   "cell_type": "markdown",
   "metadata": {},
   "source": [
    "# Free Field Analysis Example\n",
    "Pedro Arduino - UW Computational Geomechanics Group"
   ]
  },
  {
   "cell_type": "markdown",
   "metadata": {},
   "source": [
    "This example shows how to run OpenSees in DesignSafe from a jupyter notebook and how to postprocess the output results using python scripts, generate a LaTex report, and create interactive plots. \n",
    "\n",
    "A simple 1D free field analysis of a liquefiable soil layer is analyzed using OpenSees. An schematic of the soil profile in shown in the Figure. The soil profile consists of a 1 m dry crust, 3 m liquefiable layer, and 1 m of elastic base. The ground water table is at 2 m. An earthquake excitation is applied at the bottom of the soil column. A compliant rock is considered in the analysis. \n",
    "\n",
    "The results are presented in terms of:\n",
    "\n",
    "a) Time history of acceleration at the surface and corresponding response spectra.\n",
    "\n",
    "b) Profiles of maximum displacement, peak horizontal acceleration (PHA), maximum shear strain, and stress ratio\n",
    "\n",
    "c) Stress strain plots for a point near the center of the liquefiable zone, and\n",
    "\n",
    "d) Evolution of pore water pressure for a point near the center of the liquefiable zone. "
   ]
  },
  {
   "cell_type": "markdown",
   "metadata": {},
   "source": [
    "<img src = \"schematic.png\"  height=\"200\" width=\"200\" align = \"center\">"
   ]
  },
  {
   "cell_type": "markdown",
   "metadata": {},
   "source": [
    "# Setup agave and start OpenSees job"
   ]
  },
  {
   "cell_type": "markdown",
   "metadata": {},
   "source": [
    "### Setup job description"
   ]
  },
  {
   "cell_type": "code",
   "execution_count": 23,
   "metadata": {},
   "outputs": [],
   "source": [
    "!pip install --user --upgrade setuptools --quiet\n",
    "!pip install --user --only-binary=:all: atomicwrites==1.4.0 --quiet\n",
    "!pip install --user \"jsonschema<4.18.0\" --quiet\n",
    "!pip install git+https://github.com/DesignSafe-CI/dapi.git@tapisv3 --user --quiet"
   ]
  },
  {
   "cell_type": "code",
   "execution_count": 2,
   "metadata": {},
   "outputs": [],
   "source": [
    "import os\n",
    "import dapi\n",
    "import uuid\n",
    "from datetime import date\n",
    "import json"
   ]
  },
  {
   "cell_type": "code",
   "execution_count": 3,
   "metadata": {},
   "outputs": [],
   "source": [
    "# Authenticate\n",
    "t = dapi.auth.init()"
   ]
  },
  {
   "cell_type": "code",
   "execution_count": 10,
   "metadata": {},
   "outputs": [],
   "source": [
    "# Define inputs\n",
    "cur_dir = os.getcwd()\n",
    "input_uri = dapi.jobs.get_ds_path_uri(t, cur_dir)\n",
    "input_filename = \"N10_T3.tcl\""
   ]
  },
  {
   "cell_type": "code",
   "execution_count": 19,
   "metadata": {},
   "outputs": [
    {
     "name": "stdout",
     "output_type": "stream",
     "text": [
      "\n",
      "---Job Info---\n",
      "\n",
      "{\n",
      "  \"name\": \"opensees-express_20241001_174715\",\n",
      "  \"appId\": \"opensees-express\",\n",
      "  \"appVersion\": \"3.7.0\",\n",
      "  \"execSystemId\": \"wma-exec-01\",\n",
      "  \"maxMinutes\": 30,\n",
      "  \"archiveOnAppError\": true,\n",
      "  \"fileInputs\": [\n",
      "    {\n",
      "      \"name\": \"Input Directory\",\n",
      "      \"sourceUrl\": \"tapis://designsafe.storage.default/kks32/freeFieldEffectiveJupyter\"\n",
      "    }\n",
      "  ],\n",
      "  \"execSystemLogicalQueue\": \"development\",\n",
      "  \"nodeCount\": 1,\n",
      "  \"coresPerNode\": 1,\n",
      "  \"parameterSet\": {\n",
      "    \"envVariables\": [\n",
      "      {\n",
      "        \"key\": \"tclScript\",\n",
      "        \"value\": \"N10_T3.tcl\"\n",
      "      }\n",
      "    ]\n",
      "  }\n",
      "}\n"
     ]
    }
   ],
   "source": [
    "job_info = dapi.jobs.generate_job_info(t, \"opensees-express\", input_uri, input_filename)\n",
    "job_info[\"maxMinutes\"] = 30\n",
    "job_info[\"execSystemLogicalQueue\"] = \"development\"\n",
    "print(\"\\n---Job Info---\\n\\n\" + json.dumps(job_info, indent=2))"
   ]
  },
  {
   "cell_type": "markdown",
   "metadata": {},
   "source": [
    "### Run job"
   ]
  },
  {
   "cell_type": "code",
   "execution_count": 20,
   "metadata": {},
   "outputs": [],
   "source": [
    "# Submit job\n",
    "job = t.jobs.submitJob(**job_info)\n",
    "jobUuid = job.uuid"
   ]
  },
  {
   "cell_type": "code",
   "execution_count": 21,
   "metadata": {},
   "outputs": [
    {
     "name": "stderr",
     "output_type": "stream",
     "text": [
      "Waiting for job to start: 3it [00:45, 15.07s/it, Status: RUNNING]    \n",
      "Monitoring job:   0%|                                                       | 0/120 [00:00<?, ?it/s]"
     ]
    },
    {
     "name": "stdout",
     "output_type": "stream",
     "text": [
      "\tStatus: RUNNING\n"
     ]
    },
    {
     "name": "stderr",
     "output_type": "stream",
     "text": [
      "Monitoring job:   6%|██▋                                            | 7/120 [01:45<28:21, 15.06s/it]"
     ]
    },
    {
     "name": "stdout",
     "output_type": "stream",
     "text": [
      "\tStatus: ARCHIVING\n"
     ]
    },
    {
     "name": "stderr",
     "output_type": "stream",
     "text": [
      "Monitoring job:   7%|███▏                                           | 8/120 [02:00<28:08, 15.08s/it]"
     ]
    },
    {
     "name": "stdout",
     "output_type": "stream",
     "text": [
      "\tStatus: FINISHED\n"
     ]
    },
    {
     "name": "stderr",
     "output_type": "stream",
     "text": [
      "\n"
     ]
    },
    {
     "data": {
      "text/plain": [
       "'FINISHED'"
      ]
     },
     "execution_count": 21,
     "metadata": {},
     "output_type": "execute_result"
    }
   ],
   "source": [
    "# Monitor job status\n",
    "dapi.jobs.get_status(t, jobUuid)"
   ]
  },
  {
   "cell_type": "code",
   "execution_count": 22,
   "metadata": {},
   "outputs": [
    {
     "name": "stdout",
     "output_type": "stream",
     "text": [
      "\n",
      "Runtime Summary\n",
      "---------------\n",
      "QUEUED  time: 00:00:00\n",
      "RUNNING time: 00:01:53\n",
      "TOTAL   time: 00:02:38\n",
      "---------------\n"
     ]
    }
   ],
   "source": [
    "# Get runtime summary\n",
    "dapi.jobs.runtime_summary(t, jobUuid)"
   ]
  },
  {
   "cell_type": "markdown",
   "metadata": {},
   "source": [
    "# Postprocess Results"
   ]
  },
  {
   "cell_type": "markdown",
   "metadata": {},
   "source": [
    "### Identify job, archived location and user"
   ]
  },
  {
   "cell_type": "code",
   "execution_count": null,
   "metadata": {},
   "outputs": [],
   "source": [
    "jobinfo = t.jobs.getJob(jobUuid=job.uuid)\n",
    "jobinfo.archiveSystemDir\n",
    "user = jobinfo.createdby\n",
    "print(jobinfo.archiveSystemDir)"
   ]
  },
  {
   "cell_type": "markdown",
   "metadata": {},
   "source": [
    "### Go to archived folder -- WIP archive files are stored in Work not accesible on OpenSees Jupyter VMs\n",
    "\n",
    "> Fix\n",
    "\n",
    "```json\n",
    "job_description[\"archiveSystemId\"] = \"designsafe.storage.default\"\n",
    "job_description[\"archiveSystemDir\"] = (\n",
    "    f\"{t.username}/tapis-jobs-archive/${{JobCreateDate}}/${{JobName}}-${{JobUUID}}\"\n",
    ")\n",
    "```"
   ]
  },
  {
   "cell_type": "code",
   "execution_count": null,
   "metadata": {},
   "outputs": [],
   "source": [
    "import os\n",
    "\n",
    "# %cd ..\n",
    "cur_dir_name = cur_dir.split(\"/\").pop()\n",
    "os.chdir(jobinfo.archiveSystemDir.replace(user, \"/home/jupyter/MyData\"))\n",
    "if not os.path.exists(cur_dir_name):\n",
    "    os.makedirs(cur_dir_name)\n",
    "os.chdir(cur_dir_name)"
   ]
  },
  {
   "cell_type": "markdown",
   "metadata": {},
   "source": [
    "### Import python libraries"
   ]
  },
  {
   "cell_type": "code",
   "execution_count": null,
   "metadata": {},
   "outputs": [],
   "source": [
    "%matplotlib inline\n",
    "import numpy as np\n",
    "import matplotlib.pyplot as plt"
   ]
  },
  {
   "cell_type": "markdown",
   "metadata": {},
   "source": [
    "### Plot acceleration time history"
   ]
  },
  {
   "cell_type": "markdown",
   "metadata": {},
   "source": [
    "Plot acceleration time hisotory and response spectra on log-linear scale"
   ]
  },
  {
   "cell_type": "code",
   "execution_count": null,
   "metadata": {},
   "outputs": [],
   "source": [
    "from plotAcc import plot_acc\n",
    "\n",
    "plot_acc()"
   ]
  },
  {
   "cell_type": "markdown",
   "metadata": {},
   "source": [
    "### Plot profiles"
   ]
  },
  {
   "cell_type": "markdown",
   "metadata": {},
   "source": [
    "Plot profiles of max displacement, PGA, max shear strain, stress ratio and plot stress strain near the center of liquefiable layer "
   ]
  },
  {
   "cell_type": "code",
   "execution_count": null,
   "metadata": {
    "scrolled": true
   },
   "outputs": [],
   "source": [
    "from plotProfile import plot_profile\n",
    "\n",
    "plot_profile()"
   ]
  },
  {
   "cell_type": "markdown",
   "metadata": {},
   "source": [
    "### Plot excess pore water pressure"
   ]
  },
  {
   "cell_type": "code",
   "execution_count": null,
   "metadata": {},
   "outputs": [],
   "source": [
    "from plotPorepressure import plot_porepressure\n",
    "\n",
    "plot_porepressure()"
   ]
  },
  {
   "cell_type": "markdown",
   "metadata": {},
   "source": [
    "# Generate LaTeX Report "
   ]
  },
  {
   "cell_type": "code",
   "execution_count": null,
   "metadata": {},
   "outputs": [],
   "source": [
    "# os.system('/usr/bin/pdflatex -interaction nonstopmode ShortReport.tex')"
   ]
  },
  {
   "cell_type": "code",
   "execution_count": null,
   "metadata": {},
   "outputs": [],
   "source": [
    "# Before we start let us install a python package for plotting\n",
    "try:\n",
    "    import rst2pdf\n",
    "\n",
    "except:\n",
    "    import pip\n",
    "\n",
    "    pip.main([\"install\", \"--user\", \"rst2pdf\"])\n",
    "    print(\"********* Please restart the session ***********\")\n",
    "\n",
    "import rst2pdf"
   ]
  },
  {
   "cell_type": "code",
   "execution_count": null,
   "metadata": {},
   "outputs": [],
   "source": [
    "import sys\n",
    "\n",
    "!{sys.executable} -m pip install rst2pdf -q"
   ]
  },
  {
   "cell_type": "code",
   "execution_count": null,
   "metadata": {},
   "outputs": [],
   "source": [
    "# 2024 - JupyterHub\n",
    "os.system(\"/home/jupyter/.local/bin/rst2pdf ShortReport.rst ShortReport.pdf\")\n",
    "# 2022 - JupyterHub\n",
    "# os.system('/opt/conda/bin/rst2pdf ShortReport.rst ShortReport.pdf')"
   ]
  },
  {
   "cell_type": "code",
   "execution_count": null,
   "metadata": {},
   "outputs": [],
   "source": [
    "class PDF(object):\n",
    "    def __init__(self, pdf, size=(200, 200)):\n",
    "        self.pdf = pdf\n",
    "        self.size = size\n",
    "\n",
    "    def _repr_html_(self):\n",
    "        return \"<iframe src={0} width={1[0]} height={1[1]}></iframe>\".format(\n",
    "            self.pdf, self.size\n",
    "        )\n",
    "\n",
    "    def _repr_latex_(self):\n",
    "        return r\"\\includegraphics[width=1.0\\textwidth]{{{0}}}\".format(self.pdf)"
   ]
  },
  {
   "cell_type": "code",
   "execution_count": null,
   "metadata": {},
   "outputs": [],
   "source": [
    "# pdf_fn = jobinfo.archiveSystemDir.replace(user, '/user/' + user + '/files/MyData')\n",
    "pdf_fn = jobinfo.archiveSystemDir.replace(\"/\" + user, \"../../../MyData\")\n",
    "\n",
    "pdf_fn += \"/\"\n",
    "pdf_fn += cur_dir.split(\"/\")[-1]\n",
    "pdf_fn += \"/ShortReport.pdf\""
   ]
  },
  {
   "cell_type": "code",
   "execution_count": null,
   "metadata": {},
   "outputs": [],
   "source": [
    "PDF(pdf_fn, (750, 600))"
   ]
  },
  {
   "cell_type": "markdown",
   "metadata": {},
   "source": [
    "# Create Interactive Plots"
   ]
  },
  {
   "cell_type": "markdown",
   "metadata": {},
   "source": [
    "### Pore water pressure"
   ]
  },
  {
   "cell_type": "code",
   "execution_count": null,
   "metadata": {},
   "outputs": [],
   "source": [
    "from interactiveplot import createpwpplot, createDispplot"
   ]
  },
  {
   "cell_type": "code",
   "execution_count": null,
   "metadata": {},
   "outputs": [],
   "source": [
    "createpwpplot()"
   ]
  },
  {
   "cell_type": "markdown",
   "metadata": {},
   "source": [
    "### Displacement"
   ]
  },
  {
   "cell_type": "code",
   "execution_count": null,
   "metadata": {},
   "outputs": [],
   "source": [
    "createDispplot()"
   ]
  },
  {
   "cell_type": "code",
   "execution_count": null,
   "metadata": {},
   "outputs": [],
   "source": []
  }
 ],
 "metadata": {
  "IMAGE_NAME": "taccsciapps/ds-nb-img:base-0.1.9",
  "UUID": "73e0880d-9b87-11ec-9c1c-13579dd95994",
  "celltoolbar": "Raw Cell Format",
  "kernelspec": {
   "display_name": "Python 3 (ipykernel)",
   "language": "python",
   "name": "python3"
  },
  "language_info": {
   "codemirror_mode": {
    "name": "ipython",
    "version": 3
   },
   "file_extension": ".py",
   "mimetype": "text/x-python",
   "name": "python",
   "nbconvert_exporter": "python",
   "pygments_lexer": "ipython3",
   "version": "3.10.6"
  }
 },
 "nbformat": 4,
 "nbformat_minor": 4
}
