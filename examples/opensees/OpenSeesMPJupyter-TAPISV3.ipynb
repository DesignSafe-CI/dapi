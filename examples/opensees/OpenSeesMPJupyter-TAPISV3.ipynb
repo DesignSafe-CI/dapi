{
 "cells": [
  {
   "cell_type": "markdown",
   "metadata": {},
   "source": [
    "# Multi-Free Field Analysis Example"
   ]
  },
  {
   "cell_type": "markdown",
   "metadata": {},
   "source": [
    "This example shows how to run OpenSeesMP in DesignSafe from a jupyter notebook.\n",
    "\n",
    "A set of four 1D profiles is analyzed using OpenSeesMP. "
   ]
  },
  {
   "cell_type": "markdown",
   "metadata": {},
   "source": [
    "<img src = \"multi-freeField.png\"  height=\"400\" width=\"400\" align = \"center\">"
   ]
  },
  {
   "cell_type": "markdown",
   "metadata": {},
   "source": [
    "# Setup Tapis and start OpenSeesMP job"
   ]
  },
  {
   "cell_type": "markdown",
   "metadata": {},
   "source": [
    "### Setup job description"
   ]
  },
  {
   "cell_type": "code",
   "execution_count": 4,
   "metadata": {},
   "outputs": [
    {
     "name": "stdout",
     "output_type": "stream",
     "text": [
      "Requirement already satisfied: jsonschema in /home/jupyter/.local/lib/python3.11/site-packages (4.17.3)\n",
      "Requirement already satisfied: attrs>=17.4.0 in /opt/conda/lib/python3.11/site-packages (from jsonschema) (23.1.0)\n",
      "Requirement already satisfied: pyrsistent!=0.17.0,!=0.17.1,!=0.17.2,>=0.14.0 in /opt/conda/lib/python3.11/site-packages (from jsonschema) (0.20.0)\n"
     ]
    }
   ],
   "source": [
    "!pip install jsonschema --user "
   ]
  },
  {
   "cell_type": "code",
   "execution_count": 1,
   "metadata": {},
   "outputs": [
    {
     "name": "stdout",
     "output_type": "stream",
     "text": [
      "\u001b[33m  WARNING: The scripts pip, pip3 and pip3.11 are installed in '/home/jupyter/.local/bin' which is not on PATH.\n",
      "  Consider adding this directory to PATH or, if you prefer to suppress this warning, use --no-warn-script-location.\u001b[0m\u001b[33m\n",
      "\u001b[0m\u001b[33m  WARNING: The script jsonschema is installed in '/home/jupyter/.local/bin' which is not on PATH.\n",
      "  Consider adding this directory to PATH or, if you prefer to suppress this warning, use --no-warn-script-location.\u001b[0m\u001b[33m\n",
      "\u001b[0m\u001b[31mERROR: pip's dependency resolver does not currently take into account all the packages that are installed. This behaviour is the source of the following dependency conflicts.\n",
      "jupyterlab-server 2.25.0 requires jsonschema>=4.18.0, but you have jsonschema 4.17.3 which is incompatible.\n",
      "jupyter-events 0.8.0 requires jsonschema[format-nongpl]>=4.18.0, but you have jsonschema 4.17.3 which is incompatible.\u001b[0m\u001b[31m\n",
      "\u001b[0m"
     ]
    }
   ],
   "source": [
    "!pip install --upgrade pip --user -q\n",
    "!pip install tapipy -q\n",
    "from tapipy.tapis import Tapis\n",
    "import json"
   ]
  },
  {
   "cell_type": "code",
   "execution_count": 2,
   "metadata": {},
   "outputs": [
    {
     "name": "stdin",
     "output_type": "stream",
     "text": [
      "input username:  ········\n",
      "input password:  ········\n"
     ]
    }
   ],
   "source": [
    "# Method using getpass --- PREFERRED\n",
    "# =================================\n",
    "\n",
    "from getpass import getpass\n",
    "# from tapipy.tapis import Tapis\n",
    "\n",
    "t = Tapis(\n",
    "  base_url = \"https://designsafe.tapis.io\",\n",
    "  username = getpass('input username: '),\n",
    "  password = getpass('input password: '))\n",
    "t.get_tokens()"
   ]
  },
  {
   "cell_type": "code",
   "execution_count": 5,
   "metadata": {},
   "outputs": [
    {
     "name": "stdout",
     "output_type": "stream",
     "text": [
      "tapis://designsafe.storage.default/kks32/OpenSees-T3\n"
     ]
    }
   ],
   "source": [
    "# Import libraries\n",
    "import os\n",
    "import uuid\n",
    "from datetime import date\n",
    "from DS_GenFunctionsV3 import * #General python functions useful for DesignSafe\n",
    "# ---------------------------------------------------------------------------------\n",
    "# Identify folder with input file in DesignSafe\n",
    "cur_dir        = os.getcwd()\n",
    "input_uri      = DS_GetDir(cur_dir, t)\n",
    "print(input_uri)"
   ]
  },
  {
   "cell_type": "code",
   "execution_count": 6,
   "metadata": {},
   "outputs": [],
   "source": [
    "# ---------------------------------------------------------------------------------\n",
    "# Define job name\n",
    "jobname = \"opensees-MP-multiMotion-Jupyter\"\n",
    "\n",
    "# ---------------------------------------------------------------------------------\n",
    "# Select tapis-app\n",
    "app_id          = \"opensees-mp-s3\"\n",
    "app_version     = \"3.7.0\"\n",
    "\n",
    "# ---------------------------------------------------------------------------------\n",
    "# Define file to run\n",
    "input_filename = \"Main_multiMotion.tcl\"\n",
    "\n",
    "# ---------------------------------------------------------------------------------\n",
    "# Define control tapis-app variables\n",
    "control_storage_id       = \"designsafe.storage.default\"\n",
    "control_execSystem       = \"stampede3\" #\"frontera\", \"stampede3-simcenter\"\n",
    "control_allocation       = \"-A DesignSafe-SimCenter\"  # MUST USE YOUR OWN ALLOCATION !!\n",
    "control_exec_Dir         = \"DS_input\"  # Folder with files including input_filename\n",
    "control_nodeCount        = 1\n",
    "control_corespernode     = 16\n",
    "control_memoryMB         = 1000\n",
    "control_maxMinutes       = 60\n",
    "\n",
    "if control_execSystem == \"frontera\":\n",
    "    control_batchQueue = \"development\"  #\"normal\"\n",
    "elif control_execSystem == \"stampede3\" :\n",
    "    control_batchQueue = \"skx-dev\"      # \"skx\"\n",
    "elif control_execSystem == \"stampede3-simcenter\":\n",
    "    control_batchQueue = \"simcenter\"\n",
    "else:\n",
    "    print(\"wrong execSystem\")"
   ]
  },
  {
   "cell_type": "code",
   "execution_count": 9,
   "metadata": {},
   "outputs": [],
   "source": [
    "# -------------------------------------------------------------------------------\n",
    "# Define inputs\n",
    "fileInputs = [{\"name\": \"Input Directory\", \"sourceUrl\": f\"{input_uri}/{control_exec_Dir}\"}]\n",
    "\n",
    "# -------------------------------------------------------------------------------\n",
    "# Define parameters\n",
    "parameterSet = {\"appArgs\":[]}\n",
    "parameterSet[\"appArgs\"].append({\"name\": \"Main Script\", \"arg\": input_filename})\n",
    "parameterSet[\"schedulerOptions\"] = [{\"arg\": control_allocation}]"
   ]
  },
  {
   "cell_type": "code",
   "execution_count": 10,
   "metadata": {},
   "outputs": [
    {
     "name": "stdout",
     "output_type": "stream",
     "text": [
      "{\n",
      "  \"name\": \"opensees-MP-multiMotion-Jupyter\",\n",
      "  \"appId\": \"opensees-mp-s3\",\n",
      "  \"appVersion\": \"3.7.0\",\n",
      "  \"execSystemLogicalQueue\": \"skx-dev\",\n",
      "  \"execSystemId\": \"stampede3\",\n",
      "  \"execSystemExecDir\": \"${JobWorkingDir}\",\n",
      "  \"archiveSystemId\": \"designsafe.storage.default\",\n",
      "  \"archiveSystemDir\": \"${EffectiveUserId}/tapis-jobs-archive/${JobCreateDate}/${JobUUID}\",\n",
      "  \"maxMinutes\": 60,\n",
      "  \"nodeCount\": 1,\n",
      "  \"coresPerNode\": 16,\n",
      "  \"fileInputs\": [\n",
      "    {\n",
      "      \"name\": \"Input Directory\",\n",
      "      \"sourceUrl\": \"tapis://designsafe.storage.default/kks32/OpenSees-T3/DS_input\"\n",
      "    }\n",
      "  ],\n",
      "  \"parameterSet\": {\n",
      "    \"appArgs\": [\n",
      "      {\n",
      "        \"name\": \"Main Script\",\n",
      "        \"arg\": \"Main_multiMotion.tcl\"\n",
      "      }\n",
      "    ],\n",
      "    \"schedulerOptions\": [\n",
      "      {\n",
      "        \"arg\": \"-A DesignSafe-SimCenter\"\n",
      "      }\n",
      "    ]\n",
      "  }\n",
      "}\n"
     ]
    }
   ],
   "source": [
    "# -------------------------------------------------------------------------------\n",
    "# Define job description\n",
    "app = t.apps.getApp(appId=app_id, appVersion=app_version)\n",
    "job_description = {}\n",
    "job_description[\"name\"] = jobname\n",
    "job_description[\"appId\"] = app_id\n",
    "job_description[\"appVersion\"] = app_version\n",
    "\n",
    "job_description[\"execSystemLogicalQueue\"] = control_batchQueue\n",
    "job_description[\"execSystemId\"] = control_execSystem\n",
    "job_description[\"execSystemExecDir\"] = \"${JobWorkingDir}\"\n",
    "\n",
    "job_description[\"archiveSystemId\"] = control_storage_id\n",
    "job_description[\"archiveSystemDir\"] = \"${EffectiveUserId}/tapis-jobs-archive/${JobCreateDate}/${JobUUID}\"\n",
    "\n",
    "job_description[\"maxMinutes\"] = control_maxMinutes\n",
    "job_description[\"nodeCount\"] = control_nodeCount\n",
    "job_description[\"coresPerNode\"] = control_corespernode\n",
    "\n",
    "job_description[\"fileInputs\"] = fileInputs\n",
    "job_description[\"parameterSet\"] = parameterSet\n",
    "print(json.dumps(job_description, indent=2))"
   ]
  },
  {
   "cell_type": "markdown",
   "metadata": {},
   "source": [
    "### Run job"
   ]
  },
  {
   "cell_type": "code",
   "execution_count": 11,
   "metadata": {},
   "outputs": [
    {
     "ename": "BadRequestError",
     "evalue": "message: No more authentication methods available",
     "output_type": "error",
     "traceback": [
      "\u001b[0;31m---------------------------------------------------------------------------\u001b[0m",
      "\u001b[0;31mBadRequestError\u001b[0m                           Traceback (most recent call last)",
      "Cell \u001b[0;32mIn[11], line 2\u001b[0m\n\u001b[1;32m      1\u001b[0m \u001b[38;5;66;03m# Submit job\u001b[39;00m\n\u001b[0;32m----> 2\u001b[0m job \u001b[38;5;241m=\u001b[39m \u001b[43mt\u001b[49m\u001b[38;5;241;43m.\u001b[39;49m\u001b[43mjobs\u001b[49m\u001b[38;5;241;43m.\u001b[39;49m\u001b[43msubmitJob\u001b[49m\u001b[43m(\u001b[49m\u001b[38;5;241;43m*\u001b[39;49m\u001b[38;5;241;43m*\u001b[39;49m\u001b[43mjob_description\u001b[49m\u001b[43m)\u001b[49m\n\u001b[1;32m      3\u001b[0m jobUuid\u001b[38;5;241m=\u001b[39mjob\u001b[38;5;241m.\u001b[39muuid\n\u001b[1;32m      5\u001b[0m \u001b[38;5;28mprint\u001b[39m(\u001b[38;5;124m\"\u001b[39m\u001b[38;5;124m Job launched. Status provided below\u001b[39m\u001b[38;5;124m\"\u001b[39m)\n",
      "File \u001b[0;32m/opt/conda/lib/python3.11/site-packages/tapipy/util.py:152\u001b[0m, in \u001b[0;36mretriable.<locals>.wrapper\u001b[0;34m(self, _config, *args, **kwargs)\u001b[0m\n\u001b[1;32m    145\u001b[0m             retry_delay_sec \u001b[38;5;241m=\u001b[39m backoff(\n\u001b[1;32m    146\u001b[0m                 retry_delay_sec,\n\u001b[1;32m    147\u001b[0m                 algo\u001b[38;5;241m=\u001b[39mretry_backoff_algo,\n\u001b[1;32m    148\u001b[0m                 exponent\u001b[38;5;241m=\u001b[39mretry_backoff_exponent\n\u001b[1;32m    149\u001b[0m             )\n\u001b[1;32m    150\u001b[0m             \u001b[38;5;28;01mcontinue\u001b[39;00m\n\u001b[0;32m--> 152\u001b[0m         \u001b[38;5;28;01mraise\u001b[39;00m exception\n\u001b[1;32m    154\u001b[0m \u001b[38;5;28;01mraise\u001b[39;00m exception\n",
      "File \u001b[0;32m/opt/conda/lib/python3.11/site-packages/tapipy/util.py:138\u001b[0m, in \u001b[0;36mretriable.<locals>.wrapper\u001b[0;34m(self, _config, *args, **kwargs)\u001b[0m\n\u001b[1;32m    136\u001b[0m \u001b[38;5;28;01mwhile\u001b[39;00m retries \u001b[38;5;241m>\u001b[39m\u001b[38;5;241m=\u001b[39m \u001b[38;5;241m0\u001b[39m:\n\u001b[1;32m    137\u001b[0m     \u001b[38;5;28;01mtry\u001b[39;00m:\n\u001b[0;32m--> 138\u001b[0m         \u001b[38;5;28;01mreturn\u001b[39;00m \u001b[43mop__call__\u001b[49m\u001b[43m(\u001b[49m\u001b[38;5;28;43mself\u001b[39;49m\u001b[43m,\u001b[49m\u001b[43m \u001b[49m\u001b[38;5;241;43m*\u001b[39;49m\u001b[43margs\u001b[49m\u001b[43m,\u001b[49m\u001b[43m \u001b[49m\u001b[38;5;241;43m*\u001b[39;49m\u001b[38;5;241;43m*\u001b[39;49m\u001b[43mkwargs\u001b[49m\u001b[43m)\u001b[49m\n\u001b[1;32m    139\u001b[0m     \u001b[38;5;28;01mexcept\u001b[39;00m \u001b[38;5;167;01mException\u001b[39;00m \u001b[38;5;28;01mas\u001b[39;00m e:\n\u001b[1;32m    140\u001b[0m         exception \u001b[38;5;241m=\u001b[39m e\n",
      "File \u001b[0;32m/opt/conda/lib/python3.11/site-packages/tapipy/tapis.py:1229\u001b[0m, in \u001b[0;36mOperation.__call__\u001b[0;34m(self, **kwargs)\u001b[0m\n\u001b[1;32m   1227\u001b[0m \u001b[38;5;66;03m# for any kind of non-20x response, we need to raise an error.\u001b[39;00m\n\u001b[1;32m   1228\u001b[0m \u001b[38;5;28;01mif\u001b[39;00m resp\u001b[38;5;241m.\u001b[39mstatus_code \u001b[38;5;241m==\u001b[39m \u001b[38;5;241m400\u001b[39m:\n\u001b[0;32m-> 1229\u001b[0m     \u001b[38;5;28;01mraise\u001b[39;00m errors\u001b[38;5;241m.\u001b[39mBadRequestError(msg\u001b[38;5;241m=\u001b[39merror_msg, version\u001b[38;5;241m=\u001b[39mversion, request\u001b[38;5;241m=\u001b[39mr, response\u001b[38;5;241m=\u001b[39mresp)\n\u001b[1;32m   1230\u001b[0m \u001b[38;5;28;01mif\u001b[39;00m resp\u001b[38;5;241m.\u001b[39mstatus_code \u001b[38;5;241m==\u001b[39m \u001b[38;5;241m401\u001b[39m:\n\u001b[1;32m   1231\u001b[0m     \u001b[38;5;28;01mraise\u001b[39;00m errors\u001b[38;5;241m.\u001b[39mUnauthorizedError(msg\u001b[38;5;241m=\u001b[39merror_msg, version\u001b[38;5;241m=\u001b[39mversion, request\u001b[38;5;241m=\u001b[39mr, response\u001b[38;5;241m=\u001b[39mresp)\n",
      "\u001b[0;31mBadRequestError\u001b[0m: message: No more authentication methods available"
     ]
    }
   ],
   "source": [
    "# Submit job\n",
    "job = t.jobs.submitJob(**job_description)\n",
    "jobUuid=job.uuid\n",
    "\n",
    "print(\" Job launched. Status provided below\")\n",
    "print(\" Can also check in DedignSafe portal under - Workspace > Tools & Application > Job Status\")"
   ]
  },
  {
   "cell_type": "code",
   "execution_count": null,
   "metadata": {},
   "outputs": [],
   "source": [
    "#Check status\n",
    "status = DS_GetStatus(t, jobUuid, tlapse=1)\n",
    "\n",
    "# Check Runtime\n",
    "DS_GetRuntime(t, jobUuid)"
   ]
  },
  {
   "cell_type": "markdown",
   "metadata": {
    "tags": []
   },
   "source": [
    "# Postprocess Results"
   ]
  },
  {
   "cell_type": "markdown",
   "metadata": {},
   "source": [
    "### Identify job, archived location and user"
   ]
  },
  {
   "cell_type": "code",
   "execution_count": null,
   "metadata": {},
   "outputs": [],
   "source": [
    "jobinfo = t.jobs.getJob(jobUuid=job.uuid)\n",
    "jobinfo.archiveSystemDir\n",
    "user = jobinfo.createdby"
   ]
  },
  {
   "cell_type": "markdown",
   "metadata": {},
   "source": [
    "### Go to archived folder"
   ]
  },
  {
   "cell_type": "code",
   "execution_count": null,
   "metadata": {},
   "outputs": [],
   "source": [
    "os.chdir(jobinfo.archiveSystemDir.replace(user,'/home/jupyter/MyData'))\n",
    "# os.chdir(control_exec_Dir)\n",
    "os.chdir(\"inputDirectory\")"
   ]
  },
  {
   "cell_type": "markdown",
   "metadata": {},
   "source": [
    "### Import python libraries"
   ]
  },
  {
   "cell_type": "code",
   "execution_count": null,
   "metadata": {},
   "outputs": [],
   "source": [
    "%matplotlib inline\n",
    "import numpy as np\n",
    "import matplotlib.pyplot as plt"
   ]
  },
  {
   "cell_type": "markdown",
   "metadata": {},
   "source": [
    "### Plot acceleration response spectra"
   ]
  },
  {
   "cell_type": "markdown",
   "metadata": {},
   "source": [
    "Plot acceleration response spectra on log-linear scale"
   ]
  },
  {
   "cell_type": "code",
   "execution_count": null,
   "metadata": {},
   "outputs": [],
   "source": [
    "from plotAcc import plot_acc\n",
    "plot_acc()"
   ]
  },
  {
   "cell_type": "code",
   "execution_count": null,
   "metadata": {},
   "outputs": [],
   "source": []
  }
 ],
 "metadata": {
  "IMAGE_NAME": "taccsciapps/ds-nb-img:base-0.2.1",
  "UUID": "9040e1a6-9b87-11ec-bc14-13579dd95994",
  "celltoolbar": "Raw Cell Format",
  "kernelspec": {
   "display_name": "Python 3 (ipykernel)",
   "language": "python",
   "name": "python3"
  },
  "language_info": {
   "codemirror_mode": {
    "name": "ipython",
    "version": 3
   },
   "file_extension": ".py",
   "mimetype": "text/x-python",
   "name": "python",
   "nbconvert_exporter": "python",
   "pygments_lexer": "ipython3",
   "version": "3.11.6"
  }
 },
 "nbformat": 4,
 "nbformat_minor": 4
}
