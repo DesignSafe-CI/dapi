{
 "cells": [
  {
   "cell_type": "markdown",
   "metadata": {},
   "source": [
    "# Multi-Free Field Analysis Example"
   ]
  },
  {
   "cell_type": "markdown",
   "metadata": {},
   "source": [
    "This example shows how to run OpenSeesMP in DesignSafe from a jupyter notebook.\n",
    "\n",
    "A set of four 1D profiles is analyzed using OpenSeesMP. "
   ]
  },
  {
   "cell_type": "markdown",
   "metadata": {},
   "source": [
    "<img src = \"multi-freeField.png\"  height=\"400\" width=\"400\" align = \"center\">"
   ]
  },
  {
   "cell_type": "markdown",
   "metadata": {},
   "source": [
    "# Setup Tapis and start OpenSeesMP job"
   ]
  },
  {
   "cell_type": "code",
   "execution_count": 1,
   "metadata": {},
   "outputs": [
    {
     "name": "stdout",
     "output_type": "stream",
     "text": [
      "Requirement already satisfied: numpy in /opt/conda/lib/python3.12/site-packages (1.26.4)\n",
      "Collecting numpy\n",
      "  Downloading numpy-2.2.6-cp312-cp312-manylinux_2_17_x86_64.manylinux2014_x86_64.whl.metadata (62 kB)\n",
      "Downloading numpy-2.2.6-cp312-cp312-manylinux_2_17_x86_64.manylinux2014_x86_64.whl (16.5 MB)\n",
      "\u001b[2K   \u001b[90m━━━━━━━━━━━━━━━━━━━━━━━━━━━━━━━━━━━━━━━━\u001b[0m \u001b[32m16.5/16.5 MB\u001b[0m \u001b[31m66.1 MB/s\u001b[0m eta \u001b[36m0:00:00\u001b[0m:00:01\u001b[0m\n",
      "\u001b[?25hInstalling collected packages: numpy\n",
      "  Attempting uninstall: numpy\n",
      "    Found existing installation: numpy 1.26.4\n",
      "    Uninstalling numpy-1.26.4:\n",
      "      Successfully uninstalled numpy-1.26.4\n",
      "\u001b[31mERROR: pip's dependency resolver does not currently take into account all the packages that are installed. This behaviour is the source of the following dependency conflicts.\n",
      "pandas 2.2.1 requires numpy<2,>=1.26.0; python_version >= \"3.12\", but you have numpy 2.2.6 which is incompatible.\n",
      "scipy 1.11.3 requires numpy<1.28.0,>=1.21.6, but you have numpy 2.2.6 which is incompatible.\u001b[0m\u001b[31m\n",
      "\u001b[0mSuccessfully installed numpy-2.2.6\n"
     ]
    }
   ],
   "source": [
    "!python -m pip install --upgrade numpy"
   ]
  },
  {
   "cell_type": "markdown",
   "metadata": {},
   "source": [
    "### Setup job description"
   ]
  },
  {
   "cell_type": "code",
   "execution_count": 2,
   "metadata": {},
   "outputs": [],
   "source": [
    "!pip install --upgrade pip --user -q\n",
    "!pip install tapipy -q\n",
    "from tapipy.tapis import Tapis"
   ]
  },
  {
   "cell_type": "code",
   "execution_count": 3,
   "metadata": {},
   "outputs": [
    {
     "name": "stdin",
     "output_type": "stream",
     "text": [
      "input username:  ········\n",
      "input password:  ········\n"
     ]
    }
   ],
   "source": [
    "# Method using getpass --- PREFERRED\n",
    "# =================================\n",
    "\n",
    "from getpass import getpass\n",
    "\n",
    "# from tapipy.tapis import Tapis\n",
    "\n",
    "t = Tapis(\n",
    "    base_url=\"https://designsafe.tapis.io\",\n",
    "    username=getpass(\"input username: \"),\n",
    "    password=getpass(\"input password: \"),\n",
    ")\n",
    "t.get_tokens()"
   ]
  },
  {
   "cell_type": "code",
   "execution_count": 4,
   "metadata": {},
   "outputs": [],
   "source": [
    "# Import libraries\n",
    "import os\n",
    "import uuid\n",
    "from datetime import date\n",
    "from DS_GenFunctionsV3 import *  # General python functions useful for DesignSafe\n",
    "\n",
    "# ---------------------------------------------------------------------------------\n",
    "# Identify folder with input file in DesignSafe\n",
    "cur_dir = os.getcwd()\n",
    "input_uri = DS_GetDir(cur_dir, t)"
   ]
  },
  {
   "cell_type": "code",
   "execution_count": 5,
   "metadata": {},
   "outputs": [],
   "source": [
    "# ---------------------------------------------------------------------------------\n",
    "# Define job name\n",
    "jobname = \"opensees-MP-multiMotion-Jupyter\"\n",
    "\n",
    "# ---------------------------------------------------------------------------------\n",
    "# Select tapis-app\n",
    "app_id = \"opensees-mp-s3\"\n",
    "app_version = \"3.7.0\"\n",
    "\n",
    "# ---------------------------------------------------------------------------------\n",
    "# Define file to run\n",
    "input_filename = \"Main_multiMotion.tcl\"\n",
    "\n",
    "# ---------------------------------------------------------------------------------\n",
    "# Define control tapis-app variables\n",
    "control_storage_id = \"designsafe.storage.default\"\n",
    "control_execSystem = \"stampede3\"  # \"frontera\", \"stampede3-simcenter\"\n",
    "control_allocation = \"-A DesignSafe-SimCenter\"  # MUST USE YOUR OWN ALLOCATION !!\n",
    "control_exec_Dir = \"DS_input\"  # Folder with files including input_filename\n",
    "control_nodeCount = 1\n",
    "control_corespernode = 16\n",
    "control_memoryMB = 1000\n",
    "control_maxMinutes = 60\n",
    "\n",
    "if control_execSystem == \"frontera\":\n",
    "    control_batchQueue = \"development\"  # \"normal\"\n",
    "elif control_execSystem == \"stampede3\":\n",
    "    control_batchQueue = \"skx-dev\"  # \"skx\"\n",
    "elif control_execSystem == \"stampede3-simcenter\":\n",
    "    control_batchQueue = \"simcenter\"\n",
    "else:\n",
    "    print(\"wrong execSystem\")"
   ]
  },
  {
   "cell_type": "code",
   "execution_count": 6,
   "metadata": {},
   "outputs": [],
   "source": [
    "# -------------------------------------------------------------------------------\n",
    "# Define inputs\n",
    "fileInputs = [\n",
    "    {\"name\": \"Input Directory\", \"sourceUrl\": f\"{input_uri}/{control_exec_Dir}\"}\n",
    "]\n",
    "\n",
    "# -------------------------------------------------------------------------------\n",
    "# Define parameters\n",
    "parameterSet = {\"appArgs\": []}\n",
    "parameterSet[\"appArgs\"].append({\"name\": \"Main Script\", \"arg\": input_filename})\n",
    "parameterSet[\"schedulerOptions\"] = [{\"arg\": control_allocation}]"
   ]
  },
  {
   "cell_type": "code",
   "execution_count": 7,
   "metadata": {},
   "outputs": [],
   "source": [
    "# -------------------------------------------------------------------------------\n",
    "# Define job description\n",
    "app = t.apps.getApp(appId=app_id, appVersion=app_version)\n",
    "job_description = {}\n",
    "job_description[\"name\"] = jobname\n",
    "job_description[\"appId\"] = app_id\n",
    "job_description[\"appVersion\"] = app_version\n",
    "\n",
    "job_description[\"execSystemLogicalQueue\"] = control_batchQueue\n",
    "job_description[\"execSystemId\"] = control_execSystem\n",
    "job_description[\"execSystemExecDir\"] = \"${JobWorkingDir}\"\n",
    "\n",
    "job_description[\"archiveSystemId\"] = control_storage_id\n",
    "job_description[\n",
    "    \"archiveSystemDir\"\n",
    "] = \"${EffectiveUserId}/tapis-jobs-archive/${JobCreateDate}/${JobUUID}\"\n",
    "\n",
    "job_description[\"maxMinutes\"] = control_maxMinutes\n",
    "job_description[\"nodeCount\"] = control_nodeCount\n",
    "job_description[\"coresPerNode\"] = control_corespernode\n",
    "\n",
    "job_description[\"fileInputs\"] = fileInputs\n",
    "job_description[\"parameterSet\"] = parameterSet"
   ]
  },
  {
   "cell_type": "markdown",
   "metadata": {},
   "source": [
    "### Run job"
   ]
  },
  {
   "cell_type": "code",
   "execution_count": 8,
   "metadata": {},
   "outputs": [
    {
     "name": "stdout",
     "output_type": "stream",
     "text": [
      " Job launched. Status provided below\n",
      " Can also check in DedignSafe portal under - Workspace > Tools & Application > Job Status\n"
     ]
    }
   ],
   "source": [
    "# Submit job\n",
    "job = t.jobs.submitJob(**job_description)\n",
    "jobUuid = job.uuid\n",
    "\n",
    "print(\" Job launched. Status provided below\")\n",
    "print(\n",
    "    \" Can also check in DedignSafe portal under - Workspace > Tools & Application > Job Status\"\n",
    ")"
   ]
  },
  {
   "cell_type": "code",
   "execution_count": 9,
   "metadata": {},
   "outputs": [
    {
     "name": "stdout",
     "output_type": "stream",
     "text": [
      " Job launched. Status provided below\n",
      " Can also check in DesignSafe portal under - Workspace > Tools & Application > Job Status\n",
      "\tStatus: PENDING\n",
      "\tStatus: PROCESSING_INPUTS\n",
      "\tStatus: STAGING_INPUTS\n",
      "\tStatus: STAGING_JOB\n",
      "\tStatus: SUBMITTING_JOB\n",
      "\tStatus: FAILED\n",
      "\n",
      "Runtime Summary\n",
      "---------------\n",
      "TOTAL   time: 0:01:11.880341\n"
     ]
    }
   ],
   "source": [
    "# Check status\n",
    "status = DS_GetStatus(t, jobUuid, tlapse=1)\n",
    "\n",
    "# Check Runtime\n",
    "DS_GetRuntime(t, jobUuid)"
   ]
  },
  {
   "cell_type": "markdown",
   "metadata": {
    "tags": []
   },
   "source": [
    "# Postprocess Results"
   ]
  },
  {
   "cell_type": "markdown",
   "metadata": {},
   "source": [
    "### Identify job, archived location and user"
   ]
  },
  {
   "cell_type": "code",
   "execution_count": 10,
   "metadata": {},
   "outputs": [],
   "source": [
    "jobinfo = t.jobs.getJob(jobUuid=job.uuid)\n",
    "jobinfo.archiveSystemDir\n",
    "user = jobinfo.createdby"
   ]
  },
  {
   "cell_type": "markdown",
   "metadata": {},
   "source": [
    "### Go to archived folder"
   ]
  },
  {
   "cell_type": "code",
   "execution_count": 11,
   "metadata": {},
   "outputs": [
    {
     "ename": "FileNotFoundError",
     "evalue": "[Errno 2] No such file or directory: 'inputDirectory'",
     "output_type": "error",
     "traceback": [
      "\u001b[31m---------------------------------------------------------------------------\u001b[39m",
      "\u001b[31mFileNotFoundError\u001b[39m                         Traceback (most recent call last)",
      "\u001b[36mCell\u001b[39m\u001b[36m \u001b[39m\u001b[32mIn[11]\u001b[39m\u001b[32m, line 3\u001b[39m\n\u001b[32m      1\u001b[39m os.chdir(jobinfo.archiveSystemDir.replace(user,\u001b[33m'\u001b[39m\u001b[33m/home/jupyter/MyData\u001b[39m\u001b[33m'\u001b[39m))\n\u001b[32m      2\u001b[39m \u001b[38;5;66;03m# os.chdir(control_exec_Dir)\u001b[39;00m\n\u001b[32m----> \u001b[39m\u001b[32m3\u001b[39m \u001b[43mos\u001b[49m\u001b[43m.\u001b[49m\u001b[43mchdir\u001b[49m\u001b[43m(\u001b[49m\u001b[33;43m\"\u001b[39;49m\u001b[33;43minputDirectory\u001b[39;49m\u001b[33;43m\"\u001b[39;49m\u001b[43m)\u001b[49m\n",
      "\u001b[31mFileNotFoundError\u001b[39m: [Errno 2] No such file or directory: 'inputDirectory'"
     ]
    }
   ],
   "source": [
    "os.chdir(jobinfo.archiveSystemDir.replace(user, \"/home/jupyter/MyData\"))\n",
    "# os.chdir(control_exec_Dir)\n",
    "os.chdir(\"inputDirectory\")"
   ]
  },
  {
   "cell_type": "markdown",
   "metadata": {},
   "source": [
    "### Import python libraries"
   ]
  },
  {
   "cell_type": "code",
   "execution_count": null,
   "metadata": {},
   "outputs": [],
   "source": [
    "%matplotlib inline\n",
    "import numpy as np\n",
    "import matplotlib.pyplot as plt"
   ]
  },
  {
   "cell_type": "markdown",
   "metadata": {},
   "source": [
    "### Plot acceleration response spectra"
   ]
  },
  {
   "cell_type": "markdown",
   "metadata": {},
   "source": [
    "Plot acceleration response spectra on log-linear scale"
   ]
  },
  {
   "cell_type": "code",
   "execution_count": null,
   "metadata": {},
   "outputs": [],
   "source": [
    "from plotAcc import plot_acc\n",
    "\n",
    "plot_acc()"
   ]
  }
 ],
 "metadata": {
  "IMAGE_NAME": "taccsciapps/ds-nb-img:base-0.2.1",
  "UUID": "9040e1a6-9b87-11ec-bc14-13579dd95994",
  "celltoolbar": "Raw Cell Format",
  "kernelspec": {
   "display_name": "Python 3 (ipykernel)",
   "language": "python",
   "name": "python3"
  },
  "language_info": {
   "codemirror_mode": {
    "name": "ipython",
    "version": 3
   },
   "file_extension": ".py",
   "mimetype": "text/x-python",
   "name": "python",
   "nbconvert_exporter": "python",
   "pygments_lexer": "ipython3",
   "version": "3.12.10"
  }
 },
 "nbformat": 4,
 "nbformat_minor": 4
}
