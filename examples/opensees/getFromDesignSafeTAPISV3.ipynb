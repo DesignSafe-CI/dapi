{
 "cells": [
  {
   "cell_type": "markdown",
   "metadata": {},
   "source": [
    "# Retrieving and Post-Processing Previous Jobs from DesignSafe\n",
    "Pedro Arduino - UW Computational Geomechanics Group"
   ]
  },
  {
   "cell_type": "markdown",
   "metadata": {},
   "source": [
    "This notebook reads and post-processes previous jobs executed on DesignSafe, whether run through the portal or a Jupyter Notebook."
   ]
  },
  {
   "cell_type": "markdown",
   "metadata": {},
   "source": [
    "# Import required libraries"
   ]
  },
  {
   "cell_type": "code",
   "execution_count": null,
   "metadata": {},
   "outputs": [],
   "source": [
    "# Before we start let us install a python package for plotting\n",
    "try:\n",
    "    import seaborn\n",
    "\n",
    "except:\n",
    "    import pip\n",
    "\n",
    "    pip.main([\"install\", \"--user\", \"seaborn\", \"-q\"])\n",
    "    pip.main(\n",
    "        [\"install\", \"--user\", \"matplotlib\", \"--upgrade\", \"-q\"]\n",
    "    )  # This is needed in order to use sb.kde\n",
    "    print(\"********* Please restart the session ***********\")\n",
    "    import IPython\n",
    "\n",
    "    IPython.Application.instance().kernel.do_shutdown(\n",
    "        True\n",
    "    )  # automatically restarts kernel"
   ]
  },
  {
   "cell_type": "code",
   "execution_count": null,
   "metadata": {},
   "outputs": [],
   "source": [
    "pip install tabulate -q"
   ]
  },
  {
   "cell_type": "code",
   "execution_count": null,
   "metadata": {},
   "outputs": [],
   "source": [
    "import tabulate\n",
    "import seaborn as sns\n",
    "from IPython.display import HTML, display"
   ]
  },
  {
   "cell_type": "markdown",
   "metadata": {
    "tags": []
   },
   "source": [
    "# Setup tapis"
   ]
  },
  {
   "cell_type": "code",
   "execution_count": null,
   "metadata": {},
   "outputs": [],
   "source": [
    "!pip install --upgrade pip --user -q\n",
    "!pip install tapipy -q\n",
    "from tapipy.tapis import Tapis"
   ]
  },
  {
   "cell_type": "code",
   "execution_count": null,
   "metadata": {},
   "outputs": [],
   "source": [
    "# Method using getpass --- PREFERRED\n",
    "# =================================\n",
    "\n",
    "from getpass import getpass\n",
    "\n",
    "# from tapipy.tapis import Tapis\n",
    "\n",
    "t = Tapis(\n",
    "    base_url=\"https://designsafe.tapis.io\",\n",
    "    username=getpass(\"input username: \"),\n",
    "    password=getpass(\"input password: \"),\n",
    ")\n",
    "t.get_tokens()"
   ]
  },
  {
   "cell_type": "code",
   "execution_count": null,
   "metadata": {},
   "outputs": [],
   "source": [
    "from DS_GenFunctionsV3 import *  # General python functions useful for DesignSafe\n",
    "import os\n",
    "import uuid\n",
    "from datetime import date"
   ]
  },
  {
   "cell_type": "markdown",
   "metadata": {},
   "source": [
    "## Get job index\n",
    "\n",
    "Specify the tool name and list length"
   ]
  },
  {
   "cell_type": "code",
   "execution_count": null,
   "metadata": {},
   "outputs": [],
   "source": [
    "toolName = \"opensees\"\n",
    "listLength = 25"
   ]
  },
  {
   "cell_type": "code",
   "execution_count": null,
   "metadata": {},
   "outputs": [],
   "source": [
    "jobs_list = t.jobs.getJobList(\n",
    "    limit=10, orderBy=\"lastUpdated(desc),name(asc)\", computeTotal=True\n",
    ")"
   ]
  },
  {
   "cell_type": "code",
   "execution_count": null,
   "metadata": {},
   "outputs": [],
   "source": [
    "# header = [\"index\",\"name\",\"status\",\"created\",\"uuid\", \"owner\",\"archiveSystemId\",\"execSystemId\"]\n",
    "header = [\"index\", \"name\", \"status\", \"created\", \"uuid\", \"owner\", \"execSystemId\"]\n",
    "\n",
    "rows = []\n",
    "count = 1\n",
    "for x in jobs_list:\n",
    "    row = [count]\n",
    "    if x.name.startswith(toolName):\n",
    "        count += 1\n",
    "        for key in header[1:]:\n",
    "            row += [getattr(x, key)]\n",
    "        rows += [row]\n",
    "        if count > listLength:\n",
    "            break\n",
    "# print(tabulate.tabulate(rows, header, tablefmt='rst'))\n",
    "display(HTML(tabulate.tabulate(rows, header, tablefmt=\"html\")))\n",
    "\n",
    "print(\"Please select the index\")"
   ]
  },
  {
   "cell_type": "code",
   "execution_count": null,
   "metadata": {},
   "outputs": [],
   "source": [
    "idx = 1"
   ]
  },
  {
   "cell_type": "markdown",
   "metadata": {},
   "source": [
    "### Identify job status and location"
   ]
  },
  {
   "cell_type": "code",
   "execution_count": null,
   "metadata": {},
   "outputs": [],
   "source": [
    "jobid = rows[idx - 1][4]\n",
    "archiveSystem = rows[idx - 1][6]\n",
    "if not rows[idx - 1][2] == \"FINISHED\":\n",
    "    raise SystemExit(\"The job failed or incomplete!\")\n",
    "# t.jobs.getJobOutputDownload(jobUuid=jobid, outputPath='/')\n",
    "files = t.jobs.getJobOutputList(jobUuid=jobid, outputPath=\"/\")\n",
    "archivePath = files[0].url.split(jobid)[0] + jobid\n",
    "archivePath = archivePath.split(\"tapis://designsafe.storage.default/\")[-1]"
   ]
  },
  {
   "cell_type": "markdown",
   "metadata": {},
   "source": [
    "### Go to archived folder"
   ]
  },
  {
   "cell_type": "code",
   "execution_count": null,
   "metadata": {},
   "outputs": [],
   "source": [
    "jobFolderPath = \"/home/jupyter/MyData/\" + \"/\".join(archivePath.split(\"/\")[1:])\n",
    "inputFolderName = \"/inputDirectory\"\n",
    "FolderPath = jobFolderPath + inputFolderName\n",
    "os.chdir(FolderPath)\n",
    "\n",
    "files = os.listdir(FolderPath)\n",
    "listFiles = False\n",
    "\n",
    "if files:\n",
    "    print(\"Files are present in the directory.\")\n",
    "    if listFiles:\n",
    "        for file in files:\n",
    "            print(f\"- {file}\")\n",
    "else:\n",
    "    print(\"No files found in the directory.\")"
   ]
  },
  {
   "cell_type": "markdown",
   "metadata": {},
   "source": [
    "# Postprocess Results"
   ]
  },
  {
   "cell_type": "markdown",
   "metadata": {},
   "source": [
    "### Import python libraries"
   ]
  },
  {
   "cell_type": "code",
   "execution_count": null,
   "metadata": {},
   "outputs": [],
   "source": [
    "%matplotlib inline\n",
    "import numpy as np\n",
    "import matplotlib.pyplot as plt"
   ]
  },
  {
   "cell_type": "markdown",
   "metadata": {},
   "source": [
    "### Plot acceleration response spectra"
   ]
  },
  {
   "cell_type": "markdown",
   "metadata": {},
   "source": [
    "Plot acceleration response spectra on log-linear scale"
   ]
  },
  {
   "cell_type": "code",
   "execution_count": null,
   "metadata": {},
   "outputs": [],
   "source": [
    "from plotAcc import plot_acc\n",
    "\n",
    "plot_acc()"
   ]
  }
 ],
 "metadata": {
  "IMAGE_NAME": "taccsciapps/ds-nb-img:base-0.2.1",
  "UUID": "73e0880d-9b87-11ec-9c1c-13579dd95994",
  "celltoolbar": "Raw Cell Format",
  "kernelspec": {
   "display_name": "Python 3 (ipykernel)",
   "language": "python",
   "name": "python3"
  },
  "language_info": {
   "codemirror_mode": {
    "name": "ipython",
    "version": 3
   },
   "file_extension": ".py",
   "mimetype": "text/x-python",
   "name": "python",
   "nbconvert_exporter": "python",
   "pygments_lexer": "ipython3",
   "version": "3.9.10"
  }
 },
 "nbformat": 4,
 "nbformat_minor": 4
}
