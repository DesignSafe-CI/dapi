{
 "cells": [
  {
   "cell_type": "code",
   "execution_count": 1,
   "id": "32e9a2fe-b6f0-48a7-bfda-a917b9dfffe6",
   "metadata": {},
   "outputs": [
    {
     "name": "stdout",
     "output_type": "stream",
     "text": [
      "Found existing installation: dapi 1.0.0\n",
      "Uninstalling dapi-1.0.0:\n",
      "  Successfully uninstalled dapi-1.0.0\n",
      "Collecting git+https://github.com/DesignSafe-CI/dapi.git@dev\n",
      "  Cloning https://github.com/DesignSafe-CI/dapi.git (to revision dev) to /tmp/pip-req-build-t2tf2kfh\n",
      "  Running command git clone --filter=blob:none --quiet https://github.com/DesignSafe-CI/dapi.git /tmp/pip-req-build-t2tf2kfh\n",
      "  Running command git checkout -b dev --track origin/dev\n",
      "  Switched to a new branch 'dev'\n",
      "  Branch 'dev' set up to track remote branch 'dev' from 'origin'.\n",
      "  Resolved https://github.com/DesignSafe-CI/dapi.git to commit 18ce6e9aab54b384a56562cca06c0b41e1b214e7\n",
      "  Installing build dependencies ... \u001b[?25ldone\n",
      "\u001b[?25h  Getting requirements to build wheel ... \u001b[?25ldone\n",
      "\u001b[?25h  Preparing metadata (pyproject.toml) ... \u001b[?25ldone\n",
      "\u001b[?25hRequirement already satisfied: exceptiongroup<2.0.0,>=1.2.0 in /home/jupyter/.local/lib/python3.11/site-packages (from dapi==1.0.0) (1.2.2)\n",
      "Requirement already satisfied: jsonschema>=4.18.0 in /opt/conda/lib/python3.11/site-packages (from dapi==1.0.0) (4.23.0)\n",
      "Requirement already satisfied: numpy<3.0.0,>=2.1.1 in /home/jupyter/.local/lib/python3.11/site-packages (from dapi==1.0.0) (2.2.5)\n",
      "Requirement already satisfied: pandas<3.0.0,>=2.2.3 in /home/jupyter/.local/lib/python3.11/site-packages (from dapi==1.0.0) (2.2.3)\n",
      "Requirement already satisfied: pymysql<2.0.0,>=1.1.0 in /home/jupyter/.local/lib/python3.11/site-packages (from dapi==1.0.0) (1.1.1)\n",
      "Requirement already satisfied: python-dotenv<2.0.0,>=1.0.1 in /home/jupyter/.local/lib/python3.11/site-packages (from dapi==1.0.0) (1.1.0)\n",
      "Requirement already satisfied: sqlalchemy<3.0.0,>=2.0.23 in /home/jupyter/.local/lib/python3.11/site-packages (from dapi==1.0.0) (2.0.40)\n",
      "Requirement already satisfied: tapipy<2.0.0,>=1.6.3 in /opt/conda/lib/python3.11/site-packages (from dapi==1.0.0) (1.7.0)\n",
      "Requirement already satisfied: tqdm<5.0.0,>=4.66.1 in /opt/conda/lib/python3.11/site-packages (from dapi==1.0.0) (4.66.1)\n",
      "Requirement already satisfied: attrs>=22.2.0 in /opt/conda/lib/python3.11/site-packages (from jsonschema>=4.18.0->dapi==1.0.0) (23.1.0)\n",
      "Requirement already satisfied: jsonschema-specifications>=2023.03.6 in /opt/conda/lib/python3.11/site-packages (from jsonschema>=4.18.0->dapi==1.0.0) (2023.7.1)\n",
      "Requirement already satisfied: referencing>=0.28.4 in /opt/conda/lib/python3.11/site-packages (from jsonschema>=4.18.0->dapi==1.0.0) (0.30.2)\n",
      "Requirement already satisfied: rpds-py>=0.7.1 in /opt/conda/lib/python3.11/site-packages (from jsonschema>=4.18.0->dapi==1.0.0) (0.10.6)\n",
      "Requirement already satisfied: python-dateutil>=2.8.2 in /opt/conda/lib/python3.11/site-packages (from pandas<3.0.0,>=2.2.3->dapi==1.0.0) (2.8.2)\n",
      "Requirement already satisfied: pytz>=2020.1 in /opt/conda/lib/python3.11/site-packages (from pandas<3.0.0,>=2.2.3->dapi==1.0.0) (2023.3.post1)\n",
      "Requirement already satisfied: tzdata>=2022.7 in /home/jupyter/.local/lib/python3.11/site-packages (from pandas<3.0.0,>=2.2.3->dapi==1.0.0) (2025.2)\n",
      "Requirement already satisfied: greenlet>=1 in /opt/conda/lib/python3.11/site-packages (from sqlalchemy<3.0.0,>=2.0.23->dapi==1.0.0) (3.0.0)\n",
      "Requirement already satisfied: typing-extensions>=4.6.0 in /opt/conda/lib/python3.11/site-packages (from sqlalchemy<3.0.0,>=2.0.23->dapi==1.0.0) (4.8.0)\n",
      "Requirement already satisfied: PyJWT>=1.7.1 in /opt/conda/lib/python3.11/site-packages (from tapipy<2.0.0,>=1.6.3->dapi==1.0.0) (2.8.0)\n",
      "Requirement already satisfied: atomicwrites<2.0.0,>=1.4.0 in /opt/conda/lib/python3.11/site-packages (from tapipy<2.0.0,>=1.6.3->dapi==1.0.0) (1.4.1)\n",
      "Requirement already satisfied: certifi>=2020.11.8 in /opt/conda/lib/python3.11/site-packages (from tapipy<2.0.0,>=1.6.3->dapi==1.0.0) (2023.7.22)\n",
      "Requirement already satisfied: cloudpickle>=1.6.0 in /opt/conda/lib/python3.11/site-packages (from tapipy<2.0.0,>=1.6.3->dapi==1.0.0) (3.1.0)\n",
      "Requirement already satisfied: cryptography>=3.3.2 in /opt/conda/lib/python3.11/site-packages (from tapipy<2.0.0,>=1.6.3->dapi==1.0.0) (41.0.4)\n",
      "Requirement already satisfied: openapi_core==0.16.0 in /opt/conda/lib/python3.11/site-packages (from tapipy<2.0.0,>=1.6.3->dapi==1.0.0) (0.16.0)\n",
      "Requirement already satisfied: openapi_spec_validator<0.6.0,>=0.5.0 in /opt/conda/lib/python3.11/site-packages (from tapipy<2.0.0,>=1.6.3->dapi==1.0.0) (0.5.4)\n",
      "Requirement already satisfied: pyyaml>=5.4 in /opt/conda/lib/python3.11/site-packages (from tapipy<2.0.0,>=1.6.3->dapi==1.0.0) (6.0.1)\n",
      "Requirement already satisfied: requests<3.0.0,>=2.20.0 in /opt/conda/lib/python3.11/site-packages (from tapipy<2.0.0,>=1.6.3->dapi==1.0.0) (2.31.0)\n",
      "Requirement already satisfied: setuptools>=21.0.0 in /opt/conda/lib/python3.11/site-packages (from tapipy<2.0.0,>=1.6.3->dapi==1.0.0) (68.2.2)\n",
      "Requirement already satisfied: six<2.0,>=1.10 in /opt/conda/lib/python3.11/site-packages (from tapipy<2.0.0,>=1.6.3->dapi==1.0.0) (1.16.0)\n",
      "Requirement already satisfied: urllib3<2.0.0,>=1.26.5 in /opt/conda/lib/python3.11/site-packages (from tapipy<2.0.0,>=1.6.3->dapi==1.0.0) (1.26.20)\n",
      "Requirement already satisfied: isodate in /opt/conda/lib/python3.11/site-packages (from openapi_core==0.16.0->tapipy<2.0.0,>=1.6.3->dapi==1.0.0) (0.7.2)\n",
      "Requirement already satisfied: jsonschema-spec<0.2.0,>=0.1.1 in /home/jupyter/.local/lib/python3.11/site-packages (from openapi_core==0.16.0->tapipy<2.0.0,>=1.6.3->dapi==1.0.0) (0.1.3)\n",
      "Requirement already satisfied: more-itertools in /opt/conda/lib/python3.11/site-packages (from openapi_core==0.16.0->tapipy<2.0.0,>=1.6.3->dapi==1.0.0) (10.5.0)\n",
      "Requirement already satisfied: openapi-schema-validator<0.4.0,>=0.3.0 in /opt/conda/lib/python3.11/site-packages (from openapi_core==0.16.0->tapipy<2.0.0,>=1.6.3->dapi==1.0.0) (0.3.4)\n",
      "Requirement already satisfied: parse in /opt/conda/lib/python3.11/site-packages (from openapi_core==0.16.0->tapipy<2.0.0,>=1.6.3->dapi==1.0.0) (1.20.2)\n",
      "Requirement already satisfied: pathable<0.5.0,>=0.4.0 in /opt/conda/lib/python3.11/site-packages (from openapi_core==0.16.0->tapipy<2.0.0,>=1.6.3->dapi==1.0.0) (0.4.3)\n",
      "Requirement already satisfied: werkzeug in /opt/conda/lib/python3.11/site-packages (from openapi_core==0.16.0->tapipy<2.0.0,>=1.6.3->dapi==1.0.0) (3.1.2)\n",
      "Requirement already satisfied: cffi>=1.12 in /opt/conda/lib/python3.11/site-packages (from cryptography>=3.3.2->tapipy<2.0.0,>=1.6.3->dapi==1.0.0) (1.16.0)\n",
      "Requirement already satisfied: lazy-object-proxy<2.0.0,>=1.7.1 in /opt/conda/lib/python3.11/site-packages (from openapi_spec_validator<0.6.0,>=0.5.0->tapipy<2.0.0,>=1.6.3->dapi==1.0.0) (1.10.0)\n",
      "Requirement already satisfied: charset-normalizer<4,>=2 in /opt/conda/lib/python3.11/site-packages (from requests<3.0.0,>=2.20.0->tapipy<2.0.0,>=1.6.3->dapi==1.0.0) (3.3.0)\n",
      "Requirement already satisfied: idna<4,>=2.5 in /opt/conda/lib/python3.11/site-packages (from requests<3.0.0,>=2.20.0->tapipy<2.0.0,>=1.6.3->dapi==1.0.0) (3.4)\n",
      "Requirement already satisfied: pycparser in /opt/conda/lib/python3.11/site-packages (from cffi>=1.12->cryptography>=3.3.2->tapipy<2.0.0,>=1.6.3->dapi==1.0.0) (2.21)\n",
      "Requirement already satisfied: MarkupSafe>=2.1.1 in /opt/conda/lib/python3.11/site-packages (from werkzeug->openapi_core==0.16.0->tapipy<2.0.0,>=1.6.3->dapi==1.0.0) (2.1.3)\n",
      "Building wheels for collected packages: dapi\n",
      "  Building wheel for dapi (pyproject.toml) ... \u001b[?25ldone\n",
      "\u001b[?25h  Created wheel for dapi: filename=dapi-1.0.0-py3-none-any.whl size=24452 sha256=21957f23bdd5ea81579c6ff58e527df89a3966f840806e1f20fe56adcd99d3fc\n",
      "  Stored in directory: /tmp/pip-ephem-wheel-cache-qjp0xj3e/wheels/2e/e4/4e/ee98b2c2d7ca1faaf2d93d38772bece5f20c0e2734c00d8da0\n",
      "Successfully built dapi\n",
      "Installing collected packages: dapi\n",
      "Successfully installed dapi-1.0.0\n"
     ]
    }
   ],
   "source": [
    "!pip uninstall dapi --yes\n",
    "!pip install git+https://github.com/DesignSafe-CI/dapi.git@dev --user"
   ]
  },
  {
   "cell_type": "code",
   "execution_count": 2,
   "id": "0bff966d-03f2-420f-9f24-6c0c02fa42a1",
   "metadata": {},
   "outputs": [],
   "source": [
    "import os\n",
    "\n",
    "# Import only DSClient and exceptions needed at top level\n",
    "from dapi import (\n",
    "    DSClient,\n",
    "    SubmittedJob,\n",
    "    interpret_job_status,\n",
    "    AppDiscoveryError,\n",
    "    FileOperationError,\n",
    "    JobSubmissionError,\n",
    "    JobMonitorError,\n",
    "    # Optionally import status constants if you want to check against them explicitly\n",
    "    STATUS_TIMEOUT,\n",
    "    STATUS_UNKNOWN,\n",
    "    TAPIS_TERMINAL_STATES,\n",
    ")\n",
    "import json\n",
    "from datetime import datetime\n",
    "from dataclasses import asdict\n",
    "import pandas as pd\n",
    "import tqdm as notebook_tqdm"
   ]
  },
  {
   "cell_type": "code",
   "execution_count": 3,
   "id": "3b033ae7-a452-4afb-a7a0-c4a5f0a8a545",
   "metadata": {},
   "outputs": [
    {
     "name": "stdout",
     "output_type": "stream",
     "text": [
      "Initializing DSClient...\n"
     ]
    },
    {
     "name": "stdin",
     "output_type": "stream",
     "text": [
      "Enter DesignSafe Username:  kks32\n",
      "Enter DesignSafe Password:  ········\n"
     ]
    },
    {
     "name": "stdout",
     "output_type": "stream",
     "text": [
      "Authentication successful.\n",
      "DatabaseAccessor initialized. Connections will be created on first access.\n",
      "DSClient initialized.\n"
     ]
    }
   ],
   "source": [
    "try:\n",
    "    print(\"Initializing DSClient...\")\n",
    "    ds = DSClient()\n",
    "    print(\"DSClient initialized.\")\n",
    "except Exception as e:\n",
    "    print(f\"Initialization failed: {e}\")\n",
    "    raise SystemExit(\"Stopping notebook due to client initialization failure.\")"
   ]
  },
  {
   "cell_type": "code",
   "execution_count": 11,
   "id": "30881386-03b3-4f81-a407-197255a3aebe",
   "metadata": {},
   "outputs": [
    {
     "name": "stdout",
     "output_type": "stream",
     "text": [
      "Translated '/home/jupyter/MyData/OpenSees-T3/DS_input' to 'tapis://designsafe.storage.default/kks32/OpenSees-T3/DS_input' using t.username\n",
      "/home/jupyter/MyData/OpenSees-T3 tapis://designsafe.storage.default/kks32/OpenSees-T3/DS_input\n"
     ]
    }
   ],
   "source": [
    "cur_dir = os.getcwd()\n",
    "input_uri = ds.files.translate_path_to_uri(cur_dir + '/DS_input')\n",
    "print(cur_dir, input_uri)"
   ]
  },
  {
   "cell_type": "code",
   "execution_count": 16,
   "id": "c8ea85e6-3042-4444-af65-f4f092a53b97",
   "metadata": {},
   "outputs": [],
   "source": [
    "max_job_minutes: int = 10\n",
    "# queue: str = \"skx\" # Example override - only if needed and valid\n",
    "tacc_allocation: str = \"BCS20003\"\n",
    "app_id_to_use = \"opensees-mp-s3\"  # Or \"mpm-s3\" - use the correct ID verified on DesignSafe\n",
    "input_filename = 'main.tcl'"
   ]
  },
  {
   "cell_type": "code",
   "execution_count": 17,
   "id": "e027acbc-367d-4f3b-91db-3f04c89bb825",
   "metadata": {},
   "outputs": [
    {
     "name": "stdout",
     "output_type": "stream",
     "text": [
      "\n",
      "Generating job request dictionary...\n",
      "Generating job request for app 'opensees-mp-s3'...\n",
      "Using App Details: opensees-mp-s3 vlatest\n",
      "Placing script 'main.tcl' in appArgs: 'Main Script'\n",
      "Adding allocation: BCS20003\n",
      "Job request dictionary generated successfully.\n",
      "\n",
      "--- Generated Job Request Dictionary ---\n",
      "{\n",
      "  \"name\": \"opensees-mp-s3-20250429_133659\",\n",
      "  \"appId\": \"opensees-mp-s3\",\n",
      "  \"appVersion\": \"latest\",\n",
      "  \"description\": \"Runs all the processors in parallel. Requires understanding of parallel processing and the capabilities to write parallel scripts.\",\n",
      "  \"execSystemId\": \"stampede3\",\n",
      "  \"archiveSystemId\": \"stampede3\",\n",
      "  \"archiveOnAppError\": true,\n",
      "  \"execSystemLogicalQueue\": \"skx\",\n",
      "  \"nodeCount\": 2,\n",
      "  \"coresPerNode\": 48,\n",
      "  \"maxMinutes\": 10,\n",
      "  \"memoryMB\": 192000,\n",
      "  \"isMpi\": false,\n",
      "  \"tags\": [],\n",
      "  \"fileInputs\": [\n",
      "    {\n",
      "      \"name\": \"Input Directory\",\n",
      "      \"sourceUrl\": \"tapis://designsafe.storage.default/kks32/OpenSees-T3/DS_input\",\n",
      "      \"autoMountLocal\": true,\n",
      "      \"targetPath\": \"inputDirectory\"\n",
      "    }\n",
      "  ],\n",
      "  \"parameterSet\": {\n",
      "    \"appArgs\": [\n",
      "      {\n",
      "        \"name\": \"Main Script\",\n",
      "        \"arg\": \"main.tcl\"\n",
      "      }\n",
      "    ],\n",
      "    \"schedulerOptions\": [\n",
      "      {\n",
      "        \"name\": \"TACC Allocation\",\n",
      "        \"arg\": \"-A BCS20003\"\n",
      "      }\n",
      "    ]\n",
      "  }\n",
      "}\n",
      "---------------------------------------\n"
     ]
    }
   ],
   "source": [
    "try:\n",
    "    print(\"\\nGenerating job request dictionary...\")\n",
    "    job_dict = ds.jobs.generate_request(\n",
    "        app_id=app_id_to_use,\n",
    "        input_dir_uri=input_uri,\n",
    "        script_filename=input_filename,\n",
    "        max_minutes=max_job_minutes,\n",
    "        allocation=tacc_allocation,\n",
    "    )\n",
    "    print(\"\\n--- Generated Job Request Dictionary ---\")\n",
    "    print(json.dumps(job_dict, indent=2, default=str))\n",
    "    print(\"---------------------------------------\")\n",
    "except (AppDiscoveryError, ValueError, JobSubmissionError) as e:\n",
    "    print(f\"Error generating job request: {e}\")\n",
    "    raise SystemExit(\"Stopping notebook due to job request generation error.\")\n",
    "except Exception as e:\n",
    "    print(f\"An unexpected error occurred during job request generation: {e}\")\n",
    "    raise SystemExit(\"Stopping notebook due to unexpected generation error.\")"
   ]
  },
  {
   "cell_type": "code",
   "execution_count": null,
   "id": "97854150-1a4b-429d-9349-e8759127bf72",
   "metadata": {},
   "outputs": [],
   "source": []
  }
 ],
 "metadata": {
  "kernelspec": {
   "display_name": "Python 3 (ipykernel)",
   "language": "python",
   "name": "python3"
  },
  "language_info": {
   "codemirror_mode": {
    "name": "ipython",
    "version": 3
   },
   "file_extension": ".py",
   "mimetype": "text/x-python",
   "name": "python",
   "nbconvert_exporter": "python",
   "pygments_lexer": "ipython3",
   "version": "3.11.6"
  }
 },
 "nbformat": 4,
 "nbformat_minor": 5
}
