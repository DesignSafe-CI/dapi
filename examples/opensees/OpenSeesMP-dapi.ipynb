{
 "cells": [
  {
   "cell_type": "markdown",
   "id": "cell-0",
   "metadata": {},
   "source": [
    "# Multi-Free Field Analysis Example using DAPI"
   ]
  },
  {
   "cell_type": "markdown",
   "id": "cell-1",
   "metadata": {},
   "source": [
    "This example shows how to run OpenSeesMP in DesignSafe from a jupyter notebook using the DesignSafe API (dapi).\n",
    "\n",
    "A set of four 1D profiles is analyzed using OpenSeesMP."
   ]
  },
  {
   "cell_type": "markdown",
   "id": "cell-2",
   "metadata": {},
   "source": [
    "<img src = \"multi-freeField.png\"  height=\"400\" width=\"400\" align = \"center\">"
   ]
  },
  {
   "cell_type": "markdown",
   "id": "cell-3",
   "metadata": {},
   "source": [
    "# Setup DAPI and start OpenSeesMP job"
   ]
  },
  {
   "cell_type": "code",
   "execution_count": 24,
   "id": "cell-4",
   "metadata": {},
   "outputs": [
    {
     "name": "stdout",
     "output_type": "stream",
     "text": [
      "Found existing installation: dapi 0.3.0\n",
      "Uninstalling dapi-0.3.0:\n",
      "  Successfully uninstalled dapi-0.3.0\n",
      "Requirement already satisfied: numpy in /opt/conda/lib/python3.12/site-packages (2.2.6)\n"
     ]
    }
   ],
   "source": [
    "# Dapi installation\n",
    "!pip uninstall dapi --yes\n",
    "\n",
    "# Install the latest development version of dapi from GitHub\n",
    "!pip install git+https://github.com/DesignSafe-CI/dapi.git@dev --user --quiet\n",
    "\n",
    "# Install editable local version of dapi\n",
    "# !pip install -e ../"
   ]
  },
  {
   "cell_type": "code",
   "execution_count": 1,
   "id": "f5e9e476-3d14-4885-b172-f85425c449da",
   "metadata": {},
   "outputs": [],
   "source": [
    "%matplotlib inline\n",
    "import numpy as np\n",
    "import matplotlib.pyplot as plt"
   ]
  },
  {
   "cell_type": "code",
   "execution_count": 2,
   "id": "7b966d7b-d9ec-4e99-8727-201285489f21",
   "metadata": {},
   "outputs": [],
   "source": [
    "import sys\n",
    "import os\n",
    "\n",
    "sys.path.append(os.path.join(os.getcwd(), \"./DS_input\"))\n",
    "\n",
    "from plotAcc import plot_acc"
   ]
  },
  {
   "cell_type": "markdown",
   "id": "cell-5",
   "metadata": {},
   "source": [
    "### Setup job description"
   ]
  },
  {
   "cell_type": "code",
   "execution_count": 3,
   "id": "cell-6",
   "metadata": {},
   "outputs": [],
   "source": [
    "# Import DAPI and other required libraries\n",
    "from dapi import DSClient\n",
    "import os\n",
    "import json\n",
    "from datetime import date"
   ]
  },
  {
   "cell_type": "code",
   "execution_count": 4,
   "id": "cell-7",
   "metadata": {},
   "outputs": [
    {
     "name": "stdout",
     "output_type": "stream",
     "text": [
      "Authentication successful.\n",
      "DatabaseAccessor initialized. Connections will be created on first access.\n"
     ]
    }
   ],
   "source": [
    "try:\n",
    "    ds = DSClient()\n",
    "except Exception as e:\n",
    "    print(f\"Authentication failed: {e}\")\n",
    "    raise SystemExit(\"Stopping notebook due to authentication failure.\")"
   ]
  },
  {
   "cell_type": "code",
   "execution_count": 5,
   "id": "cell-8",
   "metadata": {},
   "outputs": [
    {
     "name": "stdout",
     "output_type": "stream",
     "text": [
      "DesignSafe path: /home/jupyter/MyData/template-notebooks/tapis3/opensees/OpenSeesMP_multiMotion/DS_input\n",
      "Translated '/home/jupyter/MyData/template-notebooks/tapis3/opensees/OpenSeesMP_multiMotion/DS_input' to 'tapis://designsafe.storage.default/kks32/template-notebooks/tapis3/opensees/OpenSeesMP_multiMotion/DS_input' using t.username\n",
      "Input URI: tapis://designsafe.storage.default/kks32/template-notebooks/tapis3/opensees/OpenSeesMP_multiMotion/DS_input\n"
     ]
    }
   ],
   "source": [
    "ds_path = \"/home/jupyter/MyData/template-notebooks/tapis3/opensees/OpenSeesMP_multiMotion/DS_input\"\n",
    "print(f\"DesignSafe path: {ds_path}\")\n",
    "input_uri = ds.files.translate_path_to_uri(ds_path)\n",
    "print(f\"Input URI: {input_uri}\")"
   ]
  },
  {
   "cell_type": "code",
   "execution_count": 6,
   "id": "cell-9",
   "metadata": {},
   "outputs": [],
   "source": [
    "# Job configuration parameters\n",
    "jobname: str = \"opensees-MP-multiMotion-dapi\"\n",
    "app_id: str = \"opensees-mp-s3\"\n",
    "input_filename: str = \"Main_multiMotion.tcl\"\n",
    "control_exec_Dir: str = \"DS_input\"  # Folder with files including input_filename\n",
    "tacc_allocation: str = \"ASC25049\"  # MUST USE YOUR OWN ALLOCATION !!\n",
    "archive_system: str = \"designsafe\"\n",
    "control_nodeCount: int = 1\n",
    "control_corespernode: int = 16\n",
    "max_job_minutes: int = 60"
   ]
  },
  {
   "cell_type": "code",
   "execution_count": 7,
   "id": "5286f5ac",
   "metadata": {},
   "outputs": [
    {
     "name": "stdout",
     "output_type": "stream",
     "text": [
      "Generating job request for app 'opensees-mp-s3'...\n",
      "Using App Details: opensees-mp-s3 vlatest\n",
      "Placing script 'Main_multiMotion.tcl' in appArgs: 'Main Script'\n",
      "Adding allocation: ASC25049\n",
      "Job request dictionary generated successfully.\n"
     ]
    }
   ],
   "source": [
    "# Generate job request dictionary using app defaults\n",
    "job_dict = ds.jobs.generate_request(\n",
    "    app_id=app_id,\n",
    "    input_dir_uri=input_uri,\n",
    "    script_filename=input_filename,\n",
    "    archive_system=archive_system,\n",
    "    max_minutes=max_job_minutes,\n",
    "    allocation=tacc_allocation,\n",
    ")"
   ]
  },
  {
   "cell_type": "code",
   "execution_count": 8,
   "id": "cell-10",
   "metadata": {},
   "outputs": [
    {
     "name": "stdout",
     "output_type": "stream",
     "text": [
      "Generated job request:\n",
      "{\n",
      "  \"name\": \"opensees-MP-multiMotion-dapi\",\n",
      "  \"appId\": \"opensees-mp-s3\",\n",
      "  \"appVersion\": \"latest\",\n",
      "  \"description\": \"Runs all the processors in parallel. Requires understanding of parallel processing and the capabilities to write parallel scripts.\",\n",
      "  \"execSystemId\": \"stampede3\",\n",
      "  \"archiveSystemId\": \"designsafe.storage.default\",\n",
      "  \"archiveSystemDir\": \"${EffectiveUserId}/tapis-jobs-archive/${JobCreateDate}/${JobUUID}\",\n",
      "  \"archiveOnAppError\": true,\n",
      "  \"execSystemLogicalQueue\": \"skx\",\n",
      "  \"nodeCount\": 1,\n",
      "  \"coresPerNode\": 16,\n",
      "  \"maxMinutes\": 60,\n",
      "  \"memoryMB\": 192000,\n",
      "  \"isMpi\": false,\n",
      "  \"tags\": [],\n",
      "  \"fileInputs\": [\n",
      "    {\n",
      "      \"name\": \"Input Directory\",\n",
      "      \"sourceUrl\": \"tapis://designsafe.storage.default/kks32/template-notebooks/tapis3/opensees/OpenSeesMP_multiMotion/DS_input\",\n",
      "      \"autoMountLocal\": true,\n",
      "      \"targetPath\": \"inputDirectory\"\n",
      "    }\n",
      "  ],\n",
      "  \"parameterSet\": {\n",
      "    \"appArgs\": [\n",
      "      {\n",
      "        \"name\": \"Main Script\",\n",
      "        \"arg\": \"Main_multiMotion.tcl\"\n",
      "      }\n",
      "    ],\n",
      "    \"schedulerOptions\": [\n",
      "      {\n",
      "        \"name\": \"TACC Allocation\",\n",
      "        \"arg\": \"-A ASC25049\"\n",
      "      }\n",
      "    ]\n",
      "  }\n",
      "}\n"
     ]
    }
   ],
   "source": [
    "# Customize job settings\n",
    "job_dict[\"name\"] = jobname\n",
    "job_dict[\"nodeCount\"] = control_nodeCount\n",
    "job_dict[\"coresPerNode\"] = control_corespernode\n",
    "\n",
    "print(\"Generated job request:\")\n",
    "print(json.dumps(job_dict, indent=2, default=str))"
   ]
  },
  {
   "cell_type": "markdown",
   "id": "cell-11",
   "metadata": {},
   "source": [
    "### Run job"
   ]
  },
  {
   "cell_type": "code",
   "execution_count": 9,
   "id": "cell-12",
   "metadata": {},
   "outputs": [
    {
     "name": "stdout",
     "output_type": "stream",
     "text": [
      "\n",
      "--- Submitting Tapis Job Request ---\n",
      "{\n",
      "  \"name\": \"opensees-MP-multiMotion-dapi\",\n",
      "  \"appId\": \"opensees-mp-s3\",\n",
      "  \"appVersion\": \"latest\",\n",
      "  \"description\": \"Runs all the processors in parallel. Requires understanding of parallel processing and the capabilities to write parallel scripts.\",\n",
      "  \"execSystemId\": \"stampede3\",\n",
      "  \"archiveSystemId\": \"designsafe.storage.default\",\n",
      "  \"archiveSystemDir\": \"${EffectiveUserId}/tapis-jobs-archive/${JobCreateDate}/${JobUUID}\",\n",
      "  \"archiveOnAppError\": true,\n",
      "  \"execSystemLogicalQueue\": \"skx\",\n",
      "  \"nodeCount\": 1,\n",
      "  \"coresPerNode\": 16,\n",
      "  \"maxMinutes\": 60,\n",
      "  \"memoryMB\": 192000,\n",
      "  \"isMpi\": false,\n",
      "  \"tags\": [],\n",
      "  \"fileInputs\": [\n",
      "    {\n",
      "      \"name\": \"Input Directory\",\n",
      "      \"sourceUrl\": \"tapis://designsafe.storage.default/kks32/template-notebooks/tapis3/opensees/OpenSeesMP_multiMotion/DS_input\",\n",
      "      \"autoMountLocal\": true,\n",
      "      \"targetPath\": \"inputDirectory\"\n",
      "    }\n",
      "  ],\n",
      "  \"parameterSet\": {\n",
      "    \"appArgs\": [\n",
      "      {\n",
      "        \"name\": \"Main Script\",\n",
      "        \"arg\": \"Main_multiMotion.tcl\"\n",
      "      }\n",
      "    ],\n",
      "    \"schedulerOptions\": [\n",
      "      {\n",
      "        \"name\": \"TACC Allocation\",\n",
      "        \"arg\": \"-A ASC25049\"\n",
      "      }\n",
      "    ]\n",
      "  }\n",
      "}\n",
      "------------------------------------\n",
      "Job submitted successfully. UUID: 414da416-817a-48db-a70a-0fa79b6bc348-007\n",
      "Job launched with UUID: 414da416-817a-48db-a70a-0fa79b6bc348-007\n",
      "Can also check in DesignSafe portal under - Workspace > Tools & Application > Job Status\n"
     ]
    }
   ],
   "source": [
    "# Submit job using dapi\n",
    "submitted_job = ds.jobs.submit_request(job_dict)\n",
    "print(f\"Job launched with UUID: {submitted_job.uuid}\")\n",
    "print(\n",
    "    \"Can also check in DesignSafe portal under - Workspace > Tools & Application > Job Status\"\n",
    ")"
   ]
  },
  {
   "cell_type": "code",
   "execution_count": 10,
   "id": "cell-13",
   "metadata": {},
   "outputs": [
    {
     "name": "stdout",
     "output_type": "stream",
     "text": [
      "\n",
      "Monitoring Job: 414da416-817a-48db-a70a-0fa79b6bc348-007\n"
     ]
    },
    {
     "data": {
      "application/vnd.jupyter.widget-view+json": {
       "model_id": "",
       "version_major": 2,
       "version_minor": 0
      },
      "text/plain": [
       "Waiting for job to start: 0 checks [00:00, ? checks/s]"
      ]
     },
     "metadata": {},
     "output_type": "display_data"
    },
    {
     "data": {
      "application/vnd.jupyter.widget-view+json": {
       "model_id": "b07354464e5e4d048083cc6dbded8a50",
       "version_major": 2,
       "version_minor": 0
      },
      "text/plain": [
       "Monitoring job:   0%|                                                   | 0/60 [00:00<?, ? checks/s]"
      ]
     },
     "metadata": {},
     "output_type": "display_data"
    },
    {
     "name": "stdout",
     "output_type": "stream",
     "text": [
      "\tStatus: ARCHIVING\n",
      "\tStatus: FINISHED\n",
      "Job finished with status: FINISHED\n",
      "Job 414da416-817a-48db-a70a-0fa79b6bc348-007 completed successfully.\n",
      "\n",
      "Runtime Summary\n",
      "---------------\n",
      "QUEUED  time: 00:03:58\n",
      "RUNNING time: 00:00:00\n",
      "TOTAL   time: 00:06:13\n",
      "---------------\n"
     ]
    }
   ],
   "source": [
    "# Monitor job status using dapi\n",
    "final_status = submitted_job.monitor(interval=60)\n",
    "print(f\"Job finished with status: {final_status}\")\n",
    "\n",
    "# Interpret job status\n",
    "ds.jobs.interpret_status(final_status, submitted_job.uuid)\n",
    "\n",
    "# Display runtime summary\n",
    "submitted_job.print_runtime_summary(verbose=False)"
   ]
  },
  {
   "cell_type": "markdown",
   "id": "cell-14",
   "metadata": {},
   "source": [
    "# Postprocess Results"
   ]
  },
  {
   "cell_type": "markdown",
   "id": "cell-15",
   "metadata": {},
   "source": [
    "### Identify job and archived location"
   ]
  },
  {
   "cell_type": "code",
   "execution_count": 11,
   "id": "cell-16",
   "metadata": {},
   "outputs": [
    {
     "name": "stdout",
     "output_type": "stream",
     "text": [
      "Archive URI: tapis://designsafe.storage.default/kks32/tapis-jobs-archive/2025-06-06Z/414da416-817a-48db-a70a-0fa79b6bc348-007\n",
      "Listing files in system 'designsafe.storage.default' at path 'kks32/tapis-jobs-archive/2025-06-06Z/414da416-817a-48db-a70a-0fa79b6bc348-007'...\n",
      "Found 6 items.\n",
      "\n",
      "Archive contents:\n",
      "- inputDirectory (dir)\n",
      "- opensees.zip (file)\n",
      "- tapisjob.env (file)\n",
      "- tapisjob.out (file)\n",
      "- tapisjob.sh (file)\n",
      "- tapisjob_app.sh (file)\n"
     ]
    }
   ],
   "source": [
    "# Get archive information using dapi\n",
    "archive_uri = submitted_job.archive_uri\n",
    "print(f\"Archive URI: {archive_uri}\")\n",
    "\n",
    "# List archive contents\n",
    "archive_files = ds.files.list(archive_uri)\n",
    "print(\"\\nArchive contents:\")\n",
    "for item in archive_files:\n",
    "    print(f\"- {item.name} ({item.type})\")"
   ]
  },
  {
   "cell_type": "markdown",
   "id": "cell-17",
   "metadata": {},
   "source": [
    "### Go to archived folder"
   ]
  },
  {
   "cell_type": "code",
   "execution_count": 12,
   "id": "cell-18",
   "metadata": {},
   "outputs": [
    {
     "name": "stdout",
     "output_type": "stream",
     "text": [
      "Listing files in system 'designsafe.storage.default' at path 'kks32/tapis-jobs-archive/2025-06-06Z/414da416-817a-48db-a70a-0fa79b6bc348-007/inputDirectory'...\n",
      "Found 28 items.\n",
      "\n",
      "Files in inputDirectory:\n",
      "- .ipynb_checkpoints (dir)\n",
      "- __pycache__ (dir)\n",
      "- Main_multiMotion.tcl (file)\n",
      "- motion1.vel (file)\n",
      "- motion2.vel (file)\n",
      "- plotAcc.py (file)\n",
      "- ProfileA.tcl (file)\n",
      "- ProfileA_accmotion1.out (file)\n",
      "- ProfileA_accmotion2.out (file)\n",
      "- ProfileA_Gstressmotion1.out (file)\n",
      "- ProfileA_Gstressmotion2.out (file)\n",
      "- ProfileB.tcl (file)\n",
      "- ProfileB_accmotion1.out (file)\n",
      "- ProfileB_accmotion2.out (file)\n",
      "- ProfileB_Gstressmotion1.out (file)\n",
      "- ProfileB_Gstressmotion2.out (file)\n",
      "- ProfileC.tcl (file)\n",
      "- ProfileC_accmotion1.out (file)\n",
      "- ProfileC_accmotion2.out (file)\n",
      "- ProfileC_Gstressmotion1.out (file)\n",
      "- ProfileC_Gstressmotion2.out (file)\n",
      "- ProfileD.tcl (file)\n",
      "- ProfileD_accmotion1.out (file)\n",
      "- ProfileD_accmotion2.out (file)\n",
      "- ProfileD_Gstressmotion1.out (file)\n",
      "- ProfileD_Gstressmotion2.out (file)\n",
      "- recordData.txt (file)\n",
      "- respSpectra.py (file)\n"
     ]
    }
   ],
   "source": [
    "# Download the inputDirectory folder which contains results\n",
    "input_dir_archive_uri = f\"{archive_uri}/inputDirectory\"\n",
    "try:\n",
    "    # List contents of inputDirectory in archive\n",
    "    input_dir_files = ds.files.list(input_dir_archive_uri)\n",
    "    print(\"\\nFiles in inputDirectory:\")\n",
    "    for item in input_dir_files:\n",
    "        print(f\"- {item.name} ({item.type})\")\n",
    "\n",
    "except Exception as e:\n",
    "    print(f\"Error accessing archive: {e}\")"
   ]
  },
  {
   "cell_type": "markdown",
   "id": "cell-21",
   "metadata": {},
   "source": [
    "### Plot acceleration response spectra"
   ]
  },
  {
   "cell_type": "markdown",
   "id": "cell-22",
   "metadata": {},
   "source": [
    "Plot acceleration response spectra on log-linear scale"
   ]
  },
  {
   "cell_type": "code",
   "execution_count": 13,
   "id": "96757814-3a1f-4981-9a3b-f27fc86a553c",
   "metadata": {},
   "outputs": [
    {
     "name": "stdout",
     "output_type": "stream",
     "text": [
      "/home/jupyter/MyData/tapis-jobs-archive/2025-06-06Z/414da416-817a-48db-a70a-0fa79b6bc348-007/inputDirectory\n"
     ]
    }
   ],
   "source": [
    "# Get DesignSafe Jupyter path\n",
    "archive_path = ds.files.translate_uri_to_path(input_dir_archive_uri)\n",
    "print(archive_path)"
   ]
  },
  {
   "cell_type": "code",
   "execution_count": 14,
   "id": "5a099ce6-23a4-48d3-baf1-08d0f4c64138",
   "metadata": {},
   "outputs": [],
   "source": [
    "os.chdir(archive_path)"
   ]
  },
  {
   "cell_type": "code",
   "execution_count": 15,
   "id": "cell-23",
   "metadata": {},
   "outputs": [
    {
     "data": {
      "image/png": "[encoded data removed]",
      "text/plain": [
       "<Figure size 640x480 with 1 Axes>"
      ]
     },
     "metadata": {},
     "output_type": "display_data"
    }
   ],
   "source": [
    "plot_acc()"
   ]
  }
 ],
 "metadata": {
  "kernelspec": {
   "display_name": "Python 3 (ipykernel)",
   "language": "python",
   "name": "python3"
  },
  "language_info": {
   "codemirror_mode": {
    "name": "ipython",
    "version": 3
   },
   "file_extension": ".py",
   "mimetype": "text/x-python",
   "name": "python",
   "nbconvert_exporter": "python",
   "pygments_lexer": "ipython3",
   "version": "3.12.10"
  }
 },
 "nbformat": 4,
 "nbformat_minor": 5
}
