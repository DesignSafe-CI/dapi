{
 "cells": [
  {
   "cell_type": "markdown",
   "id": "cell-0",
   "metadata": {},
   "source": [
    "# Multi-Free Field Analysis Example using DAPI"
   ]
  },
  {
   "cell_type": "markdown",
   "id": "cell-1",
   "metadata": {},
   "source": [
    "This example shows how to run OpenSeesMP in DesignSafe from a jupyter notebook using the DesignSafe API (dapi).\n",
    "\n",
    "A set of four 1D profiles is analyzed using OpenSeesMP."
   ]
  },
  {
   "cell_type": "markdown",
   "id": "cell-2",
   "metadata": {},
   "source": [
    "<img src = \"multi-freeField.png\"  height=\"400\" width=\"400\" align = \"center\">"
   ]
  },
  {
   "cell_type": "markdown",
   "id": "cell-3",
   "metadata": {},
   "source": [
    "# Setup DAPI and start OpenSeesMP job"
   ]
  },
  {
   "cell_type": "code",
   "execution_count": null,
   "id": "cell-4",
   "metadata": {},
   "outputs": [],
   "source": [
    "# Install required packages\n",
    "!python -m pip install --upgrade numpy\n",
    "!pip install -e ../../"
   ]
  },
  {
   "cell_type": "markdown",
   "id": "cell-5",
   "metadata": {},
   "source": [
    "### Setup job description"
   ]
  },
  {
   "cell_type": "code",
   "execution_count": 2,
   "id": "cell-6",
   "metadata": {},
   "outputs": [],
   "source": [
    "# Import DAPI and other required libraries\n",
    "from dapi import DSClient\n",
    "import os\n",
    "import json\n",
    "from datetime import date"
   ]
  },
  {
   "cell_type": "code",
   "execution_count": 3,
   "id": "cell-7",
   "metadata": {},
   "outputs": [
    {
     "name": "stdout",
     "output_type": "stream",
     "text": [
      "Authentication successful.\n",
      "DatabaseAccessor initialized. Connections will be created on first access.\n"
     ]
    }
   ],
   "source": [
    "# Initialize DesignSafe client\n",
    "ds = DSClient()"
   ]
  },
  {
   "cell_type": "code",
   "execution_count": 10,
   "id": "cell-8",
   "metadata": {},
   "outputs": [
    {
     "name": "stdout",
     "output_type": "stream",
     "text": [
      "DesignSafe path: /home/jupyter/MyData/template-notebooks/tapis3/opensees/OpenSeesMP_multiMotion/DS_input\n",
      "Translated '/home/jupyter/MyData/template-notebooks/tapis3/opensees/OpenSeesMP_multiMotion/DS_input' to 'tapis://designsafe.storage.default/kks32/template-notebooks/tapis3/opensees/OpenSeesMP_multiMotion/DS_input' using t.username\n",
      "Input URI: tapis://designsafe.storage.default/kks32/template-notebooks/tapis3/opensees/OpenSeesMP_multiMotion/DS_input\n"
     ]
    }
   ],
   "source": [
    "ds_path = \"/home/jupyter/MyData/template-notebooks/tapis3/opensees/OpenSeesMP_multiMotion/DS_input\"\n",
    "print(f\"DesignSafe path: {ds_path}\")\n",
    "input_uri = ds.files.translate_path_to_uri(ds_path)\n",
    "print(f\"Input URI: {input_uri}\")"
   ]
  },
  {
   "cell_type": "code",
   "execution_count": 8,
   "id": "cell-9",
   "metadata": {},
   "outputs": [],
   "source": [
    "# Job configuration parameters\n",
    "jobname: str = \"opensees-MP-multiMotion-dapi\"\n",
    "app_id: str = \"opensees-mp-s3\"\n",
    "input_filename: str  = \"Main_multiMotion.tcl\"\n",
    "control_exec_Dir: str  = \"DS_input\"  # Folder with files including input_filename\n",
    "tacc_allocation: str  = \"ASC25049\"  # MUST USE YOUR OWN ALLOCATION !!\n",
    "control_nodeCount: int  = 1\n",
    "control_corespernode: int  = 16\n",
    "max_job_minutes: int = 60"
   ]
  },
  {
   "cell_type": "code",
   "execution_count": 13,
   "id": "5286f5ac",
   "metadata": {},
   "outputs": [
    {
     "name": "stdout",
     "output_type": "stream",
     "text": [
      "Generating job request for app 'opensees-mp-s3'...\n",
      "Using App Details: opensees-mp-s3 vlatest\n",
      "Placing script 'Main_multiMotion.tcl' in appArgs: 'Main Script'\n",
      "Adding allocation: ASC25049\n",
      "Job request dictionary generated successfully.\n"
     ]
    }
   ],
   "source": [
    "# Generate job request dictionary using app defaults\n",
    "job_dict = ds.jobs.generate_request(\n",
    "    app_id=app_id,\n",
    "    input_dir_uri=input_uri,\n",
    "    script_filename=input_filename,\n",
    "    max_minutes=max_job_minutes,\n",
    "    allocation=tacc_allocation,\n",
    ")"
   ]
  },
  {
   "cell_type": "code",
   "execution_count": 14,
   "id": "cell-10",
   "metadata": {},
   "outputs": [
    {
     "name": "stdout",
     "output_type": "stream",
     "text": [
      "Generated job request:\n",
      "{\n",
      "  \"name\": \"opensees-MP-multiMotion-dapi\",\n",
      "  \"appId\": \"opensees-mp-s3\",\n",
      "  \"appVersion\": \"latest\",\n",
      "  \"description\": \"Runs all the processors in parallel. Requires understanding of parallel processing and the capabilities to write parallel scripts.\",\n",
      "  \"execSystemId\": \"stampede3\",\n",
      "  \"archiveSystemId\": \"stampede3\",\n",
      "  \"archiveOnAppError\": true,\n",
      "  \"execSystemLogicalQueue\": \"skx\",\n",
      "  \"nodeCount\": 1,\n",
      "  \"coresPerNode\": 16,\n",
      "  \"maxMinutes\": 60,\n",
      "  \"memoryMB\": 192000,\n",
      "  \"isMpi\": false,\n",
      "  \"tags\": [],\n",
      "  \"fileInputs\": [\n",
      "    {\n",
      "      \"name\": \"Input Directory\",\n",
      "      \"sourceUrl\": \"tapis://designsafe.storage.default/kks32/template-notebooks/tapis3/opensees/OpenSeesMP_multiMotion/DS_input\",\n",
      "      \"autoMountLocal\": true,\n",
      "      \"targetPath\": \"inputDirectory\"\n",
      "    }\n",
      "  ],\n",
      "  \"parameterSet\": {\n",
      "    \"appArgs\": [\n",
      "      {\n",
      "        \"name\": \"Main Script\",\n",
      "        \"arg\": \"Main_multiMotion.tcl\"\n",
      "      }\n",
      "    ],\n",
      "    \"schedulerOptions\": [\n",
      "      {\n",
      "        \"name\": \"TACC Allocation\",\n",
      "        \"arg\": \"-A ASC25049\"\n",
      "      }\n",
      "    ]\n",
      "  }\n",
      "}\n"
     ]
    }
   ],
   "source": [
    "# Customize job settings\n",
    "job_dict[\"name\"] = jobname\n",
    "job_dict[\"nodeCount\"] = control_nodeCount\n",
    "job_dict[\"coresPerNode\"] = control_corespernode\n",
    "\n",
    "print(\"Generated job request:\")\n",
    "print(json.dumps(job_dict, indent=2, default=str))"
   ]
  },
  {
   "cell_type": "markdown",
   "id": "cell-11",
   "metadata": {},
   "source": [
    "### Run job"
   ]
  },
  {
   "cell_type": "code",
   "execution_count": 15,
   "id": "cell-12",
   "metadata": {},
   "outputs": [
    {
     "name": "stdout",
     "output_type": "stream",
     "text": [
      "\n",
      "--- Submitting Tapis Job Request ---\n",
      "{\n",
      "  \"name\": \"opensees-MP-multiMotion-dapi\",\n",
      "  \"appId\": \"opensees-mp-s3\",\n",
      "  \"appVersion\": \"latest\",\n",
      "  \"description\": \"Runs all the processors in parallel. Requires understanding of parallel processing and the capabilities to write parallel scripts.\",\n",
      "  \"execSystemId\": \"stampede3\",\n",
      "  \"archiveSystemId\": \"stampede3\",\n",
      "  \"archiveOnAppError\": true,\n",
      "  \"execSystemLogicalQueue\": \"skx\",\n",
      "  \"nodeCount\": 1,\n",
      "  \"coresPerNode\": 16,\n",
      "  \"maxMinutes\": 60,\n",
      "  \"memoryMB\": 192000,\n",
      "  \"isMpi\": false,\n",
      "  \"tags\": [],\n",
      "  \"fileInputs\": [\n",
      "    {\n",
      "      \"name\": \"Input Directory\",\n",
      "      \"sourceUrl\": \"tapis://designsafe.storage.default/kks32/template-notebooks/tapis3/opensees/OpenSeesMP_multiMotion/DS_input\",\n",
      "      \"autoMountLocal\": true,\n",
      "      \"targetPath\": \"inputDirectory\"\n",
      "    }\n",
      "  ],\n",
      "  \"parameterSet\": {\n",
      "    \"appArgs\": [\n",
      "      {\n",
      "        \"name\": \"Main Script\",\n",
      "        \"arg\": \"Main_multiMotion.tcl\"\n",
      "      }\n",
      "    ],\n",
      "    \"schedulerOptions\": [\n",
      "      {\n",
      "        \"name\": \"TACC Allocation\",\n",
      "        \"arg\": \"-A ASC25049\"\n",
      "      }\n",
      "    ]\n",
      "  }\n",
      "}\n",
      "------------------------------------\n",
      "Job submitted successfully. UUID: 24938b27-854f-4a75-a687-fe21e8723b36-007\n",
      "Job launched with UUID: 24938b27-854f-4a75-a687-fe21e8723b36-007\n",
      "Can also check in DesignSafe portal under - Workspace > Tools & Application > Job Status\n"
     ]
    }
   ],
   "source": [
    "# Submit job using dapi\n",
    "submitted_job = ds.jobs.submit_request(job_dict)\n",
    "print(f\"Job launched with UUID: {submitted_job.uuid}\")\n",
    "print(\"Can also check in DesignSafe portal under - Workspace > Tools & Application > Job Status\")"
   ]
  },
  {
   "cell_type": "code",
   "execution_count": 16,
   "id": "cell-13",
   "metadata": {},
   "outputs": [
    {
     "name": "stdout",
     "output_type": "stream",
     "text": [
      "\n",
      "Monitoring Job: 24938b27-854f-4a75-a687-fe21e8723b36-007\n",
      "Job already in terminal state: FINISHED\n",
      "Job finished with status: FINISHED\n",
      "Job 24938b27-854f-4a75-a687-fe21e8723b36-007 completed successfully.\n",
      "\n",
      "Runtime Summary\n",
      "---------------\n",
      "QUEUED  time: 00:03:57\n",
      "RUNNING time: 00:01:01\n",
      "TOTAL   time: 00:06:59\n",
      "---------------\n"
     ]
    }
   ],
   "source": [
    "# Monitor job status using dapi\n",
    "final_status = submitted_job.monitor(interval=15)\n",
    "print(f\"Job finished with status: {final_status}\")\n",
    "\n",
    "# Interpret job status\n",
    "ds.jobs.interpret_status(final_status, submitted_job.uuid)\n",
    "\n",
    "# Display runtime summary\n",
    "submitted_job.print_runtime_summary(verbose=False)"
   ]
  },
  {
   "cell_type": "markdown",
   "id": "cell-14",
   "metadata": {},
   "source": [
    "# Postprocess Results"
   ]
  },
  {
   "cell_type": "markdown",
   "id": "cell-15",
   "metadata": {},
   "source": [
    "### Identify job and archived location"
   ]
  },
  {
   "cell_type": "code",
   "execution_count": 17,
   "id": "cell-16",
   "metadata": {},
   "outputs": [
    {
     "name": "stdout",
     "output_type": "stream",
     "text": [
      "Archive URI: tapis://stampede3/work2/05873/kks32/stampede3/tapis-jobs-archive/2025-06-05Z/opensees-MP-multiMotion-dapi-24938b27-854f-4a75-a687-fe21e8723b36-007\n",
      "Listing files in system 'stampede3' at path 'work2/05873/kks32/stampede3/tapis-jobs-archive/2025-06-05Z/opensees-MP-multiMotion-dapi-24938b27-854f-4a75-a687-fe21e8723b36-007'...\n",
      "Found 6 items.\n",
      "\n",
      "Archive contents:\n",
      "- inputDirectory (dir)\n",
      "- opensees.zip (file)\n",
      "- tapisjob.env (file)\n",
      "- tapisjob.out (file)\n",
      "- tapisjob.sh (file)\n",
      "- tapisjob_app.sh (file)\n"
     ]
    }
   ],
   "source": [
    "# Get archive information using dapi\n",
    "archive_uri = submitted_job.archive_uri\n",
    "print(f\"Archive URI: {archive_uri}\")\n",
    "\n",
    "# List archive contents\n",
    "archive_files = ds.files.list(archive_uri)\n",
    "print(\"\\nArchive contents:\")\n",
    "for item in archive_files:\n",
    "    print(f\"- {item.name} ({item.type})\")"
   ]
  },
  {
   "cell_type": "markdown",
   "id": "cell-17",
   "metadata": {},
   "source": [
    "### Go to archived folder"
   ]
  },
  {
   "cell_type": "code",
   "execution_count": 18,
   "id": "cell-18",
   "metadata": {},
   "outputs": [
    {
     "name": "stdout",
     "output_type": "stream",
     "text": [
      "Downloading results to: /var/folders/6k/lmrc2s553fq0vn7c57__f37r0000gn/T/opensees_results_gft6gzho\n",
      "Listing files in system 'stampede3' at path 'work2/05873/kks32/stampede3/tapis-jobs-archive/2025-06-05Z/opensees-MP-multiMotion-dapi-24938b27-854f-4a75-a687-fe21e8723b36-007/inputDirectory'...\n",
      "Found 27 items.\n",
      "\n",
      "Files in inputDirectory:\n",
      "- .ipynb_checkpoints (dir)\n",
      "- Main_multiMotion.tcl (file)\n",
      "- motion1.vel (file)\n",
      "- motion2.vel (file)\n",
      "- plotAcc.py (file)\n",
      "- ProfileA.tcl (file)\n",
      "- ProfileA_accmotion1.out (file)\n",
      "- ProfileA_accmotion2.out (file)\n",
      "- ProfileA_Gstressmotion1.out (file)\n",
      "- ProfileA_Gstressmotion2.out (file)\n",
      "- ProfileB.tcl (file)\n",
      "- ProfileB_accmotion1.out (file)\n",
      "- ProfileB_accmotion2.out (file)\n",
      "- ProfileB_Gstressmotion1.out (file)\n",
      "- ProfileB_Gstressmotion2.out (file)\n",
      "- ProfileC.tcl (file)\n",
      "- ProfileC_accmotion1.out (file)\n",
      "- ProfileC_accmotion2.out (file)\n",
      "- ProfileC_Gstressmotion1.out (file)\n",
      "- ProfileC_Gstressmotion2.out (file)\n",
      "- ProfileD.tcl (file)\n",
      "- ProfileD_accmotion1.out (file)\n",
      "- ProfileD_accmotion2.out (file)\n",
      "- ProfileD_Gstressmotion1.out (file)\n",
      "- ProfileD_Gstressmotion2.out (file)\n",
      "- recordData.txt (file)\n",
      "- respSpectra.py (file)\n",
      "Downloading from system 'stampede3' path 'work2/05873/kks32/stampede3/tapis-jobs-archive/2025-06-05Z/opensees-MP-multiMotion-dapi-24938b27-854f-4a75-a687-fe21e8723b36-007/inputDirectory/acc1.out' to '/var/folders/6k/lmrc2s553fq0vn7c57__f37r0000gn/T/opensees_results_gft6gzho/acc1.out'...\n",
      "Could not download acc1.out: Tapis download failed for 'tapis://stampede3/work2/05873/kks32/stampede3/tapis-jobs-archive/2025-06-05Z/opensees-MP-multiMotion-dapi-24938b27-854f-4a75-a687-fe21e8723b36-007/inputDirectory/acc1.out': message: FILES_CONT_NO_FILEINFO Unable to get FileInfo for path. Tenant: designsafe ApiUserId: kks32 OboTenant: designsafe OboUser: kks32 System: stampede3 Path: work2/05873/kks32/stampede3/tapis-jobs-archive/2025-06-05Z/opensees-MP-multiMotion-dapi-24938b27-854f-4a75-a687-fe21e8723b36-007/inputDirectory/acc1.out\n",
      "Downloading from system 'stampede3' path 'work2/05873/kks32/stampede3/tapis-jobs-archive/2025-06-05Z/opensees-MP-multiMotion-dapi-24938b27-854f-4a75-a687-fe21e8723b36-007/inputDirectory/acc2.out' to '/var/folders/6k/lmrc2s553fq0vn7c57__f37r0000gn/T/opensees_results_gft6gzho/acc2.out'...\n",
      "Could not download acc2.out: Tapis download failed for 'tapis://stampede3/work2/05873/kks32/stampede3/tapis-jobs-archive/2025-06-05Z/opensees-MP-multiMotion-dapi-24938b27-854f-4a75-a687-fe21e8723b36-007/inputDirectory/acc2.out': message: FILES_CONT_NO_FILEINFO Unable to get FileInfo for path. Tenant: designsafe ApiUserId: kks32 OboTenant: designsafe OboUser: kks32 System: stampede3 Path: work2/05873/kks32/stampede3/tapis-jobs-archive/2025-06-05Z/opensees-MP-multiMotion-dapi-24938b27-854f-4a75-a687-fe21e8723b36-007/inputDirectory/acc2.out\n",
      "Downloading from system 'stampede3' path 'work2/05873/kks32/stampede3/tapis-jobs-archive/2025-06-05Z/opensees-MP-multiMotion-dapi-24938b27-854f-4a75-a687-fe21e8723b36-007/inputDirectory/acc3.out' to '/var/folders/6k/lmrc2s553fq0vn7c57__f37r0000gn/T/opensees_results_gft6gzho/acc3.out'...\n",
      "Could not download acc3.out: Tapis download failed for 'tapis://stampede3/work2/05873/kks32/stampede3/tapis-jobs-archive/2025-06-05Z/opensees-MP-multiMotion-dapi-24938b27-854f-4a75-a687-fe21e8723b36-007/inputDirectory/acc3.out': message: FILES_CONT_NO_FILEINFO Unable to get FileInfo for path. Tenant: designsafe ApiUserId: kks32 OboTenant: designsafe OboUser: kks32 System: stampede3 Path: work2/05873/kks32/stampede3/tapis-jobs-archive/2025-06-05Z/opensees-MP-multiMotion-dapi-24938b27-854f-4a75-a687-fe21e8723b36-007/inputDirectory/acc3.out\n",
      "Downloading from system 'stampede3' path 'work2/05873/kks32/stampede3/tapis-jobs-archive/2025-06-05Z/opensees-MP-multiMotion-dapi-24938b27-854f-4a75-a687-fe21e8723b36-007/inputDirectory/acc4.out' to '/var/folders/6k/lmrc2s553fq0vn7c57__f37r0000gn/T/opensees_results_gft6gzho/acc4.out'...\n",
      "Could not download acc4.out: Tapis download failed for 'tapis://stampede3/work2/05873/kks32/stampede3/tapis-jobs-archive/2025-06-05Z/opensees-MP-multiMotion-dapi-24938b27-854f-4a75-a687-fe21e8723b36-007/inputDirectory/acc4.out': message: FILES_CONT_NO_FILEINFO Unable to get FileInfo for path. Tenant: designsafe ApiUserId: kks32 OboTenant: designsafe OboUser: kks32 System: stampede3 Path: work2/05873/kks32/stampede3/tapis-jobs-archive/2025-06-05Z/opensees-MP-multiMotion-dapi-24938b27-854f-4a75-a687-fe21e8723b36-007/inputDirectory/acc4.out\n",
      "\n",
      "Changed to directory: /private/var/folders/6k/lmrc2s553fq0vn7c57__f37r0000gn/T/opensees_results_gft6gzho\n",
      "Local files:\n"
     ]
    }
   ],
   "source": [
    "# Download archive files to local directory for postprocessing\n",
    "import tempfile\n",
    "\n",
    "# Create temporary directory for downloaded files\n",
    "temp_dir = tempfile.mkdtemp(prefix=\"opensees_results_\")\n",
    "print(f\"Downloading results to: {temp_dir}\")\n",
    "\n",
    "# Download the inputDirectory folder which contains results\n",
    "input_dir_archive_uri = f\"{archive_uri}/inputDirectory\"\n",
    "try:\n",
    "    # List contents of inputDirectory in archive\n",
    "    input_dir_files = ds.files.list(input_dir_archive_uri)\n",
    "    print(\"\\nFiles in inputDirectory:\")\n",
    "    for item in input_dir_files:\n",
    "        print(f\"- {item.name} ({item.type})\")\n",
    "    \n",
    "    # Download key result files (you may need to adjust based on actual output)\n",
    "    result_files = [\"acc1.out\", \"acc2.out\", \"acc3.out\", \"acc4.out\"]  # Example output files\n",
    "    for filename in result_files:\n",
    "        try:\n",
    "            file_uri = f\"{input_dir_archive_uri}/{filename}\"\n",
    "            local_path = os.path.join(temp_dir, filename)\n",
    "            ds.files.download(file_uri, local_path)\n",
    "            print(f\"Downloaded: {filename}\")\n",
    "        except Exception as e:\n",
    "            print(f\"Could not download {filename}: {e}\")\n",
    "            \n",
    "except Exception as e:\n",
    "    print(f\"Error accessing archive: {e}\")\n",
    "\n",
    "# Change to the temporary directory for postprocessing\n",
    "os.chdir(temp_dir)\n",
    "print(f\"\\nChanged to directory: {os.getcwd()}\")\n",
    "print(\"Local files:\")\n",
    "for f in os.listdir(\".\"):\n",
    "    print(f\"- {f}\")"
   ]
  },
  {
   "cell_type": "markdown",
   "id": "cell-19",
   "metadata": {},
   "source": [
    "### Import python libraries"
   ]
  },
  {
   "cell_type": "code",
   "execution_count": 20,
   "id": "a7e7421b",
   "metadata": {},
   "outputs": [
    {
     "name": "stdout",
     "output_type": "stream",
     "text": [
      "Collecting matplotlib\n",
      "  Downloading matplotlib-3.10.3-cp311-cp311-macosx_11_0_arm64.whl.metadata (11 kB)\n",
      "Collecting contourpy>=1.0.1 (from matplotlib)\n",
      "  Using cached contourpy-1.3.2-cp311-cp311-macosx_11_0_arm64.whl.metadata (5.5 kB)\n",
      "Collecting cycler>=0.10 (from matplotlib)\n",
      "  Using cached cycler-0.12.1-py3-none-any.whl.metadata (3.8 kB)\n",
      "Collecting fonttools>=4.22.0 (from matplotlib)\n",
      "  Downloading fonttools-4.58.1-cp311-cp311-macosx_10_9_universal2.whl.metadata (106 kB)\n",
      "Collecting kiwisolver>=1.3.1 (from matplotlib)\n",
      "  Using cached kiwisolver-1.4.8-cp311-cp311-macosx_11_0_arm64.whl.metadata (6.2 kB)\n",
      "Requirement already satisfied: numpy>=1.23 in /Users/krishna/dev/designsafe/dapi/env/lib/python3.11/site-packages (from matplotlib) (2.2.6)\n",
      "Requirement already satisfied: packaging>=20.0 in /Users/krishna/dev/designsafe/dapi/env/lib/python3.11/site-packages (from matplotlib) (25.0)\n",
      "Collecting pillow>=8 (from matplotlib)\n",
      "  Using cached pillow-11.2.1-cp311-cp311-macosx_11_0_arm64.whl.metadata (8.9 kB)\n",
      "Collecting pyparsing>=2.3.1 (from matplotlib)\n",
      "  Using cached pyparsing-3.2.3-py3-none-any.whl.metadata (5.0 kB)\n",
      "Requirement already satisfied: python-dateutil>=2.7 in /Users/krishna/dev/designsafe/dapi/env/lib/python3.11/site-packages (from matplotlib) (2.9.0.post0)\n",
      "Requirement already satisfied: six>=1.5 in /Users/krishna/dev/designsafe/dapi/env/lib/python3.11/site-packages (from python-dateutil>=2.7->matplotlib) (1.17.0)\n",
      "Downloading matplotlib-3.10.3-cp311-cp311-macosx_11_0_arm64.whl (8.1 MB)\n",
      "\u001b[2K   \u001b[90m━━━━━━━━━━━━━━━━━━━━━━━━━━━━━━━━━━━━━━━━\u001b[0m \u001b[32m8.1/8.1 MB\u001b[0m \u001b[31m26.4 MB/s\u001b[0m eta \u001b[36m0:00:00\u001b[0ma \u001b[36m0:00:01\u001b[0m\n",
      "\u001b[?25hUsing cached contourpy-1.3.2-cp311-cp311-macosx_11_0_arm64.whl (254 kB)\n",
      "Using cached cycler-0.12.1-py3-none-any.whl (8.3 kB)\n",
      "Downloading fonttools-4.58.1-cp311-cp311-macosx_10_9_universal2.whl (2.8 MB)\n",
      "\u001b[2K   \u001b[90m━━━━━━━━━━━━━━━━━━━━━━━━━━━━━━━━━━━━━━━━\u001b[0m \u001b[32m2.8/2.8 MB\u001b[0m \u001b[31m23.6 MB/s\u001b[0m eta \u001b[36m0:00:00\u001b[0m\n",
      "\u001b[?25hUsing cached kiwisolver-1.4.8-cp311-cp311-macosx_11_0_arm64.whl (65 kB)\n",
      "Using cached pillow-11.2.1-cp311-cp311-macosx_11_0_arm64.whl (3.0 MB)\n",
      "Using cached pyparsing-3.2.3-py3-none-any.whl (111 kB)\n",
      "Installing collected packages: pyparsing, pillow, kiwisolver, fonttools, cycler, contourpy, matplotlib\n",
      "Successfully installed contourpy-1.3.2 cycler-0.12.1 fonttools-4.58.1 kiwisolver-1.4.8 matplotlib-3.10.3 pillow-11.2.1 pyparsing-3.2.3\n",
      "\n",
      "\u001b[1m[\u001b[0m\u001b[34;49mnotice\u001b[0m\u001b[1;39;49m]\u001b[0m\u001b[39;49m A new release of pip is available: \u001b[0m\u001b[31;49m25.0.1\u001b[0m\u001b[39;49m -> \u001b[0m\u001b[32;49m25.1.1\u001b[0m\n",
      "\u001b[1m[\u001b[0m\u001b[34;49mnotice\u001b[0m\u001b[1;39;49m]\u001b[0m\u001b[39;49m To update, run: \u001b[0m\u001b[32;49mpip install --upgrade pip\u001b[0m\n"
     ]
    }
   ],
   "source": [
    "!pip3 install matplotlib  # Install matplotlib for plotting"
   ]
  },
  {
   "cell_type": "code",
   "execution_count": 21,
   "id": "cell-20",
   "metadata": {},
   "outputs": [],
   "source": [
    "%matplotlib inline\n",
    "import numpy as np\n",
    "import matplotlib.pyplot as plt"
   ]
  },
  {
   "cell_type": "markdown",
   "id": "cell-21",
   "metadata": {},
   "source": [
    "### Plot acceleration response spectra"
   ]
  },
  {
   "cell_type": "markdown",
   "id": "cell-22",
   "metadata": {},
   "source": [
    "Plot acceleration response spectra on log-linear scale"
   ]
  },
  {
   "cell_type": "code",
   "execution_count": 22,
   "id": "cell-23",
   "metadata": {},
   "outputs": [
    {
     "name": "stdout",
     "output_type": "stream",
     "text": [
      "plotAcc module not found. Creating basic plot instead.\n"
     ]
    },
    {
     "name": "stderr",
     "output_type": "stream",
     "text": [
      "/var/folders/6k/lmrc2s553fq0vn7c57__f37r0000gn/T/ipykernel_26086/1916283989.py:29: UserWarning: No artists with labels found to put in legend.  Note that artists whose label start with an underscore are ignored when legend() is called with no argument.\n",
      "  plt.legend()\n"
     ]
    },
    {
     "data": {
      "image/png": "[encoded data removed]",
      "text/plain": [
       "<Figure size 1000x600 with 1 Axes>"
      ]
     },
     "metadata": {},
     "output_type": "display_data"
    }
   ],
   "source": [
    "# Copy plotting functions from original directory\n",
    "import sys\n",
    "sys.path.append('../')  # Add parent directory to path\n",
    "\n",
    "try:\n",
    "    from plotAcc import plot_acc\n",
    "    plot_acc()\n",
    "except ImportError:\n",
    "    print(\"plotAcc module not found. Creating basic plot instead.\")\n",
    "    \n",
    "    # Basic plotting if plotAcc is not available\n",
    "    plt.figure(figsize=(10, 6))\n",
    "    \n",
    "    # Check if result files exist and plot them\n",
    "    for i, filename in enumerate([\"acc1.out\", \"acc2.out\", \"acc3.out\", \"acc4.out\"]):\n",
    "        if os.path.exists(filename):\n",
    "            try:\n",
    "                data = np.loadtxt(filename)\n",
    "                if len(data.shape) > 1 and data.shape[1] >= 2:\n",
    "                    plt.semilogy(data[:, 0], data[:, 1], label=f\"Profile {i+1}\")\n",
    "                else:\n",
    "                    plt.semilogy(data, label=f\"Profile {i+1}\")\n",
    "            except Exception as e:\n",
    "                print(f\"Error plotting {filename}: {e}\")\n",
    "    \n",
    "    plt.xlabel(\"Period (s)\")\n",
    "    plt.ylabel(\"Acceleration (g)\")\n",
    "    plt.title(\"Acceleration Response Spectra\")\n",
    "    plt.legend()\n",
    "    plt.grid(True)\n",
    "    plt.show()\n",
    "except Exception as e:\n",
    "    print(f\"Error in plotting: {e}\")"
   ]
  }
 ],
 "metadata": {
  "kernelspec": {
   "display_name": "env",
   "language": "python",
   "name": "python3"
  },
  "language_info": {
   "codemirror_mode": {
    "name": "ipython",
    "version": 3
   },
   "file_extension": ".py",
   "mimetype": "text/x-python",
   "name": "python",
   "nbconvert_exporter": "python",
   "pygments_lexer": "ipython3",
   "version": "3.11.12"
  }
 },
 "nbformat": 4,
 "nbformat_minor": 5
}
