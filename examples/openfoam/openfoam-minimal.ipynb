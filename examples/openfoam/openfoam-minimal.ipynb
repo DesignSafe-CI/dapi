{
 "cells": [
  {
   "cell_type": "markdown",
   "metadata": {},
   "source": [
    "# Minimal OpenFOAM Example with DAPI\n",
    "## Running OpenFOAM simulations using DesignSafe API (DAPI)"
   ]
  },
  {
   "cell_type": "markdown",
   "metadata": {},
   "source": [
    "## Install DesignSafe API (dapi)"
   ]
  },
  {
   "cell_type": "code",
   "execution_count": null,
   "metadata": {},
   "outputs": [],
   "source": [
    "# Dapi installation\n",
    "!pip uninstall dapi --yes\n",
    "\n",
    "!pip install dapi --user --quiet\n",
    "\n",
    "# Install the latest development version of dapi from GitHub\n",
    "# !pip install git+https://github.com/DesignSafe-CI/dapi.git@dev --user --quiet\n",
    "\n",
    "# Install editable local version of dapi\n",
    "# !pip install -e ../"
   ]
  },
  {
   "cell_type": "code",
   "execution_count": null,
   "metadata": {},
   "outputs": [],
   "source": [
    "# Import required modules\n",
    "from dapi import DSClient\n",
    "import json"
   ]
  },
  {
   "cell_type": "code",
   "execution_count": null,
   "metadata": {},
   "outputs": [],
   "source": [
    "# Initialize DesignSafe client\n",
    "ds = DSClient()"
   ]
  },
  {
   "cell_type": "code",
   "execution_count": null,
   "metadata": {},
   "outputs": [],
   "source": [
    "# Job configuration parameters\n",
    "ds_path: str = \"/MyData/template-notebooks/tapis3/OpenFOAM/DH1_run\"  # Path to OpenFOAM case directory\n",
    "max_job_minutes: int = 10  # Maximum runtime in minutes\n",
    "tacc_allocation: str = \"ASC25049\"  # TACC allocation to charge\n",
    "app_id_to_use = \"openfoam-stampede3\"  # OpenFOAM application ID\n",
    "\n",
    "# OpenFOAM-specific environment variables\n",
    "openfoam_env_vars = [\n",
    "    {\"key\": \"mesh\", \"value\": \"On\"},  # Enable mesh generation\n",
    "    {\"key\": \"solver\", \"value\": \"pisoFoam\"},  # CFD solver to use\n",
    "    {\"key\": \"decomp\", \"value\": \"On\"},  # Enable domain decomposition for parallel runs\n",
    "]"
   ]
  },
  {
   "cell_type": "code",
   "execution_count": null,
   "metadata": {},
   "outputs": [],
   "source": [
    "# Convert DesignSafe path to Tapis URI format\n",
    "input_uri = ds.files.translate_path_to_uri(ds_path)\n",
    "print(f\"Input Directory Tapis URI: {input_uri}\")"
   ]
  },
  {
   "cell_type": "code",
   "execution_count": null,
   "metadata": {},
   "outputs": [],
   "source": [
    "# Generate job request dictionary using app defaults\n",
    "job_dict = ds.jobs.generate_request(\n",
    "    app_id=app_id_to_use,\n",
    "    input_dir_uri=input_uri,\n",
    "    max_minutes=max_job_minutes,\n",
    "    allocation=tacc_allocation,\n",
    "    archive_system=\"designsafe\",\n",
    "    extra_env_vars=openfoam_env_vars,\n",
    "    input_dir_param_name=\"Case Directory\",  # OpenFOAM apps use \"Case Directory\" instead of \"Input Directory\"\n",
    ")\n",
    "print(json.dumps(job_dict, indent=2, default=str))"
   ]
  },
  {
   "cell_type": "code",
   "execution_count": null,
   "metadata": {},
   "outputs": [],
   "source": [
    "# Customize job settings (optional)\n",
    "job_dict[\"nodeCount\"] = 1  # Use single node\n",
    "job_dict[\"coresPerNode\"] = 2  # Use 2 cores for parallel simulation\n",
    "print(json.dumps(job_dict, indent=2, default=str))"
   ]
  },
  {
   "cell_type": "code",
   "execution_count": null,
   "metadata": {},
   "outputs": [],
   "source": [
    "# Submit the job to TACC\n",
    "submitted_job = ds.jobs.submit_request(job_dict)\n",
    "print(f\"Job UUID: {submitted_job.uuid}\")"
   ]
  },
  {
   "cell_type": "code",
   "execution_count": null,
   "metadata": {},
   "outputs": [],
   "source": [
    "# Monitor job execution until completion\n",
    "final_status = submitted_job.monitor(interval=15)  # Check every 15 seconds\n",
    "print(f\"Job {submitted_job.uuid} finished with status: {final_status}\")"
   ]
  },
  {
   "cell_type": "code",
   "execution_count": null,
   "metadata": {},
   "outputs": [],
   "source": [
    "# Display job runtime summary\n",
    "submitted_job.print_runtime_summary(verbose=False)"
   ]
  },
  {
   "cell_type": "code",
   "execution_count": null,
   "metadata": {},
   "outputs": [],
   "source": [
    "# Get current job status\n",
    "current_status = ds.jobs.get_status(submitted_job.uuid)\n",
    "print(f\"Current status: {current_status}\")"
   ]
  },
  {
   "cell_type": "code",
   "execution_count": null,
   "metadata": {},
   "outputs": [],
   "source": [
    "# Display last status message from TACC\n",
    "print(f\"Last message: {submitted_job.last_message}\")"
   ]
  },
  {
   "cell_type": "code",
   "execution_count": null,
   "metadata": {},
   "outputs": [],
   "source": [
    "# Display job output from stdout\n",
    "stdout_content = submitted_job.get_output_content(\"tapisjob.out\", max_lines=50)\n",
    "if stdout_content:\n",
    "    print(\"Job output:\")\n",
    "    print(stdout_content)"
   ]
  },
  {
   "cell_type": "code",
   "execution_count": null,
   "metadata": {},
   "outputs": [],
   "source": [
    "# List contents of job archive directory\n",
    "archive_uri = submitted_job.archive_uri\n",
    "print(f\"Archive URI: {archive_uri}\")\n",
    "outputs = ds.files.list(archive_uri)\n",
    "for item in outputs:\n",
    "    print(f\"- {item.name} ({item.type})\")"
   ]
  },
  {
   "cell_type": "markdown",
   "metadata": {},
   "source": [
    "## Post-processing (Optional)\n",
    "### Visualize results with ParaView or extract force coefficients\n",
    "\n",
    "The simulation results can be visualized using ParaView by opening the `foam.foam` file in the case directory.\n",
    "\n",
    "For force coefficient analysis, check the `postProcessing/forceCoeffs1/0/` directory in the job archive."
   ]
  },
  {
   "cell_type": "markdown",
   "metadata": {},
   "source": [
    "## Post-processing\\n### Extract and plot force coefficients from simulation results\\n\\nThe simulation results can be visualized using ParaView by opening the `foam.foam` file in the case directory.\\n\\nFor force coefficient analysis, check the `postProcessing/forceCoeffs1/0/` directory in the job archive.\""
   ]
  },
  {
   "cell_type": "code",
   "execution_count": null,
   "metadata": {},
   "outputs": [],
   "source": [
    "# Get DesignSafe Jupyter path\n",
    "archive_path = ds.files.translate_uri_to_path(archive_uri)\n",
    "print(archive_path)"
   ]
  },
  {
   "cell_type": "code",
   "execution_count": null,
   "metadata": {},
   "outputs": [],
   "source": [
    "import numpy as np\n",
    "import matplotlib.pyplot as plt\n",
    "import os"
   ]
  },
  {
   "cell_type": "code",
   "execution_count": null,
   "metadata": {},
   "outputs": [],
   "source": [
    "# Load force coefficients data using pandas for cleaner parsing\n",
    "import pandas as pd\n",
    "\n",
    "force_data_path = (\n",
    "    archive_path + \"/inputDirectory/postProcessing/forceCoeffs1/0/forceCoeffs.dat\"\n",
    ")\n",
    "\n",
    "# Read the file, skipping header lines and using tab separator\n",
    "data = pd.read_csv(force_data_path, sep=\"\\t\", skiprows=9, header=None)\n",
    "print(f\"Loaded force coefficients data with shape: {data.shape}\")"
   ]
  },
  {
   "cell_type": "code",
   "execution_count": null,
   "metadata": {},
   "outputs": [],
   "source": [
    "# Plot drag coefficient (Cd) vs time\n",
    "plt.plot(data.iloc[100:, 0], data.iloc[100:, 2])\n",
    "plt.xlabel(\"Time\")\n",
    "plt.ylabel(\"$C_d$\")\n",
    "plt.title(\"Drag Coefficient vs Time\")\n",
    "plt.grid(False)\n",
    "plt.show()"
   ]
  },
  {
   "cell_type": "code",
   "execution_count": null,
   "metadata": {},
   "outputs": [],
   "source": [
    "# Plot lift coefficient (Cl) vs time\n",
    "plt.plot(data.iloc[100:, 0], data.iloc[100:, 3])\n",
    "plt.xlabel(\"Time\")\n",
    "plt.ylabel(\"$C_l$\")\n",
    "plt.title(\"Lift Coefficient vs Time\")\n",
    "plt.grid(False)\n",
    "plt.show()"
   ]
  }
 ],
 "metadata": {
  "kernelspec": {
   "display_name": "Python 3",
   "language": "python",
   "name": "python3"
  },
  "language_info": {
   "codemirror_mode": {
    "name": "ipython",
    "version": 3
   },
   "file_extension": ".py",
   "mimetype": "text/x-python",
   "name": "python",
   "nbconvert_exporter": "python",
   "pygments_lexer": "ipython3",
   "version": "3.9.12"
  }
 },
 "nbformat": 4,
 "nbformat_minor": 4
}
