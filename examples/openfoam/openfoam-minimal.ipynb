{
 "cells": [
  {
   "cell_type": "markdown",
   "metadata": {},
   "source": [
    "# Running OpenFOAM simulations using DesignSafe API (DAPI)"
   ]
  },
  {
   "cell_type": "markdown",
   "metadata": {},
   "source": [
    "## Install DesignSafe API (dapi)"
   ]
  },
  {
   "cell_type": "code",
   "execution_count": 1,
   "metadata": {},
   "outputs": [
    {
     "name": "stdout",
     "output_type": "stream",
     "text": [
      "Found existing installation: dapi 0.3.0\n",
      "Uninstalling dapi-0.3.0:\n",
      "  Successfully uninstalled dapi-0.3.0\n"
     ]
    }
   ],
   "source": [
    "# Dapi installation\n",
    "!pip uninstall dapi --yes\n",
    "\n",
    "#!pip install dapi --user --quiet\n",
    "\n",
    "# Install the latest development version of dapi from GitHub\n",
    "!pip install git+https://github.com/DesignSafe-CI/dapi.git@dev --user --quiet\n",
    "\n",
    "# Install editable local version of dapi\n",
    "# !pip install -e ../"
   ]
  },
  {
   "cell_type": "code",
   "execution_count": 2,
   "metadata": {},
   "outputs": [],
   "source": [
    "# Import required modules\n",
    "from dapi import DSClient\n",
    "import json"
   ]
  },
  {
   "cell_type": "code",
   "execution_count": 3,
   "metadata": {},
   "outputs": [
    {
     "name": "stdout",
     "output_type": "stream",
     "text": [
      "Authentication successful.\n",
      "DatabaseAccessor initialized. Connections will be created on first access.\n"
     ]
    }
   ],
   "source": [
    "# Initialize DesignSafe client\n",
    "ds = DSClient()"
   ]
  },
  {
   "cell_type": "code",
   "execution_count": 4,
   "metadata": {},
   "outputs": [],
   "source": [
    "# Job configuration parameters\n",
    "ds_path: str = \"/MyData/template-notebooks/tapis3/OpenFOAM/DH1_run\"  # Path to OpenFOAM case directory\n",
    "max_job_minutes: int = 10  # Maximum runtime in minutes\n",
    "tacc_allocation: str = \"ASC25049\"  # TACC allocation to charge\n",
    "app_id_to_use = \"openfoam-stampede3\"  # OpenFOAM application ID\n",
    "\n",
    "# OpenFOAM-specific environment variables\n",
    "openfoam_env_vars = [\n",
    "    {\"key\": \"mesh\", \"value\": \"On\"},  # Enable mesh generation\n",
    "    {\"key\": \"solver\", \"value\": \"pisoFoam\"},  # CFD solver to use\n",
    "    {\"key\": \"decomp\", \"value\": \"On\"},  # Enable domain decomposition for parallel runs\n",
    "]"
   ]
  },
  {
   "cell_type": "code",
   "execution_count": 5,
   "metadata": {},
   "outputs": [
    {
     "name": "stdout",
     "output_type": "stream",
     "text": [
      "Translated '/MyData/template-notebooks/tapis3/OpenFOAM/DH1_run' to 'tapis://designsafe.storage.default/kks32/template-notebooks/tapis3/OpenFOAM/DH1_run' using t.username\n",
      "Input Directory Tapis URI: tapis://designsafe.storage.default/kks32/template-notebooks/tapis3/OpenFOAM/DH1_run\n"
     ]
    }
   ],
   "source": [
    "# Convert DesignSafe path to Tapis URI format\n",
    "input_uri = ds.files.translate_path_to_uri(ds_path)\n",
    "print(f\"Input Directory Tapis URI: {input_uri}\")"
   ]
  },
  {
   "cell_type": "code",
   "execution_count": 6,
   "metadata": {},
   "outputs": [
    {
     "name": "stdout",
     "output_type": "stream",
     "text": [
      "Generating job request for app 'openfoam-stampede3'...\n",
      "Using App Details: openfoam-stampede3 v12.0.0\n",
      "Found exact match for input parameter: 'Case Directory'\n",
      "script_filename is None, skipping script parameter placement.\n",
      "Adding/Updating TACC allocation: ASC25049\n",
      "Job request dictionary generated successfully.\n",
      "{\n",
      "  \"name\": \"openfoam-stampede3-20250609_190344\",\n",
      "  \"appId\": \"openfoam-stampede3\",\n",
      "  \"appVersion\": \"12.0.0\",\n",
      "  \"description\": \"OpenFOAM is free, open source software for computational fluid dynamics (CFD).\",\n",
      "  \"execSystemId\": \"stampede3\",\n",
      "  \"archiveSystemId\": \"designsafe.storage.default\",\n",
      "  \"archiveSystemDir\": \"${EffectiveUserId}/tapis-jobs-archive/${JobCreateDate}/${JobUUID}\",\n",
      "  \"archiveOnAppError\": true,\n",
      "  \"execSystemLogicalQueue\": \"skx-dev\",\n",
      "  \"nodeCount\": 1,\n",
      "  \"coresPerNode\": 48,\n",
      "  \"maxMinutes\": 10,\n",
      "  \"memoryMB\": 192000,\n",
      "  \"isMpi\": false,\n",
      "  \"tags\": [],\n",
      "  \"fileInputs\": [\n",
      "    {\n",
      "      \"name\": \"Case Directory\",\n",
      "      \"sourceUrl\": \"tapis://designsafe.storage.default/kks32/template-notebooks/tapis3/OpenFOAM/DH1_run\",\n",
      "      \"autoMountLocal\": true,\n",
      "      \"targetPath\": \"inputDirectory\"\n",
      "    }\n",
      "  ],\n",
      "  \"parameterSet\": {\n",
      "    \"envVariables\": [\n",
      "      {\n",
      "        \"key\": \"mesh\",\n",
      "        \"value\": \"On\"\n",
      "      },\n",
      "      {\n",
      "        \"key\": \"solver\",\n",
      "        \"value\": \"pisoFoam\"\n",
      "      },\n",
      "      {\n",
      "        \"key\": \"decomp\",\n",
      "        \"value\": \"On\"\n",
      "      }\n",
      "    ],\n",
      "    \"schedulerOptions\": [\n",
      "      {\n",
      "        \"name\": \"TACC Allocation\",\n",
      "        \"arg\": \"-A ASC25049\"\n",
      "      }\n",
      "    ]\n",
      "  }\n",
      "}\n"
     ]
    }
   ],
   "source": [
    "# Generate job request dictionary using app defaults\n",
    "job_dict = ds.jobs.generate_request(\n",
    "    app_id=app_id_to_use,\n",
    "    input_dir_uri=input_uri,\n",
    "    max_minutes=max_job_minutes,\n",
    "    allocation=tacc_allocation,\n",
    "    archive_system=\"designsafe\",\n",
    "    extra_env_vars=openfoam_env_vars,\n",
    "    input_dir_param_name=\"Case Directory\",  # OpenFOAM apps use \"Case Directory\" instead of \"Input Directory\"\n",
    ")\n",
    "print(json.dumps(job_dict, indent=2, default=str))"
   ]
  },
  {
   "cell_type": "code",
   "execution_count": 7,
   "metadata": {},
   "outputs": [
    {
     "name": "stdout",
     "output_type": "stream",
     "text": [
      "{\n",
      "  \"name\": \"openfoam-stampede3-20250609_190344\",\n",
      "  \"appId\": \"openfoam-stampede3\",\n",
      "  \"appVersion\": \"12.0.0\",\n",
      "  \"description\": \"OpenFOAM is free, open source software for computational fluid dynamics (CFD).\",\n",
      "  \"execSystemId\": \"stampede3\",\n",
      "  \"archiveSystemId\": \"designsafe.storage.default\",\n",
      "  \"archiveSystemDir\": \"${EffectiveUserId}/tapis-jobs-archive/${JobCreateDate}/${JobUUID}\",\n",
      "  \"archiveOnAppError\": true,\n",
      "  \"execSystemLogicalQueue\": \"skx-dev\",\n",
      "  \"nodeCount\": 1,\n",
      "  \"coresPerNode\": 2,\n",
      "  \"maxMinutes\": 10,\n",
      "  \"memoryMB\": 192000,\n",
      "  \"isMpi\": false,\n",
      "  \"tags\": [],\n",
      "  \"fileInputs\": [\n",
      "    {\n",
      "      \"name\": \"Case Directory\",\n",
      "      \"sourceUrl\": \"tapis://designsafe.storage.default/kks32/template-notebooks/tapis3/OpenFOAM/DH1_run\",\n",
      "      \"autoMountLocal\": true,\n",
      "      \"targetPath\": \"inputDirectory\"\n",
      "    }\n",
      "  ],\n",
      "  \"parameterSet\": {\n",
      "    \"envVariables\": [\n",
      "      {\n",
      "        \"key\": \"mesh\",\n",
      "        \"value\": \"On\"\n",
      "      },\n",
      "      {\n",
      "        \"key\": \"solver\",\n",
      "        \"value\": \"pisoFoam\"\n",
      "      },\n",
      "      {\n",
      "        \"key\": \"decomp\",\n",
      "        \"value\": \"On\"\n",
      "      }\n",
      "    ],\n",
      "    \"schedulerOptions\": [\n",
      "      {\n",
      "        \"name\": \"TACC Allocation\",\n",
      "        \"arg\": \"-A ASC25049\"\n",
      "      }\n",
      "    ]\n",
      "  }\n",
      "}\n"
     ]
    }
   ],
   "source": [
    "# Customize job settings (optional)\n",
    "job_dict[\"nodeCount\"] = 1  # Use single node\n",
    "job_dict[\"coresPerNode\"] = 2  # Use 2 cores for parallel simulation\n",
    "print(json.dumps(job_dict, indent=2, default=str))"
   ]
  },
  {
   "cell_type": "code",
   "execution_count": 8,
   "metadata": {},
   "outputs": [
    {
     "name": "stdout",
     "output_type": "stream",
     "text": [
      "\n",
      "--- Submitting Tapis Job Request ---\n",
      "{\n",
      "  \"name\": \"openfoam-stampede3-20250609_190344\",\n",
      "  \"appId\": \"openfoam-stampede3\",\n",
      "  \"appVersion\": \"12.0.0\",\n",
      "  \"description\": \"OpenFOAM is free, open source software for computational fluid dynamics (CFD).\",\n",
      "  \"execSystemId\": \"stampede3\",\n",
      "  \"archiveSystemId\": \"designsafe.storage.default\",\n",
      "  \"archiveSystemDir\": \"${EffectiveUserId}/tapis-jobs-archive/${JobCreateDate}/${JobUUID}\",\n",
      "  \"archiveOnAppError\": true,\n",
      "  \"execSystemLogicalQueue\": \"skx-dev\",\n",
      "  \"nodeCount\": 1,\n",
      "  \"coresPerNode\": 2,\n",
      "  \"maxMinutes\": 10,\n",
      "  \"memoryMB\": 192000,\n",
      "  \"isMpi\": false,\n",
      "  \"tags\": [],\n",
      "  \"fileInputs\": [\n",
      "    {\n",
      "      \"name\": \"Case Directory\",\n",
      "      \"sourceUrl\": \"tapis://designsafe.storage.default/kks32/template-notebooks/tapis3/OpenFOAM/DH1_run\",\n",
      "      \"autoMountLocal\": true,\n",
      "      \"targetPath\": \"inputDirectory\"\n",
      "    }\n",
      "  ],\n",
      "  \"parameterSet\": {\n",
      "    \"envVariables\": [\n",
      "      {\n",
      "        \"key\": \"mesh\",\n",
      "        \"value\": \"On\"\n",
      "      },\n",
      "      {\n",
      "        \"key\": \"solver\",\n",
      "        \"value\": \"pisoFoam\"\n",
      "      },\n",
      "      {\n",
      "        \"key\": \"decomp\",\n",
      "        \"value\": \"On\"\n",
      "      }\n",
      "    ],\n",
      "    \"schedulerOptions\": [\n",
      "      {\n",
      "        \"name\": \"TACC Allocation\",\n",
      "        \"arg\": \"-A ASC25049\"\n",
      "      }\n",
      "    ]\n",
      "  }\n",
      "}\n",
      "------------------------------------\n",
      "Job submitted successfully. UUID: d491964f-8e39-499c-9307-1bfdd455cc73-007\n",
      "Job UUID: d491964f-8e39-499c-9307-1bfdd455cc73-007\n"
     ]
    }
   ],
   "source": [
    "# Submit the job to TACC\n",
    "submitted_job = ds.jobs.submit_request(job_dict)\n",
    "print(f\"Job UUID: {submitted_job.uuid}\")"
   ]
  },
  {
   "cell_type": "code",
   "execution_count": 9,
   "metadata": {},
   "outputs": [
    {
     "name": "stdout",
     "output_type": "stream",
     "text": [
      "\n",
      "Monitoring Job: d491964f-8e39-499c-9307-1bfdd455cc73-007\n"
     ]
    },
    {
     "data": {
      "application/vnd.jupyter.widget-view+json": {
       "model_id": "",
       "version_major": 2,
       "version_minor": 0
      },
      "text/plain": [
       "Waiting for job to start: 0 checks [00:00, ? checks/s]"
      ]
     },
     "metadata": {},
     "output_type": "display_data"
    },
    {
     "data": {
      "application/vnd.jupyter.widget-view+json": {
       "model_id": "b1dea3dc8170411d8fdd1b1e5aa2e8d2",
       "version_major": 2,
       "version_minor": 0
      },
      "text/plain": [
       "Monitoring job:   0%|          | 0/40 [00:00<?, ? checks/s]"
      ]
     },
     "metadata": {},
     "output_type": "display_data"
    },
    {
     "name": "stdout",
     "output_type": "stream",
     "text": [
      "\tStatus: RUNNING\n",
      "\tStatus: ARCHIVING\n",
      "\tStatus: FINISHED\n",
      "Job d491964f-8e39-499c-9307-1bfdd455cc73-007 finished with status: FINISHED\n"
     ]
    }
   ],
   "source": [
    "# Monitor job execution until completion\n",
    "final_status = submitted_job.monitor(interval=15)  # Check every 15 seconds\n",
    "print(f\"Job {submitted_job.uuid} finished with status: {final_status}\")"
   ]
  },
  {
   "cell_type": "code",
   "execution_count": 10,
   "metadata": {},
   "outputs": [
    {
     "name": "stdout",
     "output_type": "stream",
     "text": [
      "\n",
      "Runtime Summary\n",
      "---------------\n",
      "QUEUED  time: 00:00:01\n",
      "RUNNING time: 00:00:45\n",
      "TOTAL   time: 00:02:42\n",
      "---------------\n"
     ]
    }
   ],
   "source": [
    "# Display job runtime summary\n",
    "submitted_job.print_runtime_summary(verbose=False)"
   ]
  },
  {
   "cell_type": "code",
   "execution_count": 11,
   "metadata": {},
   "outputs": [
    {
     "name": "stdout",
     "output_type": "stream",
     "text": [
      "Current status: FINISHED\n"
     ]
    }
   ],
   "source": [
    "# Get current job status\n",
    "current_status = ds.jobs.get_status(submitted_job.uuid)\n",
    "print(f\"Current status: {current_status}\")"
   ]
  },
  {
   "cell_type": "code",
   "execution_count": 12,
   "metadata": {},
   "outputs": [
    {
     "name": "stdout",
     "output_type": "stream",
     "text": [
      "Last message: Setting job status to FINISHED.\n"
     ]
    }
   ],
   "source": [
    "# Display last status message from TACC\n",
    "print(f\"Last message: {submitted_job.last_message}\")"
   ]
  },
  {
   "cell_type": "code",
   "execution_count": 13,
   "metadata": {},
   "outputs": [
    {
     "name": "stdout",
     "output_type": "stream",
     "text": [
      "Attempting to fetch content of 'tapisjob.out' from job archive...\n",
      "Returning last 50 lines of 'tapisjob.out'.\n",
      "Job output:\n",
      "++++ complete -o filenames -o nospace -F _moveMesh_ moveMesh\n",
      "++++ complete -o filenames -o nospace -F _mpirunDebug_ mpirunDebug\n",
      "++++ complete -o filenames -o nospace -F _multiphaseEulerFoam_ multiphaseEulerFoam\n",
      "++++ complete -o filenames -o nospace -F _multiphaseInterFoam_ multiphaseInterFoam\n",
      "++++ complete -o filenames -o nospace -F _paraFoam_ paraFoam\n",
      "++++ complete -o filenames -o nospace -F _pimpleFoam_ pimpleFoam\n",
      "++++ complete -o filenames -o nospace -F _pisoFoam_ pisoFoam\n",
      "++++ complete -o filenames -o nospace -F _postProcess_ postProcess\n",
      "++++ complete -o filenames -o nospace -F _reactingFoam_ reactingFoam\n",
      "++++ complete -o filenames -o nospace -F _rhoCentralFoam_ rhoCentralFoam\n",
      "++++ complete -o filenames -o nospace -F _rhoPimpleFoam_ rhoPimpleFoam\n",
      "++++ complete -o filenames -o nospace -F _rhoSimpleFoam_ rhoSimpleFoam\n",
      "++++ complete -o filenames -o nospace -F _simpleFoam_ simpleFoam\n",
      "++++ complete -o filenames -o nospace -F _solidDisplacementFoam_ solidDisplacementFoam\n",
      "++++ complete -o filenames -o nospace -F _solidEquilibriumDisplacementFoam_ solidEquilibriumDisplacementFoam\n",
      "++++ complete -o filenames -o nospace -F _XiFoam_ XiFoam\n",
      "++++ complete -o filenames -o nospace -F _wclean_ wclean\n",
      "++++ complete -o filenames -o nospace -F _wcleanPlatform_ wcleanPlatform\n",
      "++++ complete -o filenames -o nospace -F _wdep_ wdep\n",
      "++++ complete -o filenames -o nospace -F _wmake_ wmake\n",
      "++++ complete -o filenames -o nospace -F _wmakeCheckPwd_ wmakeCheckPwd\n",
      "++++ complete -o filenames -o nospace -F _wmakeCollect_ wmakeCollect\n",
      "++++ complete -o filenames -o nospace -F _wmakeFilesAndOptions_ wmakeFilesAndOptions\n",
      "++++ complete -o filenames -o nospace -F _wmakeLnInclude_ wmakeLnInclude\n",
      "++++ complete -o filenames -o nospace -F _wmakeLnIncludeAll_ wmakeLnIncludeAll\n",
      "++++ complete -o filenames -o nospace -F _wmakePrintBuild_ wmakePrintBuild\n",
      "++++ complete -o filenames -o nospace -F _wmakeSchedulerUptime_ wmakeSchedulerUptime\n",
      "++++ complete -o filenames -o nospace -F _wrmo_ wrmo\n",
      "++ cd inputDirectory\n",
      "++ v1=On\n",
      "++ v2=Off\n",
      "++ t2=olaFlow\n",
      "++ d1=On\n",
      "++ echo On\n",
      "On\n",
      "++ m1=On\n",
      "++ echo On\n",
      "On\n",
      "++ t1=pisoFoam\n",
      "++ echo pisoFoam\n",
      "pisoFoam\n",
      "++ '[' pisoFoam == olaFlow ']'\n",
      "++ '[' On == On ']'\n",
      "++ '[' On == On ']'\n",
      "++ blockMesh\n",
      "++ decomposePar\n",
      "++ ibrun pisoFoam -parallel\n",
      "++ reconstructPar\n",
      "++ cd ..\n",
      "++ '[' '!' 0 ']'\n"
     ]
    }
   ],
   "source": [
    "# Display job output from stdout\n",
    "stdout_content = submitted_job.get_output_content(\"tapisjob.out\", max_lines=50)\n",
    "if stdout_content:\n",
    "    print(\"Job output:\")\n",
    "    print(stdout_content)"
   ]
  },
  {
   "cell_type": "code",
   "execution_count": 14,
   "metadata": {},
   "outputs": [
    {
     "name": "stdout",
     "output_type": "stream",
     "text": [
      "Archive URI: tapis://designsafe.storage.default/kks32/tapis-jobs-archive/2025-06-09Z/d491964f-8e39-499c-9307-1bfdd455cc73-007\n",
      "Listing files in system 'designsafe.storage.default' at path 'kks32/tapis-jobs-archive/2025-06-09Z/d491964f-8e39-499c-9307-1bfdd455cc73-007'...\n",
      "Found 4 items.\n",
      "- inputDirectory (dir)\n",
      "- tapisjob.out (file)\n",
      "- tapisjob.sh (file)\n",
      "- tapisjob_app.sh (file)\n"
     ]
    }
   ],
   "source": [
    "# List contents of job archive directory\n",
    "archive_uri = submitted_job.archive_uri\n",
    "print(f\"Archive URI: {archive_uri}\")\n",
    "outputs = ds.files.list(archive_uri)\n",
    "for item in outputs:\n",
    "    print(f\"- {item.name} ({item.type})\")"
   ]
  },
  {
   "cell_type": "markdown",
   "metadata": {},
   "source": [
    "## Post-processing (Optional)\n",
    "### Visualize results with ParaView or extract force coefficients\n",
    "\n",
    "The simulation results can be visualized using ParaView by opening the `foam.foam` file in the case directory.\n",
    "\n",
    "For force coefficient analysis, check the `postProcessing/forceCoeffs1/0/` directory in the job archive."
   ]
  },
  {
   "cell_type": "code",
   "execution_count": 15,
   "metadata": {},
   "outputs": [
    {
     "name": "stdout",
     "output_type": "stream",
     "text": [
      "/home/jupyter/MyData/tapis-jobs-archive/2025-06-09Z/d491964f-8e39-499c-9307-1bfdd455cc73-007\n"
     ]
    }
   ],
   "source": [
    "# Get DesignSafe Jupyter path\n",
    "archive_path = ds.files.translate_uri_to_path(archive_uri)\n",
    "print(archive_path)"
   ]
  },
  {
   "cell_type": "code",
   "execution_count": 16,
   "metadata": {},
   "outputs": [],
   "source": [
    "import numpy as np\n",
    "import matplotlib.pyplot as plt\n",
    "import os"
   ]
  },
  {
   "cell_type": "code",
   "execution_count": 17,
   "metadata": {},
   "outputs": [
    {
     "name": "stdout",
     "output_type": "stream",
     "text": [
      "Loaded force coefficients data with shape: (301, 6)\n"
     ]
    }
   ],
   "source": [
    "# Load force coefficients data using pandas for cleaner parsing\n",
    "import pandas as pd\n",
    "\n",
    "force_data_path = (\n",
    "    archive_path + \"/inputDirectory/postProcessing/forceCoeffs1/0/forceCoeffs.dat\"\n",
    ")\n",
    "\n",
    "# Read the file, skipping header lines and using tab separator\n",
    "data = pd.read_csv(force_data_path, sep=\"\\t\", skiprows=9, header=None)\n",
    "print(f\"Loaded force coefficients data with shape: {data.shape}\")"
   ]
  },
  {
   "cell_type": "code",
   "execution_count": 18,
   "metadata": {},
   "outputs": [
    {
     "data": {
      "image/png": "[encoded data removed]",
      "text/plain": [
       "<Figure size 640x480 with 1 Axes>"
      ]
     },
     "metadata": {},
     "output_type": "display_data"
    }
   ],
   "source": [
    "# Plot drag coefficient (Cd) vs time\n",
    "plt.plot(data.iloc[100:, 0], data.iloc[100:, 2])\n",
    "plt.xlabel(\"Time\")\n",
    "plt.ylabel(\"$C_d$\")\n",
    "plt.title(\"Drag Coefficient vs Time\")\n",
    "plt.grid(False)\n",
    "plt.show()"
   ]
  },
  {
   "cell_type": "code",
   "execution_count": 19,
   "metadata": {},
   "outputs": [
    {
     "data": {
      "image/png": "[encoded data removed]",
      "text/plain": [
       "<Figure size 640x480 with 1 Axes>"
      ]
     },
     "metadata": {},
     "output_type": "display_data"
    }
   ],
   "source": [
    "# Plot lift coefficient (Cl) vs time\n",
    "plt.plot(data.iloc[100:, 0], data.iloc[100:, 3])\n",
    "plt.xlabel(\"Time\")\n",
    "plt.ylabel(\"$C_l$\")\n",
    "plt.title(\"Lift Coefficient vs Time\")\n",
    "plt.grid(False)\n",
    "plt.show()"
   ]
  }
 ],
 "metadata": {
  "kernelspec": {
   "display_name": "Python 3 (ipykernel)",
   "language": "python",
   "name": "python3"
  },
  "language_info": {
   "codemirror_mode": {
    "name": "ipython",
    "version": 3
   },
   "file_extension": ".py",
   "mimetype": "text/x-python",
   "name": "python",
   "nbconvert_exporter": "python",
   "pygments_lexer": "ipython3",
   "version": "3.12.10"
  }
 },
 "nbformat": 4,
 "nbformat_minor": 4
}
