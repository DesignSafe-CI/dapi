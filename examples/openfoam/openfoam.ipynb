{
 "cells": [
  {
   "cell_type": "markdown",
   "metadata": {},
   "source": [
    "# OpenFOAM Example with DAPI\n",
    "## Running OpenFOAM 12 using DesignSafe API (DAPI)"
   ]
  },
  {
   "cell_type": "markdown",
   "metadata": {},
   "source": [
    "## Install DesignSafe API (DAPI)"
   ]
  },
  {
   "cell_type": "code",
   "execution_count": 54,
   "metadata": {},
   "outputs": [],
   "source": [
    "# DAPI installation\n",
    "!pip uninstall dapi --yes --quiet\n",
    "# !pip install dapi --user --quiet\n",
    "\n",
    "# Uncomment to install development version\n",
    "!pip install git+https://github.com/DesignSafe-CI/dapi.git@dev --user --quiet\n",
    "\n",
    "# Uncomment to install editable local version\n",
    "# !pip install -e ../"
   ]
  },
  {
   "cell_type": "markdown",
   "metadata": {},
   "source": [
    "## Import DAPI and Initialize Client"
   ]
  },
  {
   "cell_type": "code",
   "execution_count": 1,
   "metadata": {},
   "outputs": [
    {
     "name": "stdout",
     "output_type": "stream",
     "text": [
      "DAPI imports successful.\n"
     ]
    }
   ],
   "source": [
    "import os\n",
    "import json\n",
    "from datetime import datetime\n",
    "\n",
    "# Import DAPI components\n",
    "from dapi import (\n",
    "    DSClient,\n",
    "    SubmittedJob,\n",
    "    interpret_job_status,\n",
    "    AppDiscoveryError,\n",
    "    FileOperationError,\n",
    "    JobSubmissionError,\n",
    "    SystemInfoError,\n",
    "    JobMonitorError,\n",
    "    STATUS_TIMEOUT,\n",
    "    STATUS_UNKNOWN,\n",
    "    TAPIS_TERMINAL_STATES,\n",
    ")\n",
    "\n",
    "print(\"DAPI imports successful.\")"
   ]
  },
  {
   "cell_type": "code",
   "execution_count": 33,
   "metadata": {},
   "outputs": [
    {
     "name": "stdout",
     "output_type": "stream",
     "text": [
      "Initializing DSClient...\n",
      "Authentication successful.\n",
      "DatabaseAccessor initialized. Connections will be created on first access.\n",
      "DSClient initialized successfully.\n"
     ]
    }
   ],
   "source": [
    "# Initialize DAPI client\n",
    "try:\n",
    "    print(\"Initializing DSClient...\")\n",
    "    ds = DSClient()\n",
    "    print(\"DSClient initialized successfully.\")\n",
    "except Exception as e:\n",
    "    print(f\"Initialization failed: {e}\")\n",
    "    raise SystemExit(\"Stopping notebook due to client initialization failure.\")"
   ]
  },
  {
   "cell_type": "markdown",
   "metadata": {},
   "source": [
    "## Find OpenFOAM Application"
   ]
  },
  {
   "cell_type": "code",
   "execution_count": 34,
   "metadata": {},
   "outputs": [
    {
     "name": "stdout",
     "output_type": "stream",
     "text": [
      "Searching for OpenFOAM applications...\n",
      "\n",
      "Found 3 matching apps:\n",
      "- openfoam (Version: 9.0.0, Owner: wma_prtl)\n",
      "- simcenter-openfoam-frontera (Version: 1.0.0, Owner: tg457427)\n",
      "- openfoam-stampede3 (Version: 12.0.0, Owner: wma_prtl)\n",
      "\n"
     ]
    }
   ],
   "source": [
    "# Find OpenFOAM applications\n",
    "try:\n",
    "    print(\"Searching for OpenFOAM applications...\")\n",
    "    openfoam_apps = ds.apps.find(\"openfoam\", verbose=True)\n",
    "\n",
    "    if not openfoam_apps:\n",
    "        print(\"No OpenFOAM applications found.\")\n",
    "        raise SystemExit(\"No OpenFOAM apps available.\")\n",
    "\n",
    "except Exception as e:\n",
    "    print(f\"Error finding OpenFOAM apps: {e}\")\n",
    "    raise SystemExit(\"Failed to discover OpenFOAM applications.\")"
   ]
  },
  {
   "cell_type": "code",
   "execution_count": 35,
   "metadata": {},
   "outputs": [
    {
     "name": "stdout",
     "output_type": "stream",
     "text": [
      "Getting details for app: openfoam-stampede3\n",
      "\n",
      "App Details:\n",
      "  ID: openfoam-stampede3\n",
      "  Version: 12.0.0\n",
      "  Owner: wma_prtl\n",
      "  Execution System: stampede3\n",
      "  Description: OpenFOAM is free, open source software for computational fluid dynamics (CFD).\n",
      "\n",
      "App Description: OpenFOAM is free, open source software for computational fluid dynamics (CFD).\n",
      "App Version: 12.0.0\n",
      "Execution System: stampede3\n"
     ]
    }
   ],
   "source": [
    "# Get details for OpenFOAM application\n",
    "app_id = \"openfoam-stampede3\"  # Use the same app as the original example\n",
    "\n",
    "try:\n",
    "    print(f\"Getting details for app: {app_id}\")\n",
    "    app_details = ds.apps.get_details(app_id, verbose=True)\n",
    "\n",
    "    if not app_details:\n",
    "        raise SystemExit(f\"Could not find details for app '{app_id}'.\")\n",
    "\n",
    "    print(f\"\\nApp Description: {app_details.description}\")\n",
    "    print(f\"App Version: {app_details.version}\")\n",
    "    print(f\"Execution System: {app_details.jobAttributes.execSystemId}\")\n",
    "\n",
    "except Exception as e:\n",
    "    print(f\"Error getting app details: {e}\")\n",
    "    raise SystemExit(\"Failed to get OpenFOAM app details.\")"
   ]
  },
  {
   "cell_type": "markdown",
   "metadata": {},
   "source": [
    "## Illustrative case\n",
    "### Simulation of the wind flow around a square cross-section of the building using RANS model\n",
    ">Case directory: DH1_run contains $0$, *constant* and *system* directories.\n",
    "\n",
    "![frame.png](frame.png)"
   ]
  },
  {
   "cell_type": "markdown",
   "metadata": {},
   "source": [
    "## Mesh generation using the *blockMesh* utility \n",
    "> Note: The grid resolution in the plot doesn't meet the requirement for running RANS simulations. This is only for an illustrative case.\n",
    "\n",
    "![mesh.png](mesh.png)"
   ]
  },
  {
   "cell_type": "code",
   "execution_count": 36,
   "metadata": {},
   "outputs": [
    {
     "name": "stdout",
     "output_type": "stream",
     "text": [
      "/*--------------------------------*- C++ -*----------------------------------*\\\n",
      "| =========                 |                                                 |\n",
      "| \\\\      /  F ield         | OpenFOAM: The Open Source CFD Toolbox           |\n",
      "|  \\\\    /   O peration     | Version:  2.3.1                                 |\n",
      "|   \\\\  /    A nd           | Web:      www.OpenFOAM.org                      |\n",
      "|    \\\\/     M anipulation  |                                                 |\n",
      "\\*---------------------------------------------------------------------------*/\n",
      "FoamFile\n",
      "{\n",
      "    version     2.0;\n",
      "    format      ascii;\n",
      "    class       dictionary;\n",
      "    object      blockMeshDict;\n",
      "}\n",
      "// * * * * * * * * * * * * * * * * * * * * * * * * * * * * * * * * * * * * * //\n",
      "// Parametrized building geometry\n",
      "\n",
      "//m4 definitions:\n",
      "\n",
      "\n",
      "\n",
      "\n",
      "\n",
      "\n",
      "\n",
      "// * * * * * * * * * * * * * * * * * * * * * * * * * * * * * * * * * * * * * //\n",
      "//Building length x and width y\n",
      "\n",
      "\n",
      "\n",
      "\n",
      "\n",
      "/*--------------------------------*- C++ -*----------------------------------*\\\n",
      "| =========                 |                                                 |\n",
      "| \\\\      /  F ield         | OpenFOAM: The Open Source CFD Toolbox           |\n",
      "|  \\\\    /   O peration     | Version:  2.3.1                                 |\n",
      "|   \\\\  /    A nd           | Web:      www.OpenFOAM.org                      |\n",
      "|    \\\\/     M anipulation  |                                                 |\n",
      "\\*---------------------------------------------------------------------------*/\n",
      "FoamFile\n",
      "{\n",
      "    version     2.0;\n",
      "    format      ascii;\n",
      "    class       dictionary;\n",
      "    object      blockMeshDict;\n",
      "}\n",
      "// * * * * * * * * * * * * * * * * * * * * * * * * * * * * * * * * * * * * * //\n",
      "\n",
      "convertToMeters 1;\n",
      "\n",
      "vertices\n",
      "(\n",
      "    (-5 -5 0)\n",
      "    (0 -5 0)\n",
      "    ( 1.0 -5 0)\n",
      "    (10 -5 0)\n",
      "\n",
      "    (-5 -0.5 0)\n",
      "    (0 -0.5 0)\n",
      "    ( 1.0 -0.5 0)\n",
      "    (10 -0.5 0)\n",
      "\n",
      "    (-5 0.5 0)\n",
      "    (0 0.5 0)\n",
      "    ( 1.0 0.5 0)\n",
      "    (10 0.5 0)\n",
      "\n",
      "    (-5 5 0)\n",
      "    (0 5 0)\n",
      "    ( 1.0 5 0)\n",
      "    (10 5 0)\n",
      "\t\n",
      "    (-5 -5 1) //z+\n",
      "    (0 -5 1)\n",
      "    ( 1.0 -5 1)\n",
      "    (10 -5 1)\n",
      "\n",
      "    (-5 -0.5 1)\n",
      "    (0 -0.5 1)\n",
      "    ( 1.0 -0.5 1)\n",
      "    (10 -0.5 1)\n",
      "\n",
      "    (-5 0.5 1)\n",
      "    (0 0.5 1)\n",
      "    ( 1.0 0.5 1)\n",
      "    (10 0.5 1)\n",
      "\n",
      "    (-5 5 1)\n",
      "    (0 5 1)\n",
      "    ( 1.0 5 1)\n",
      "    (10 5 1)\n",
      ");\n",
      "\n",
      "blocks\n",
      "(\n",
      "    hex (0 1 5 4 16 17 21 20) (10 10 3) simpleGrading (0.3909 0.4 1)\n",
      "    hex (1 2 6 5 17 18 22 21) (3 10 3) simpleGrading (1 0.4 1)\n",
      "    hex (2 3 7 6 18 19 23 22) (14 10 3) simpleGrading (3.8833 0.4 1)\n",
      "    hex (4 5 9 8 20 21 25 24) (10 3 3) simpleGrading (0.3909 1 1)\n",
      "    hex (6 7 11 10 22 23 27 26) (14 3 3) simpleGrading (3.8833 1 1)\n",
      "    hex (8 9 13 12 24 25 29 28) (10 10 3) simpleGrading (0.3909 2.5 1)\n",
      "    hex (9 10 14 13 25 26 30 29) (3 10 3) simpleGrading (1 2.5 1)\n",
      "    hex (10 11 15 14 26 27 31 30) (14 10 3) simpleGrading (3.8833 2.5 1)\n",
      ");\n",
      "\n",
      "boundary\n",
      "(\n",
      "    inlet\n",
      "    {\n",
      "        type patch;\n",
      "        faces\n",
      "        (   \n",
      "            (0 16 20 4)\n",
      "            (4 20 24 8)\n",
      "            (8 24 28 12)\n",
      "        );\n",
      "     }\n",
      "\n",
      "    outlet\n",
      "    {\n",
      "        type patch;\n",
      "        faces\n",
      "        (   \n",
      "            (3 7 23 19)\n",
      "            (7 11 27 23)\n",
      "            (11 15 31 27)\n",
      "        );\n",
      "     }\n",
      "\n",
      "    top\n",
      "    {\n",
      "        type symmetryPlane;\n",
      "        faces\n",
      "        (   \n",
      "            (12 28 29 13)\n",
      "            (13 29 30 14)\n",
      "            (14 30 31 15)\n",
      "        );\n",
      "    }\n",
      "\n",
      "    bottom\n",
      "    {\n",
      "        type symmetryPlane;\n",
      "        faces\n",
      "        (   \n",
      "            (0 1 17 16)\n",
      "            (1 2 18 17)\n",
      "            (2 3 19 18)\n",
      "        );\n",
      "    }\n",
      "\n",
      "    obstacle\n",
      "    {\n",
      "        type wall;\n",
      "        faces\n",
      "        (   \n",
      "            (5 9 25 21)\n",
      "            (9 10 26 25)\n",
      "            (10 6 22 26)\n",
      "            (6 5 21 22)\n",
      "        );\n",
      "    }\n",
      "\n",
      "    front\n",
      "    {\n",
      "        type cyclic;\n",
      "        faces\n",
      "        (   \n",
      "            (16 17 21 20)\n",
      "            (17 18 22 21)\n",
      "            (18 19 23 22)\n",
      "            (20 21 25 24)\n",
      "            (22 23 27 26)\n",
      "            (24 25 29 28)\n",
      "            (25 26 30 29)\n",
      "            (26 27 31 30)\n",
      "        );\n",
      "        neighbourPatch back;\n",
      "    }\n",
      "\n",
      "    back\n",
      "    {\n",
      "        type cyclic;\n",
      "        faces\n",
      "        (   \n",
      "            (0 4 5 1)\n",
      "            (1 5 6 2)\n",
      "            (2 6 7 3)\n",
      "            (4 8 9 5)\n",
      "            (6 10 11 7)\n",
      "            (8 12 13 9)\n",
      "            (9 13 14 10)\n",
      "            (10 14 15 11)\n",
      "        );\n",
      "        neighbourPatch front;\n",
      "    }\n",
      ");\n",
      "\n",
      "mergePatchPairs\n",
      "(\n",
      ");\n",
      "\n",
      "// ************************************************************************* //\n",
      "\n"
     ]
    }
   ],
   "source": [
    "# Display blockMeshDict file content (if available locally)\n",
    "try:\n",
    "    with open(\"DH1_run/system/blockMeshDict\", \"r\") as f:\n",
    "        file_contents = f.read()\n",
    "        print(file_contents)\n",
    "except FileNotFoundError:\n",
    "    print(\n",
    "        \"blockMeshDict file not found locally. Please ensure the case directory is available.\"\n",
    "    )"
   ]
  },
  {
   "cell_type": "code",
   "execution_count": 37,
   "metadata": {},
   "outputs": [
    {
     "name": "stdout",
     "output_type": "stream",
     "text": [
      "/*--------------------------------*- C++ -*----------------------------------*\\\n",
      "| =========                 |                                                 |\n",
      "| \\\\      /  F ield         | OpenFOAM: The Open Source CFD Toolbox           |\n",
      "|  \\\\    /   O peration     | Version:  2.3.1                                 |\n",
      "|   \\\\  /    A nd           | Web:      www.OpenFOAM.org                      |\n",
      "|    \\\\/     M anipulation  |                                                 |\n",
      "\\*---------------------------------------------------------------------------*/\n",
      "FoamFile\n",
      "{\n",
      "    version     2.0;\n",
      "    format      ascii;\n",
      "    class       volVectorField;\n",
      "    object      U;\n",
      "}\n",
      "// * * * * * * * * * * * * * * * * * * * * * * * * * * * * * * * * * * * * * //\n",
      "\n",
      "dimensions      [0 1 -1 0 0 0 0];\n",
      "\n",
      "internalField   uniform (0 0 0);\n",
      "\n",
      "boundaryField\n",
      "{\n",
      "\n",
      "    inlet         \n",
      "    {\n",
      "        type            fixedValue;\n",
      "        value           uniform (1 0 0);\n",
      "    }\n",
      "\n",
      "    outlet\n",
      "    {\n",
      "    \ttype            inletOutlet;\n",
      "    \tinletValue      uniform (0 0 0);\n",
      "    \tvalue           uniform (0 0 0);\n",
      "    }\n",
      "\n",
      "    obstacle\n",
      "    {\n",
      "        type            fixedValue;\n",
      "        value           uniform (0 0 0);\n",
      "    }\n",
      "\n",
      "#include \"boundary\"\n",
      "}\n",
      "\n",
      "// ************************************************************************* //\n",
      "\n"
     ]
    }
   ],
   "source": [
    "# Display velocity boundary conditions (if available locally)\n",
    "try:\n",
    "    with open(\"DH1_run/0/U\", \"r\") as f:\n",
    "        file_contents = f.read()\n",
    "        print(file_contents)\n",
    "except FileNotFoundError:\n",
    "    print(\n",
    "        \"Velocity file (U) not found locally. Please ensure the case directory is available.\"\n",
    "    )"
   ]
  },
  {
   "cell_type": "code",
   "execution_count": 38,
   "metadata": {},
   "outputs": [
    {
     "name": "stdout",
     "output_type": "stream",
     "text": [
      "/*--------------------------------*- C++ -*----------------------------------*\\\n",
      "| =========                 |                                                 |\n",
      "| \\\\      /  F ield         | OpenFOAM: The Open Source CFD Toolbox           |\n",
      "|  \\\\    /   O peration     | Version:  2.3.1                                 |\n",
      "|   \\\\  /    A nd           | Web:      www.OpenFOAM.org                      |\n",
      "|    \\\\/     M anipulation  |                                                 |\n",
      "\\*---------------------------------------------------------------------------*/\n",
      "FoamFile\n",
      "{\n",
      "    version     2.0;\n",
      "    format      ascii;\n",
      "    class       dictionary;\n",
      "    location    \"constant\";\n",
      "    object      turbulenceProperties;\n",
      "}\n",
      "// * * * * * * * * * * * * * * * * * * * * * * * * * * * * * * * * * * * * * //\n",
      "\n",
      "simulationType  RAS;\n",
      "\n",
      "RAS\n",
      "{\n",
      "\tRASModel            kOmegaSST;\n",
      "\n",
      "\tturbulence          on;\n",
      "\n",
      "\tprintCoeffs         on;\n",
      "}\n",
      "\n",
      "// ************************************************************************* //\n",
      "\n"
     ]
    }
   ],
   "source": [
    "# Display turbulence properties (if available locally)\n",
    "try:\n",
    "    with open(\"DH1_run/constant/turbulenceProperties\", \"r\") as f:\n",
    "        file_contents = f.read()\n",
    "        print(file_contents)\n",
    "except FileNotFoundError:\n",
    "    print(\n",
    "        \"turbulenceProperties file not found locally. Please ensure the case directory is available.\"\n",
    "    )"
   ]
  },
  {
   "cell_type": "markdown",
   "metadata": {},
   "source": [
    "## Setup the OpenFOAM run configuration\n",
    "(Reference:\n",
    "Harish, Ajay Bangalore; Govindjee, Sanjay; McKenna, Frank (2020) \"CFD Notebooks (Beginner).\" DesignSafe-CI. https://doi.org/10.17603/ds2-w2x6-nm09.)\n",
    "\n",
    "> Specify the number of nodes and processors for parallel computing <br>\n",
    "> Select a solver <br>\n",
    "> Change to your input directory"
   ]
  },
  {
   "cell_type": "code",
   "execution_count": 39,
   "metadata": {},
   "outputs": [],
   "source": [
    "# Configuration parameters\n",
    "ds_path = \"/home/jupyter/MyData/template-notebooks/tapis3/OpenFOAM/DH1_run\"  # Update with your actual path\n",
    "max_job_minutes = 5\n",
    "tacc_allocation = \"ASC25049\"  # Update with your allocation\n",
    "archive_system: str = \"designsafe\"\n",
    "\n",
    "# Job configuration\n",
    "job_name = \"OpenFOAM-DAPI-Demo\"\n",
    "node_count = 1\n",
    "cores_per_node = 2\n",
    "\n",
    "# Add OpenFOAM parameters (mesh, solver, decomp)\n",
    "openfoam_env_vars = [\n",
    "    {\"key\": \"mesh\", \"value\": \"On\"},\n",
    "    {\"key\": \"solver\", \"value\": \"pisoFoam\"},\n",
    "    {\"key\": \"decomp\", \"value\": \"On\"},\n",
    "]"
   ]
  },
  {
   "cell_type": "code",
   "execution_count": 40,
   "metadata": {
    "scrolled": true
   },
   "outputs": [
    {
     "name": "stdout",
     "output_type": "stream",
     "text": [
      "Translated '/home/jupyter/MyData/template-notebooks/tapis3/OpenFOAM/DH1_run' to 'tapis://designsafe.storage.default/kks32/template-notebooks/tapis3/OpenFOAM/DH1_run' using t.username\n",
      "Verifying existence of translated path: tapis://designsafe.storage.default/kks32/template-notebooks/tapis3/OpenFOAM/DH1_run\n",
      "Checking system 'designsafe.storage.default' for path 'kks32/template-notebooks/tapis3/OpenFOAM/DH1_run'...\n",
      "Verification successful: Path exists.\n"
     ]
    }
   ],
   "source": [
    "# Translate local path to Tapis URI\n",
    "input_uri = ds.files.translate_path_to_uri(ds_path, verify_exists=True)"
   ]
  },
  {
   "cell_type": "markdown",
   "metadata": {},
   "source": [
    "## Generate Job Request"
   ]
  },
  {
   "cell_type": "code",
   "execution_count": 52,
   "metadata": {},
   "outputs": [
    {
     "name": "stdout",
     "output_type": "stream",
     "text": [
      "Generating job request for app 'openfoam-stampede3'...\n",
      "Using App Details: openfoam-stampede3 v12.0.0\n",
      "Auto-detected input parameter: 'Case Directory' (provided: 'Input Directory')\n",
      "script_filename is None, skipping script parameter placement.\n",
      "Adding/Updating TACC allocation: ASC25049\n",
      "Job request dictionary generated successfully.\n",
      "\n",
      "--- Generated Job Request Dictionary ---\n",
      "{\n",
      "  \"name\": \"OpenFOAM-DAPI-Demo\",\n",
      "  \"appId\": \"openfoam-stampede3\",\n",
      "  \"appVersion\": \"12.0.0\",\n",
      "  \"description\": \"OpenFOAM is free, open source software for computational fluid dynamics (CFD).\",\n",
      "  \"execSystemId\": \"stampede3\",\n",
      "  \"archiveSystemId\": \"designsafe.storage.default\",\n",
      "  \"archiveSystemDir\": \"${EffectiveUserId}/tapis-jobs-archive/${JobCreateDate}/${JobUUID}\",\n",
      "  \"archiveOnAppError\": true,\n",
      "  \"execSystemLogicalQueue\": \"skx-dev\",\n",
      "  \"nodeCount\": 1,\n",
      "  \"coresPerNode\": 2,\n",
      "  \"maxMinutes\": 5,\n",
      "  \"memoryMB\": 192000,\n",
      "  \"isMpi\": false,\n",
      "  \"tags\": [],\n",
      "  \"fileInputs\": [\n",
      "    {\n",
      "      \"name\": \"Case Directory\",\n",
      "      \"sourceUrl\": \"tapis://designsafe.storage.default/kks32/template-notebooks/tapis3/OpenFOAM/DH1_run\",\n",
      "      \"autoMountLocal\": true,\n",
      "      \"targetPath\": \"inputDirectory\"\n",
      "    }\n",
      "  ],\n",
      "  \"parameterSet\": {\n",
      "    \"envVariables\": [\n",
      "      {\n",
      "        \"key\": \"mesh\",\n",
      "        \"value\": \"On\"\n",
      "      },\n",
      "      {\n",
      "        \"key\": \"solver\",\n",
      "        \"value\": \"pisoFoam\"\n",
      "      },\n",
      "      {\n",
      "        \"key\": \"decomp\",\n",
      "        \"value\": \"On\"\n",
      "      }\n",
      "    ],\n",
      "    \"schedulerOptions\": [\n",
      "      {\n",
      "        \"name\": \"TACC Allocation\",\n",
      "        \"arg\": \"-A ASC25049\"\n",
      "      }\n",
      "    ]\n",
      "  }\n",
      "}\n",
      "---------------------------------------\n"
     ]
    }
   ],
   "source": [
    "# Generate job request using DAPI\n",
    "\n",
    "job_dict = ds.jobs.generate_request(\n",
    "    app_id=app_id,\n",
    "    input_dir_uri=input_uri,\n",
    "    max_minutes=max_job_minutes,\n",
    "    allocation=tacc_allocation,\n",
    "    archive_system=archive_system,\n",
    "    job_name=job_name,\n",
    "    node_count=node_count,  # Optional resource override\n",
    "    cores_per_node=cores_per_node,  # Optional resource override\n",
    "    extra_env_vars=openfoam_env_vars,\n",
    ")\n",
    "\n",
    "\n",
    "print(\"\\n--- Generated Job Request Dictionary ---\")\n",
    "print(json.dumps(job_dict, indent=2, default=str))\n",
    "print(\"---------------------------------------\")"
   ]
  },
  {
   "cell_type": "markdown",
   "metadata": {},
   "source": [
    "## Submit Job to TACC"
   ]
  },
  {
   "cell_type": "code",
   "execution_count": 53,
   "metadata": {},
   "outputs": [
    {
     "name": "stdout",
     "output_type": "stream",
     "text": [
      "\n",
      "--- Submitting Tapis Job Request ---\n",
      "{\n",
      "  \"name\": \"OpenFOAM-DAPI-Demo\",\n",
      "  \"appId\": \"openfoam-stampede3\",\n",
      "  \"appVersion\": \"12.0.0\",\n",
      "  \"description\": \"OpenFOAM is free, open source software for computational fluid dynamics (CFD).\",\n",
      "  \"execSystemId\": \"stampede3\",\n",
      "  \"archiveSystemId\": \"designsafe.storage.default\",\n",
      "  \"archiveSystemDir\": \"${EffectiveUserId}/tapis-jobs-archive/${JobCreateDate}/${JobUUID}\",\n",
      "  \"archiveOnAppError\": true,\n",
      "  \"execSystemLogicalQueue\": \"skx-dev\",\n",
      "  \"nodeCount\": 1,\n",
      "  \"coresPerNode\": 2,\n",
      "  \"maxMinutes\": 5,\n",
      "  \"memoryMB\": 192000,\n",
      "  \"isMpi\": false,\n",
      "  \"tags\": [],\n",
      "  \"fileInputs\": [\n",
      "    {\n",
      "      \"name\": \"Case Directory\",\n",
      "      \"sourceUrl\": \"tapis://designsafe.storage.default/kks32/template-notebooks/tapis3/OpenFOAM/DH1_run\",\n",
      "      \"autoMountLocal\": true,\n",
      "      \"targetPath\": \"inputDirectory\"\n",
      "    }\n",
      "  ],\n",
      "  \"parameterSet\": {\n",
      "    \"envVariables\": [\n",
      "      {\n",
      "        \"key\": \"mesh\",\n",
      "        \"value\": \"On\"\n",
      "      },\n",
      "      {\n",
      "        \"key\": \"solver\",\n",
      "        \"value\": \"pisoFoam\"\n",
      "      },\n",
      "      {\n",
      "        \"key\": \"decomp\",\n",
      "        \"value\": \"On\"\n",
      "      }\n",
      "    ],\n",
      "    \"schedulerOptions\": [\n",
      "      {\n",
      "        \"name\": \"TACC Allocation\",\n",
      "        \"arg\": \"-A ASC25049\"\n",
      "      }\n",
      "    ]\n",
      "  }\n",
      "}\n",
      "------------------------------------\n",
      "Job submitted successfully. UUID: 314cac7f-bb28-4a56-a440-47374ccd11ce-007\n"
     ]
    }
   ],
   "source": [
    "# Submit the job\n",
    "submitted_job = ds.jobs.submit_request(job_dict)"
   ]
  },
  {
   "cell_type": "markdown",
   "metadata": {},
   "source": [
    "## Monitor Job Status"
   ]
  },
  {
   "cell_type": "code",
   "execution_count": null,
   "metadata": {},
   "outputs": [
    {
     "name": "stdout",
     "output_type": "stream",
     "text": [
      "\n",
      "Monitoring Job: 314cac7f-bb28-4a56-a440-47374ccd11ce-007\n"
     ]
    },
    {
     "data": {
      "application/vnd.jupyter.widget-view+json": {
       "model_id": "20c6a7ebe1cc4e4fa889f69e56486b72",
       "version_major": 2,
       "version_minor": 0
      },
      "text/plain": [
       "Waiting for job to start: 0 checks [00:00, ? checks/s]"
      ]
     },
     "metadata": {},
     "output_type": "display_data"
    }
   ],
   "source": [
    "final_status = submitted_job.monitor(interval=30)\n",
    "print(f\"\\nJob {submitted_job.uuid} monitoring finished.\")\n",
    "print(f\"Final status: {final_status}\")\n",
    "submitted_job.print_runtime_summary(verbose=False)"
   ]
  },
  {
   "cell_type": "markdown",
   "metadata": {},
   "source": [
    "## Access Job Output and Archive"
   ]
  },
  {
   "cell_type": "code",
   "execution_count": 51,
   "metadata": {},
   "outputs": [
    {
     "name": "stdout",
     "output_type": "stream",
     "text": [
      "\n",
      "--- Job Output for 5c333614-e7b3-4a03-acaf-52d88bcc9161-007 (Status: FINISHED) ---\n",
      "Attempting to fetch content of 'tapisjob.out' from job archive...\n",
      "Returning last 50 lines of 'tapisjob.out'.\n",
      "\n",
      "--- Last 50 lines of tapisjob.out ---\n",
      "++++ complete -o filenames -o nospace -F _wmakeSchedulerUptime_ wmakeSchedulerUptime\n",
      "++++ complete -o filenames -o nospace -F _wrmo_ wrmo\n",
      "++ cd inputDirectory\n",
      "++ v1=On\n",
      "++ v2=Off\n",
      "++ t2=olaFlow\n",
      "++ d1=On\n",
      "++ echo On\n",
      "On\n",
      "++ m1=On\n",
      "++ echo On\n",
      "On\n",
      "++ t1=pisoFoam\n",
      "++ echo pisoFoam\n",
      "pisoFoam\n",
      "++ '[' pisoFoam == olaFlow ']'\n",
      "++ '[' On == On ']'\n",
      "++ '[' On == On ']'\n",
      "++ blockMesh\n",
      "++ decomposePar\n",
      "++ ibrun pisoFoam -parallel\n",
      "[0] \n",
      "[0] \n",
      "[0] --> FOAM FATAL IO ERROR: \n",
      "[0] keyword omegaFinal is undefined in dictionary \"/scratch/05873/kks32/tapis/5c333614-e7b3-4a03-acaf-52d88bcc9161-007/inputDirectory/system/fvSolution/solvers\"\n",
      "[0] \n",
      "[0] file: /scratch/05873/kks32/tapis/5c333614-e7b3-4a03-acaf-52d88bcc9161-007/inputDirectory/system/fvSolution/solvers from line 22 to line 64.\n",
      "[0] \n",
      "[0]     From function const Foam::dictionary &Foam::dictionary::subDict(const word &) const\n",
      "[0]     in file db/dictionary/dictionary.C at line 849.\n",
      "[0] [1] \n",
      "FOAM parallel run exiting\n",
      "[0] \n",
      "\n",
      "[1] \n",
      "[1] --> FOAM FATAL IO ERROR: \n",
      "[1] keyword omegaFinal is undefined in dictionary \"IOstream/solvers\"\n",
      "[1] \n",
      "[1] file: IOstream/solvers from line 0 to line 0.\n",
      "[1] \n",
      "[1]     From function const Foam::dictionary &Foam::dictionary::subDict(const word &) const\n",
      "[1]     in file db/dictionary/dictionary.C at line 849.\n",
      "[1] \n",
      "FOAM parallel run exiting\n",
      "[1] \n",
      "Abort(1) on node 0 (rank 0 in comm 496): application called MPI_Abort(comm=0x84000003, 1) - process 0\n",
      "Abort(1) on node 1 (rank 1 in comm 496): application called MPI_Abort(comm=0x84000002, 1) - process 1\n",
      "++ reconstructPar\n",
      "++ cd ..\n",
      "++ '[' '!' 0 ']'\n",
      "------------------------------------\n",
      "----------------------------------------------------\n"
     ]
    }
   ],
   "source": [
    "# Display job output if in terminal state\n",
    "if \"submitted_job\" in locals() and final_status in submitted_job.TERMINAL_STATES:\n",
    "    print(f\"\\n--- Job Output for {submitted_job.uuid} (Status: {final_status}) ---\")\n",
    "    max_output_lines = 50\n",
    "\n",
    "    # Get standard output\n",
    "    try:\n",
    "        stdout_content = submitted_job.get_output_content(\n",
    "            \"tapisjob.out\", max_lines=max_output_lines, missing_ok=False\n",
    "        )\n",
    "        if stdout_content is not None:\n",
    "            print(f\"\\n--- Last {max_output_lines} lines of tapisjob.out ---\")\n",
    "            print(stdout_content)\n",
    "            print(\"------------------------------------\")\n",
    "        else:\n",
    "            print(\"\\n[INFO] tapisjob.out was not found or is empty.\")\n",
    "    except FileOperationError as e:\n",
    "        print(f\"\\n[ERROR] Could not retrieve tapisjob.out: {e}\")\n",
    "    except Exception as e:\n",
    "        print(f\"\\n[ERROR] Unexpected error retrieving tapisjob.out: {e}\")\n",
    "\n",
    "    # Get error output for failed jobs\n",
    "    if final_status in [\"FAILED\", \"ARCHIVING_FAILED\"]:\n",
    "        try:\n",
    "            stderr_content = submitted_job.get_output_content(\n",
    "                \"tapisjob.err\", max_lines=max_output_lines, missing_ok=True\n",
    "            )\n",
    "            if stderr_content is not None:\n",
    "                print(f\"\\n--- Last {max_output_lines} lines of tapisjob.err ---\")\n",
    "                print(stderr_content)\n",
    "                print(\"------------------------------------\")\n",
    "            else:\n",
    "                print(\"\\n[INFO] tapisjob.err was not found.\")\n",
    "        except FileOperationError as e:\n",
    "            print(f\"\\n[ERROR] Could not retrieve tapisjob.err: {e}\")\n",
    "        except Exception as e:\n",
    "            print(f\"\\n[ERROR] Unexpected error retrieving tapisjob.err: {e}\")\n",
    "    print(\"----------------------------------------------------\")\n",
    "else:\n",
    "    print(\"\\nSkipping job output display (job not in terminal state).\")"
   ]
  },
  {
   "cell_type": "code",
   "execution_count": 56,
   "metadata": {},
   "outputs": [
    {
     "name": "stdout",
     "output_type": "stream",
     "text": [
      "\n",
      "Attempting to access archive information...\n",
      "Job Archive Tapis URI: tapis://designsafe.storage.default/kks32/tapis-jobs-archive/2025-06-09Z/314cac7f-bb28-4a56-a440-47374ccd11ce-007\n",
      "\n",
      "Listing archive contents (root):\n",
      "Listing files in system 'designsafe.storage.default' at path 'kks32/tapis-jobs-archive/2025-06-09Z/314cac7f-bb28-4a56-a440-47374ccd11ce-007'...\n",
      "Found 4 items.\n",
      "- inputDirectory (Type: dir, Size: 4096 bytes, Modified: 2025-06-09T16:52:26Z)\n",
      "- tapisjob.out (Type: file, Size: 70308 bytes, Modified: 2025-06-09T16:52:24Z)\n",
      "- tapisjob.sh (Type: file, Size: 1154 bytes, Modified: 2025-06-09T16:52:20Z)\n",
      "- tapisjob_app.sh (Type: file, Size: 1722 bytes, Modified: 2025-06-09T16:52:20Z)\n"
     ]
    }
   ],
   "source": [
    "# Access job archive\n",
    "try:\n",
    "    print(f\"\\nAttempting to access archive information...\")\n",
    "    archive_uri = submitted_job.archive_uri\n",
    "    if archive_uri:\n",
    "        print(f\"Job Archive Tapis URI: {archive_uri}\")\n",
    "        print(\"\\nListing archive contents (root):\")\n",
    "        outputs = ds.files.list(archive_uri)\n",
    "        if outputs:\n",
    "            for item in outputs:\n",
    "                print(\n",
    "                    f\"- {item.name} (Type: {item.type}, Size: {item.size} bytes, Modified: {item.lastModified})\"\n",
    "                )\n",
    "        else:\n",
    "            print(\"No files found in the archive root directory.\")\n",
    "    else:\n",
    "        print(\"Archive URI not available for this job.\")\n",
    "except FileOperationError as e:\n",
    "    print(f\"Could not list archive files: {e}\")\n",
    "except Exception as e:\n",
    "    print(f\"Unexpected error while accessing archive information: {e}\")"
   ]
  },
  {
   "cell_type": "markdown",
   "metadata": {},
   "source": [
    "## Post-processing\n",
    "### Using *ParaView* to visualize the flow fields\n",
    "*ParaView* can read *OpenFOAM* files using *.foam*.\n",
    "\n",
    ">If .foam is not included in the case directory, you can copy the archive results:\n",
    "\n",
    ">**import shutil**\n",
    "\n",
    ">**shutil.copy2('case_directory/foam.foam', 'destination_path')**\n",
    "\n",
    "![ParaView.png](paraview.png)"
   ]
  },
  {
   "cell_type": "markdown",
   "metadata": {},
   "source": [
    "### Plot the time series of the force coefficients\n",
    "> Update the path to point to your job's archive directory."
   ]
  },
  {
   "cell_type": "code",
   "execution_count": 57,
   "metadata": {},
   "outputs": [
    {
     "name": "stdout",
     "output_type": "stream",
     "text": [
      "/home/jupyter/MyData/tapis-jobs-archive/2025-06-09Z/314cac7f-bb28-4a56-a440-47374ccd11ce-007\n"
     ]
    }
   ],
   "source": [
    "# Get DesignSafe Jupyter path\n",
    "archive_path = ds.files.translate_uri_to_path(archive_uri)\n",
    "print(archive_path)"
   ]
  },
  {
   "cell_type": "code",
   "execution_count": null,
   "metadata": {},
   "outputs": [],
   "source": [
    "import numpy as np\n",
    "import matplotlib.pyplot as plt\n",
    "import os"
   ]
  },
  {
   "cell_type": "code",
   "execution_count": null,
   "metadata": {},
   "outputs": [],
   "source": [
    "# Load force coefficients data using pandas for cleaner parsing\n",
    "import pandas as pd\n",
    "\n",
    "force_data_path = (\n",
    "    archive_path + \"/inputDirectory/postProcessing/forceCoeffs1/0/forceCoeffs.dat\"\n",
    ")\n",
    "\n",
    "# Read the file, skipping header lines and using tab separator\n",
    "data = pd.read_csv(force_data_path, sep=\"\\t\", skiprows=9, header=None)\n",
    "print(f\"Loaded force coefficients data with shape: {data.shape}\")"
   ]
  },
  {
   "cell_type": "code",
   "execution_count": null,
   "metadata": {},
   "outputs": [
    {
     "data": {
      "image/png": "[encoded data removed]",
      "text/plain": [
       "<Figure size 640x480 with 1 Axes>"
      ]
     },
     "metadata": {},
     "output_type": "display_data"
    }
   ],
   "source": [
    "# Plot drag coefficient (Cd) vs time\n",
    "plt.plot(data.iloc[100:, 0], data.iloc[100:, 2])\n",
    "plt.xlabel(\"Time\")\n",
    "plt.ylabel(\"$C_d$\")\n",
    "plt.title(\"Drag Coefficient vs Time\")\n",
    "plt.grid(True)\n",
    "plt.show()"
   ]
  },
  {
   "cell_type": "code",
   "execution_count": null,
   "metadata": {},
   "outputs": [
    {
     "data": {
      "image/png": "[encoded data removed]",
      "text/plain": [
       "<Figure size 640x480 with 1 Axes>"
      ]
     },
     "metadata": {},
     "output_type": "display_data"
    }
   ],
   "source": [
    "# Plot lift coefficient (Cl) vs time\n",
    "plt.plot(data.iloc[100:, 0], data.iloc[100:, 3])\n",
    "plt.xlabel(\"Time\")\n",
    "plt.ylabel(\"$C_l$\")\n",
    "plt.title(\"Lift Coefficient vs Time\")\n",
    "plt.grid(False)\n",
    "plt.show()"
   ]
  }
 ],
 "metadata": {
  "kernelspec": {
   "display_name": "Python 3 (ipykernel)",
   "language": "python",
   "name": "python3"
  },
  "language_info": {
   "codemirror_mode": {
    "name": "ipython",
    "version": 3
   },
   "file_extension": ".py",
   "mimetype": "text/x-python",
   "name": "python",
   "nbconvert_exporter": "python",
   "pygments_lexer": "ipython3",
   "version": "3.12.10"
  }
 },
 "nbformat": 4,
 "nbformat_minor": 4
}
