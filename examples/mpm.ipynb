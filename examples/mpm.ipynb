{
 "cells": [
  {
   "cell_type": "markdown",
   "id": "4efabb5e",
   "metadata": {},
   "source": [
    "# Templatized notebook for running CB-Geo MPM TAPIS job"
   ]
  },
  {
   "cell_type": "markdown",
   "id": "abe5d8a3-32da-4233-b605-9fd51d053ec1",
   "metadata": {},
   "source": [
    "## Install DesignSafe API (dapi)"
   ]
  },
  {
   "cell_type": "code",
   "execution_count": 13,
   "id": "839fa332-70a6-4818-a190-18c9ca109c28",
   "metadata": {},
   "outputs": [
    {
     "name": "stdout",
     "output_type": "stream",
     "text": [
      "Found existing installation: dapi 1.0.0\n",
      "Uninstalling dapi-1.0.0:\n",
      "  Successfully uninstalled dapi-1.0.0\n",
      "Obtaining file:///Users/krishna/dev/DesignSafe/dapi\n",
      "  Installing build dependencies ... \u001b[?25ldone\n",
      "\u001b[?25h  Checking if build backend supports build_editable ... \u001b[?25ldone\n",
      "\u001b[?25h  Getting requirements to build editable ... \u001b[?25ldone\n",
      "\u001b[?25h  Preparing editable metadata (pyproject.toml) ... \u001b[?25ldone\n",
      "\u001b[?25hRequirement already satisfied: exceptiongroup<2.0.0,>=1.2.0 in /Users/krishna/Library/Caches/pypoetry/virtualenvs/dapi-ptztLUqK-py3.13/lib/python3.13/site-packages (from dapi==1.0.0) (1.2.2)\n",
      "Requirement already satisfied: jsonschema>=4.18.0 in /Users/krishna/Library/Caches/pypoetry/virtualenvs/dapi-ptztLUqK-py3.13/lib/python3.13/site-packages (from dapi==1.0.0) (4.23.0)\n",
      "Requirement already satisfied: numpy<3.0.0,>=2.1.1 in /Users/krishna/Library/Caches/pypoetry/virtualenvs/dapi-ptztLUqK-py3.13/lib/python3.13/site-packages (from dapi==1.0.0) (2.1.3)\n",
      "Requirement already satisfied: pandas<3.0.0,>=2.2.3 in /Users/krishna/Library/Caches/pypoetry/virtualenvs/dapi-ptztLUqK-py3.13/lib/python3.13/site-packages (from dapi==1.0.0) (2.2.3)\n",
      "Requirement already satisfied: pymysql<2.0.0,>=1.1.0 in /Users/krishna/Library/Caches/pypoetry/virtualenvs/dapi-ptztLUqK-py3.13/lib/python3.13/site-packages (from dapi==1.0.0) (1.1.1)\n",
      "Requirement already satisfied: python-dotenv<2.0.0,>=1.0.1 in /Users/krishna/Library/Caches/pypoetry/virtualenvs/dapi-ptztLUqK-py3.13/lib/python3.13/site-packages (from dapi==1.0.0) (1.0.1)\n",
      "Requirement already satisfied: sqlalchemy<3.0.0,>=2.0.23 in /Users/krishna/Library/Caches/pypoetry/virtualenvs/dapi-ptztLUqK-py3.13/lib/python3.13/site-packages (from dapi==1.0.0) (2.0.36)\n",
      "Requirement already satisfied: tapipy<2.0.0,>=1.6.3 in /Users/krishna/Library/Caches/pypoetry/virtualenvs/dapi-ptztLUqK-py3.13/lib/python3.13/site-packages (from dapi==1.0.0) (1.7.0)\n",
      "Requirement already satisfied: tqdm<5.0.0,>=4.66.1 in /Users/krishna/Library/Caches/pypoetry/virtualenvs/dapi-ptztLUqK-py3.13/lib/python3.13/site-packages (from dapi==1.0.0) (4.67.0)\n",
      "Requirement already satisfied: attrs>=22.2.0 in /Users/krishna/Library/Caches/pypoetry/virtualenvs/dapi-ptztLUqK-py3.13/lib/python3.13/site-packages (from jsonschema>=4.18.0->dapi==1.0.0) (24.2.0)\n",
      "Requirement already satisfied: jsonschema-specifications>=2023.03.6 in /Users/krishna/Library/Caches/pypoetry/virtualenvs/dapi-ptztLUqK-py3.13/lib/python3.13/site-packages (from jsonschema>=4.18.0->dapi==1.0.0) (2024.10.1)\n",
      "Requirement already satisfied: referencing>=0.28.4 in /Users/krishna/Library/Caches/pypoetry/virtualenvs/dapi-ptztLUqK-py3.13/lib/python3.13/site-packages (from jsonschema>=4.18.0->dapi==1.0.0) (0.35.1)\n",
      "Requirement already satisfied: rpds-py>=0.7.1 in /Users/krishna/Library/Caches/pypoetry/virtualenvs/dapi-ptztLUqK-py3.13/lib/python3.13/site-packages (from jsonschema>=4.18.0->dapi==1.0.0) (0.21.0)\n",
      "Requirement already satisfied: python-dateutil>=2.8.2 in /Users/krishna/Library/Caches/pypoetry/virtualenvs/dapi-ptztLUqK-py3.13/lib/python3.13/site-packages (from pandas<3.0.0,>=2.2.3->dapi==1.0.0) (2.9.0.post0)\n",
      "Requirement already satisfied: pytz>=2020.1 in /Users/krishna/Library/Caches/pypoetry/virtualenvs/dapi-ptztLUqK-py3.13/lib/python3.13/site-packages (from pandas<3.0.0,>=2.2.3->dapi==1.0.0) (2024.2)\n",
      "Requirement already satisfied: tzdata>=2022.7 in /Users/krishna/Library/Caches/pypoetry/virtualenvs/dapi-ptztLUqK-py3.13/lib/python3.13/site-packages (from pandas<3.0.0,>=2.2.3->dapi==1.0.0) (2024.2)\n",
      "Requirement already satisfied: typing-extensions>=4.6.0 in /Users/krishna/Library/Caches/pypoetry/virtualenvs/dapi-ptztLUqK-py3.13/lib/python3.13/site-packages (from sqlalchemy<3.0.0,>=2.0.23->dapi==1.0.0) (4.12.2)\n",
      "Requirement already satisfied: PyJWT>=1.7.1 in /Users/krishna/Library/Caches/pypoetry/virtualenvs/dapi-ptztLUqK-py3.13/lib/python3.13/site-packages (from tapipy<2.0.0,>=1.6.3->dapi==1.0.0) (2.9.0)\n",
      "Requirement already satisfied: atomicwrites<2.0.0,>=1.4.0 in /Users/krishna/Library/Caches/pypoetry/virtualenvs/dapi-ptztLUqK-py3.13/lib/python3.13/site-packages (from tapipy<2.0.0,>=1.6.3->dapi==1.0.0) (1.4.1)\n",
      "Requirement already satisfied: certifi>=2020.11.8 in /Users/krishna/Library/Caches/pypoetry/virtualenvs/dapi-ptztLUqK-py3.13/lib/python3.13/site-packages (from tapipy<2.0.0,>=1.6.3->dapi==1.0.0) (2024.8.30)\n",
      "Requirement already satisfied: cloudpickle>=1.6.0 in /Users/krishna/Library/Caches/pypoetry/virtualenvs/dapi-ptztLUqK-py3.13/lib/python3.13/site-packages (from tapipy<2.0.0,>=1.6.3->dapi==1.0.0) (3.1.0)\n",
      "Requirement already satisfied: cryptography>=3.3.2 in /Users/krishna/Library/Caches/pypoetry/virtualenvs/dapi-ptztLUqK-py3.13/lib/python3.13/site-packages (from tapipy<2.0.0,>=1.6.3->dapi==1.0.0) (43.0.3)\n",
      "Requirement already satisfied: openapi_core==0.16.0 in /Users/krishna/Library/Caches/pypoetry/virtualenvs/dapi-ptztLUqK-py3.13/lib/python3.13/site-packages (from tapipy<2.0.0,>=1.6.3->dapi==1.0.0) (0.16.0)\n",
      "Requirement already satisfied: openapi_spec_validator<0.6.0,>=0.5.0 in /Users/krishna/Library/Caches/pypoetry/virtualenvs/dapi-ptztLUqK-py3.13/lib/python3.13/site-packages (from tapipy<2.0.0,>=1.6.3->dapi==1.0.0) (0.5.4)\n",
      "Requirement already satisfied: pyyaml>=5.4 in /Users/krishna/Library/Caches/pypoetry/virtualenvs/dapi-ptztLUqK-py3.13/lib/python3.13/site-packages (from tapipy<2.0.0,>=1.6.3->dapi==1.0.0) (6.0.2)\n",
      "Requirement already satisfied: requests<3.0.0,>=2.20.0 in /Users/krishna/Library/Caches/pypoetry/virtualenvs/dapi-ptztLUqK-py3.13/lib/python3.13/site-packages (from tapipy<2.0.0,>=1.6.3->dapi==1.0.0) (2.32.3)\n",
      "Requirement already satisfied: setuptools>=21.0.0 in /Users/krishna/Library/Caches/pypoetry/virtualenvs/dapi-ptztLUqK-py3.13/lib/python3.13/site-packages (from tapipy<2.0.0,>=1.6.3->dapi==1.0.0) (75.4.0)\n",
      "Requirement already satisfied: six<2.0,>=1.10 in /Users/krishna/Library/Caches/pypoetry/virtualenvs/dapi-ptztLUqK-py3.13/lib/python3.13/site-packages (from tapipy<2.0.0,>=1.6.3->dapi==1.0.0) (1.16.0)\n",
      "Requirement already satisfied: urllib3<2.0.0,>=1.26.5 in /Users/krishna/Library/Caches/pypoetry/virtualenvs/dapi-ptztLUqK-py3.13/lib/python3.13/site-packages (from tapipy<2.0.0,>=1.6.3->dapi==1.0.0) (1.26.20)\n",
      "Requirement already satisfied: isodate in /Users/krishna/Library/Caches/pypoetry/virtualenvs/dapi-ptztLUqK-py3.13/lib/python3.13/site-packages (from openapi_core==0.16.0->tapipy<2.0.0,>=1.6.3->dapi==1.0.0) (0.7.2)\n",
      "Requirement already satisfied: jsonschema-spec<0.2.0,>=0.1.1 in /Users/krishna/Library/Caches/pypoetry/virtualenvs/dapi-ptztLUqK-py3.13/lib/python3.13/site-packages (from openapi_core==0.16.0->tapipy<2.0.0,>=1.6.3->dapi==1.0.0) (0.1.3)\n",
      "Requirement already satisfied: more-itertools in /Users/krishna/Library/Caches/pypoetry/virtualenvs/dapi-ptztLUqK-py3.13/lib/python3.13/site-packages (from openapi_core==0.16.0->tapipy<2.0.0,>=1.6.3->dapi==1.0.0) (10.5.0)\n",
      "Requirement already satisfied: openapi-schema-validator<0.4.0,>=0.3.0 in /Users/krishna/Library/Caches/pypoetry/virtualenvs/dapi-ptztLUqK-py3.13/lib/python3.13/site-packages (from openapi_core==0.16.0->tapipy<2.0.0,>=1.6.3->dapi==1.0.0) (0.3.4)\n",
      "Requirement already satisfied: parse in /Users/krishna/Library/Caches/pypoetry/virtualenvs/dapi-ptztLUqK-py3.13/lib/python3.13/site-packages (from openapi_core==0.16.0->tapipy<2.0.0,>=1.6.3->dapi==1.0.0) (1.20.2)\n",
      "Requirement already satisfied: pathable<0.5.0,>=0.4.0 in /Users/krishna/Library/Caches/pypoetry/virtualenvs/dapi-ptztLUqK-py3.13/lib/python3.13/site-packages (from openapi_core==0.16.0->tapipy<2.0.0,>=1.6.3->dapi==1.0.0) (0.4.3)\n",
      "Requirement already satisfied: werkzeug in /Users/krishna/Library/Caches/pypoetry/virtualenvs/dapi-ptztLUqK-py3.13/lib/python3.13/site-packages (from openapi_core==0.16.0->tapipy<2.0.0,>=1.6.3->dapi==1.0.0) (3.1.3)\n",
      "Requirement already satisfied: cffi>=1.12 in /Users/krishna/Library/Caches/pypoetry/virtualenvs/dapi-ptztLUqK-py3.13/lib/python3.13/site-packages (from cryptography>=3.3.2->tapipy<2.0.0,>=1.6.3->dapi==1.0.0) (1.17.1)\n",
      "Requirement already satisfied: lazy-object-proxy<2.0.0,>=1.7.1 in /Users/krishna/Library/Caches/pypoetry/virtualenvs/dapi-ptztLUqK-py3.13/lib/python3.13/site-packages (from openapi_spec_validator<0.6.0,>=0.5.0->tapipy<2.0.0,>=1.6.3->dapi==1.0.0) (1.10.0)\n",
      "Requirement already satisfied: charset-normalizer<4,>=2 in /Users/krishna/Library/Caches/pypoetry/virtualenvs/dapi-ptztLUqK-py3.13/lib/python3.13/site-packages (from requests<3.0.0,>=2.20.0->tapipy<2.0.0,>=1.6.3->dapi==1.0.0) (3.4.0)\n",
      "Requirement already satisfied: idna<4,>=2.5 in /Users/krishna/Library/Caches/pypoetry/virtualenvs/dapi-ptztLUqK-py3.13/lib/python3.13/site-packages (from requests<3.0.0,>=2.20.0->tapipy<2.0.0,>=1.6.3->dapi==1.0.0) (3.10)\n",
      "Requirement already satisfied: pycparser in /Users/krishna/Library/Caches/pypoetry/virtualenvs/dapi-ptztLUqK-py3.13/lib/python3.13/site-packages (from cffi>=1.12->cryptography>=3.3.2->tapipy<2.0.0,>=1.6.3->dapi==1.0.0) (2.22)\n",
      "Requirement already satisfied: MarkupSafe>=2.1.1 in /Users/krishna/Library/Caches/pypoetry/virtualenvs/dapi-ptztLUqK-py3.13/lib/python3.13/site-packages (from werkzeug->openapi_core==0.16.0->tapipy<2.0.0,>=1.6.3->dapi==1.0.0) (3.0.2)\n",
      "Building wheels for collected packages: dapi\n",
      "  Building editable for dapi (pyproject.toml) ... \u001b[?25ldone\n",
      "\u001b[?25h  Created wheel for dapi: filename=dapi-1.0.0-py3-none-any.whl size=3825 sha256=f9fd4761dd2e940e7cd0f96795280478e27aacfbc14275ffb57c0ee44f9b129c\n",
      "  Stored in directory: /private/var/folders/w8/xz590jyd7r36zmxcspgzj3z40000gn/T/pip-ephem-wheel-cache-d8f5rlch/wheels/98/df/91/ed70fe2dca11c3c6e5b6e8e6eef18c373a119d095037f892a3\n",
      "Successfully built dapi\n",
      "Installing collected packages: dapi\n",
      "Successfully installed dapi-1.0.0\n",
      "\n",
      "\u001b[1m[\u001b[0m\u001b[34;49mnotice\u001b[0m\u001b[1;39;49m]\u001b[0m\u001b[39;49m A new release of pip is available: \u001b[0m\u001b[31;49m25.0.1\u001b[0m\u001b[39;49m -> \u001b[0m\u001b[32;49m25.1\u001b[0m\n",
      "\u001b[1m[\u001b[0m\u001b[34;49mnotice\u001b[0m\u001b[1;39;49m]\u001b[0m\u001b[39;49m To update, run: \u001b[0m\u001b[32;49mpip install --upgrade pip\u001b[0m\n"
     ]
    }
   ],
   "source": [
    "!pip uninstall dapi --yes\n",
    "!pip install -e ../"
   ]
  },
  {
   "cell_type": "code",
   "execution_count": null,
   "id": "35fca324-ee48-41c8-84a1-78ad7b03aae8",
   "metadata": {},
   "outputs": [],
   "source": [
    "import os\n",
    "\n",
    "# Import only DSClient and exceptions needed at top level\n",
    "from dapi import (\n",
    "    DSClient,\n",
    "    SubmittedJob,\n",
    "    interpret_job_status,  # Import new function\n",
    "    AppDiscoveryError,\n",
    "    FileOperationError,\n",
    "    JobSubmissionError,\n",
    "    JobMonitorError,\n",
    "    # Optionally import status constants if you want to check against them explicitly\n",
    "    STATUS_TIMEOUT,\n",
    "    STATUS_UNKNOWN,\n",
    "    TAPIS_TERMINAL_STATES,\n",
    ")\n",
    "import json\n",
    "from datetime import datetime\n",
    "from dataclasses import asdict\n",
    "import pandas as pd\n",
    "import tqdm as notebook_tqdm"
   ]
  },
  {
   "cell_type": "code",
   "execution_count": 4,
   "id": "58b62f77-23b6-4355-91f1-b680ae6d6cdf",
   "metadata": {},
   "outputs": [
    {
     "name": "stdout",
     "output_type": "stream",
     "text": [
      "Initializing DSClient...\n",
      "Authentication successful.\n",
      "DatabaseAccessor initialized. Connections will be created on first access.\n",
      "DSClient initialized.\n"
     ]
    }
   ],
   "source": [
    "try:\n",
    "    print(\"Initializing DSClient...\")\n",
    "    ds = DSClient()\n",
    "    print(\"DSClient initialized.\")\n",
    "except Exception as e:\n",
    "    print(f\"Initialization failed: {e}\")\n",
    "    raise SystemExit(\"Stopping notebook due to client initialization failure.\")"
   ]
  },
  {
   "cell_type": "code",
   "execution_count": 6,
   "id": "feee3ce0",
   "metadata": {},
   "outputs": [],
   "source": [
    "ds_path: str = \"/MyData/mpm-benchmarks/2d/uniaxial_stress/\"\n",
    "input_filename: str = \"mpm.json\"\n",
    "max_job_minutes: int = 10\n",
    "# queue: str = \"skx\" # Example override - only if needed and valid\n",
    "tacc_allocation: str = \"BCS20003\"\n",
    "app_id_to_use = \"mpm\"  # Or \"mpm-s3\" - use the correct ID verified on DesignSafe"
   ]
  },
  {
   "cell_type": "code",
   "execution_count": 8,
   "id": "3f0ee687",
   "metadata": {},
   "outputs": [
    {
     "name": "stdout",
     "output_type": "stream",
     "text": [
      "Translated '/MyData/mpm-benchmarks/2d/uniaxial_stress/' to 'tapis://designsafe.storage.default/kks32/mpm-benchmarks/2d/uniaxial_stress/' using t.username\n",
      "Input Directory Tapis URI: tapis://designsafe.storage.default/kks32/mpm-benchmarks/2d/uniaxial_stress/\n"
     ]
    }
   ],
   "source": [
    "try:\n",
    "    input_uri = ds.files.translate_path_to_uri(ds_path)\n",
    "    print(f\"Input Directory Tapis URI: {input_uri}\")\n",
    "except Exception as e:\n",
    "    print(f\"Error translating path '{ds_path}': {e}\")\n",
    "    raise SystemExit(\"Stopping notebook due to path translation error.\")"
   ]
  },
  {
   "cell_type": "code",
   "execution_count": 9,
   "id": "6257d31a",
   "metadata": {},
   "outputs": [
    {
     "name": "stdout",
     "output_type": "stream",
     "text": [
      "\n",
      "Generating job request dictionary...\n",
      "Generating job request for app 'mpm'...\n",
      "Using App Details: mpm v1.1.0\n",
      "Placing script 'mpm.json' in appArgs: 'Input Script'\n",
      "Adding allocation: BCS20003\n",
      "Job request dictionary generated successfully.\n",
      "\n",
      "--- Generated Job Request Dictionary ---\n",
      "{\n",
      "  \"name\": \"mpm-20250427_182648\",\n",
      "  \"appId\": \"mpm\",\n",
      "  \"appVersion\": \"1.1.0\",\n",
      "  \"description\": \"Material Point Method (MPM) is a particle based method that represents the material as a collection of material points, and their deformations are determined by Newton\\u2019s laws of motion.\",\n",
      "  \"execSystemId\": \"frontera\",\n",
      "  \"archiveSystemId\": \"frontera\",\n",
      "  \"archiveOnAppError\": true,\n",
      "  \"execSystemLogicalQueue\": \"normal\",\n",
      "  \"nodeCount\": 3,\n",
      "  \"coresPerNode\": 56,\n",
      "  \"maxMinutes\": 10,\n",
      "  \"memoryMB\": 192000,\n",
      "  \"isMpi\": false,\n",
      "  \"tags\": [],\n",
      "  \"fileInputs\": [\n",
      "    {\n",
      "      \"name\": \"Input Directory\",\n",
      "      \"sourceUrl\": \"tapis://designsafe.storage.default/kks32/mpm-benchmarks/2d/uniaxial_stress/\",\n",
      "      \"autoMountLocal\": true,\n",
      "      \"targetPath\": \"inputDirectory\"\n",
      "    }\n",
      "  ],\n",
      "  \"parameterSet\": {\n",
      "    \"appArgs\": [\n",
      "      {\n",
      "        \"name\": \"Input Script\",\n",
      "        \"arg\": \"mpm.json\"\n",
      "      }\n",
      "    ],\n",
      "    \"schedulerOptions\": [\n",
      "      {\n",
      "        \"name\": \"TACC Allocation\",\n",
      "        \"arg\": \"-A BCS20003\"\n",
      "      }\n",
      "    ]\n",
      "  }\n",
      "}\n",
      "---------------------------------------\n"
     ]
    }
   ],
   "source": [
    "try:\n",
    "    print(\"\\nGenerating job request dictionary...\")\n",
    "    job_dict = ds.jobs.generate_request(\n",
    "        app_id=app_id_to_use,\n",
    "        input_dir_uri=input_uri,\n",
    "        script_filename=input_filename,\n",
    "        max_minutes=max_job_minutes,\n",
    "        allocation=tacc_allocation,\n",
    "    )\n",
    "    print(\"\\n--- Generated Job Request Dictionary ---\")\n",
    "    print(json.dumps(job_dict, indent=2, default=str))\n",
    "    print(\"---------------------------------------\")\n",
    "except (AppDiscoveryError, ValueError, JobSubmissionError) as e:\n",
    "    print(f\"Error generating job request: {e}\")\n",
    "    raise SystemExit(\"Stopping notebook due to job request generation error.\")\n",
    "except Exception as e:\n",
    "    print(f\"An unexpected error occurred during job request generation: {e}\")\n",
    "    raise SystemExit(\"Stopping notebook due to unexpected generation error.\")"
   ]
  },
  {
   "cell_type": "code",
   "execution_count": 10,
   "id": "5a17eee7",
   "metadata": {},
   "outputs": [
    {
     "name": "stdout",
     "output_type": "stream",
     "text": [
      "Modifying job request dictionary...\n",
      "{\n",
      "  \"name\": \"mpm-20250427_182648\",\n",
      "  \"appId\": \"mpm\",\n",
      "  \"appVersion\": \"1.1.0\",\n",
      "  \"description\": \"Material Point Method (MPM) is a particle based method that represents the material as a collection of material points, and their deformations are determined by Newton\\u2019s laws of motion.\",\n",
      "  \"execSystemId\": \"frontera\",\n",
      "  \"archiveSystemId\": \"frontera\",\n",
      "  \"archiveOnAppError\": true,\n",
      "  \"execSystemLogicalQueue\": \"development\",\n",
      "  \"nodeCount\": 1,\n",
      "  \"coresPerNode\": 1,\n",
      "  \"maxMinutes\": 10,\n",
      "  \"memoryMB\": 192000,\n",
      "  \"isMpi\": false,\n",
      "  \"tags\": [],\n",
      "  \"fileInputs\": [\n",
      "    {\n",
      "      \"name\": \"Input Directory\",\n",
      "      \"sourceUrl\": \"tapis://designsafe.storage.default/kks32/mpm-benchmarks/2d/uniaxial_stress/\",\n",
      "      \"autoMountLocal\": true,\n",
      "      \"targetPath\": \"inputDirectory\"\n",
      "    }\n",
      "  ],\n",
      "  \"parameterSet\": {\n",
      "    \"appArgs\": [\n",
      "      {\n",
      "        \"name\": \"Input Script\",\n",
      "        \"arg\": \"mpm.json\"\n",
      "      }\n",
      "    ],\n",
      "    \"schedulerOptions\": [\n",
      "      {\n",
      "        \"name\": \"TACC Allocation\",\n",
      "        \"arg\": \"-A BCS20003\"\n",
      "      }\n",
      "    ]\n",
      "  }\n",
      "}\n"
     ]
    }
   ],
   "source": [
    "# At this point, the user can inspect and modify job_dict if needed.\n",
    "# For example:\n",
    "print(\"Modifying job request dictionary...\")\n",
    "job_dict[\"nodeCount\"] = 1\n",
    "job_dict[\"coresPerNode\"] = 1\n",
    "job_dict[\"execSystemLogicalQueue\"] = \"development\"\n",
    "\n",
    "print(json.dumps(job_dict, indent=2, default=str))"
   ]
  },
  {
   "cell_type": "code",
   "execution_count": 11,
   "id": "8e04a5ef",
   "metadata": {},
   "outputs": [
    {
     "name": "stdout",
     "output_type": "stream",
     "text": [
      "\n",
      "Submitting the job request dictionary...\n",
      "\n",
      "--- Submitting Tapis Job Request ---\n",
      "{\n",
      "  \"name\": \"mpm-20250427_182648\",\n",
      "  \"appId\": \"mpm\",\n",
      "  \"appVersion\": \"1.1.0\",\n",
      "  \"description\": \"Material Point Method (MPM) is a particle based method that represents the material as a collection of material points, and their deformations are determined by Newton\\u2019s laws of motion.\",\n",
      "  \"execSystemId\": \"frontera\",\n",
      "  \"archiveSystemId\": \"frontera\",\n",
      "  \"archiveOnAppError\": true,\n",
      "  \"execSystemLogicalQueue\": \"development\",\n",
      "  \"nodeCount\": 1,\n",
      "  \"coresPerNode\": 1,\n",
      "  \"maxMinutes\": 10,\n",
      "  \"memoryMB\": 192000,\n",
      "  \"isMpi\": false,\n",
      "  \"tags\": [],\n",
      "  \"fileInputs\": [\n",
      "    {\n",
      "      \"name\": \"Input Directory\",\n",
      "      \"sourceUrl\": \"tapis://designsafe.storage.default/kks32/mpm-benchmarks/2d/uniaxial_stress/\",\n",
      "      \"autoMountLocal\": true,\n",
      "      \"targetPath\": \"inputDirectory\"\n",
      "    }\n",
      "  ],\n",
      "  \"parameterSet\": {\n",
      "    \"appArgs\": [\n",
      "      {\n",
      "        \"name\": \"Input Script\",\n",
      "        \"arg\": \"mpm.json\"\n",
      "      }\n",
      "    ],\n",
      "    \"schedulerOptions\": [\n",
      "      {\n",
      "        \"name\": \"TACC Allocation\",\n",
      "        \"arg\": \"-A BCS20003\"\n",
      "      }\n",
      "    ]\n",
      "  }\n",
      "}\n",
      "------------------------------------\n",
      "Job submitted successfully. UUID: 530fbb91-cc06-42cd-b765-9bfdd9197f76-007\n",
      "Job Submitted Successfully!\n",
      "Job UUID: 530fbb91-cc06-42cd-b765-9bfdd9197f76-007\n"
     ]
    }
   ],
   "source": [
    "if \"job_dict\" not in locals():\n",
    "    print(\"Error: job_dict not found.\")\n",
    "    raise SystemExit(\"Stopping notebook.\")\n",
    "try:\n",
    "    print(\"\\nSubmitting the job request dictionary...\")\n",
    "    submitted_job = ds.jobs.submit_request(job_dict)\n",
    "    print(f\"Job Submitted Successfully!\")\n",
    "    print(f\"Job UUID: {submitted_job.uuid}\")\n",
    "except JobSubmissionError as e:\n",
    "    print(f\"Job submission failed: {e}\")\n",
    "    print(\"\\n--- Failed Job Request ---\")\n",
    "    print(json.dumps(job_dict, indent=2, default=str))\n",
    "    print(\"--------------------------\")\n",
    "    raise SystemExit(\"Stopping notebook due to job submission error.\")\n",
    "except Exception as e:\n",
    "    print(f\"An unexpected error occurred during job submission: {e}\")\n",
    "    raise SystemExit(\"Stopping notebook due to unexpected submission error.\")"
   ]
  },
  {
   "cell_type": "code",
   "execution_count": 13,
   "id": "cd6089f0",
   "metadata": {},
   "outputs": [
    {
     "name": "stdout",
     "output_type": "stream",
     "text": [
      "\n",
      "Monitoring job 530fbb91-cc06-42cd-b765-9bfdd9197f76-007 with progress bar...\n"
     ]
    },
    {
     "name": "stderr",
     "output_type": "stream",
     "text": [
      "Waiting for job 530fbb91-cc06-42cd-b765-9bfdd9197f76-007 to start: 5checks [01:17, 15.46s/checks, Status: STAGING_JOB]   \n",
      "Monitoring job 530fbb91-cc06-42cd-b765-9bfdd9197f76-007 (Status: RUNNING):   2%| | 1/40 [00:00<00:00"
     ]
    },
    {
     "name": "stdout",
     "output_type": "stream",
     "text": [
      "\tJob 530fbb91-cc06-42cd-b765-9bfdd9197f76-007 Status Update: RUNNING\n"
     ]
    },
    {
     "name": "stderr",
     "output_type": "stream",
     "text": [
      "Monitoring job 530fbb91-cc06-42cd-b765-9bfdd9197f76-007 (Status: ARCHIVING):  15%|▏| 6/40 [01:17<08:"
     ]
    },
    {
     "name": "stdout",
     "output_type": "stream",
     "text": [
      "\tJob 530fbb91-cc06-42cd-b765-9bfdd9197f76-007 Status Update: ARCHIVING\n"
     ]
    },
    {
     "name": "stderr",
     "output_type": "stream",
     "text": [
      "Monitoring job 530fbb91-cc06-42cd-b765-9bfdd9197f76-007 (Status: ARCHIVING): 100%|█| 40/40 [01:48<00"
     ]
    },
    {
     "name": "stdout",
     "output_type": "stream",
     "text": [
      "\n",
      "Job 530fbb91-cc06-42cd-b765-9bfdd9197f76-007 reached terminal state: FINISHED\n",
      "\n",
      "Job 530fbb91-cc06-42cd-b765-9bfdd9197f76-007 monitoring finished.\n"
     ]
    },
    {
     "name": "stderr",
     "output_type": "stream",
     "text": [
      "\n"
     ]
    }
   ],
   "source": [
    "if \"submitted_job\" not in locals():\n",
    "    print(\"Error: submitted_job not found.\")\n",
    "    raise SystemExit(\"Stopping notebook.\")\n",
    "\n",
    "print(f\"\\nMonitoring job {submitted_job.uuid} with progress bar...\")\n",
    "# Call monitor - exceptions are handled inside now, returns status string\n",
    "final_status = submitted_job.monitor(interval=15)  # Use 15s interval\n",
    "\n",
    "print(f\"\\nJob {submitted_job.uuid} monitoring finished.\")"
   ]
  },
  {
   "cell_type": "code",
   "execution_count": 14,
   "id": "4a6daeec",
   "metadata": {},
   "outputs": [
    {
     "name": "stdout",
     "output_type": "stream",
     "text": [
      "\n",
      "--- Job Outcome ---\n",
      "Job 530fbb91-cc06-42cd-b765-9bfdd9197f76-007 completed successfully.\n",
      "-------------------\n"
     ]
    }
   ],
   "source": [
    "print(\"\\n--- Job Outcome ---\")\n",
    "ds.jobs.interpret_status(final_status, submitted_job.uuid)\n",
    "print(\"-------------------\")"
   ]
  },
  {
   "cell_type": "code",
   "execution_count": 19,
   "id": "1b2b45f5",
   "metadata": {},
   "outputs": [
    {
     "name": "stdout",
     "output_type": "stream",
     "text": [
      "\n",
      "Attempting to display runtime summary...\n",
      "\n",
      "Runtime Summary\n",
      "---------------\n",
      "\n",
      "Detailed Job History:\n",
      "  Event: JOB_NEW_STATUS, Detail: PENDING, Time: 2025-04-27T23:28:05.993343Z\n",
      "  Event: JOB_NEW_STATUS, Detail: PROCESSING_INPUTS, Time: 2025-04-27T23:28:06.983221Z\n",
      "  Event: JOB_NEW_STATUS, Detail: STAGING_INPUTS, Time: 2025-04-27T23:28:10.936444Z\n",
      "  Event: JOB_INPUT_TRANSACTION_ID, Detail: COMPLETED, Time: 2025-04-27T23:28:57.386229Z\n",
      "  Event: JOB_NEW_STATUS, Detail: STAGING_JOB, Time: 2025-04-27T23:28:57.447678Z\n",
      "  Event: JOB_NEW_STATUS, Detail: SUBMITTING_JOB, Time: 2025-04-27T23:29:30.292279Z\n",
      "  Event: JOB_NEW_STATUS, Detail: QUEUED, Time: 2025-04-27T23:29:31.223575Z\n",
      "  Event: JOB_NEW_STATUS, Detail: RUNNING, Time: 2025-04-27T23:29:44.363804Z\n",
      "  Event: JOB_NEW_STATUS, Detail: ARCHIVING, Time: 2025-04-27T23:30:57.808106Z\n",
      "  Event: JOB_ARCHIVE_TRANSACTION_ID, Detail: COMPLETED, Time: 2025-04-27T23:31:24.899366Z\n",
      "  Event: JOB_NEW_STATUS, Detail: FINISHED, Time: 2025-04-27T23:31:31.847357Z\n",
      "\n",
      "Summary:\n",
      "TOTAL           time: 00:03:25\n",
      "---------------\n"
     ]
    }
   ],
   "source": [
    "# Check against known good terminal states or the specific success state\n",
    "if final_status in [\"FINISHED\", \"FAILED\"]:  # Or just: if final_status == \"FINISHED\":\n",
    "    print(f\"\\nAttempting to display runtime summary...\")\n",
    "    try:\n",
    "        submitted_job.print_runtime_summary(verbose=True)\n",
    "    except Exception as e:\n",
    "        print(f\"Could not display runtime summary: {e}\")\n",
    "else:\n",
    "    print(f\"\\nSkipping runtime summary because job ended with status: {final_status}.\")"
   ]
  },
  {
   "cell_type": "code",
   "execution_count": 18,
   "id": "2fe8ac5f",
   "metadata": {},
   "outputs": [
    {
     "name": "stdout",
     "output_type": "stream",
     "text": [
      "\n",
      "Attempting to access archive information...\n",
      "Job Archive Tapis URI: tapis://frontera/work2/05873/kks32/frontera/tapis-jobs-archive/2025-04-27Z/mpm-20250427_182648-530fbb91-cc06-42cd-b765-9bfdd9197f76-007\n",
      "\n",
      "Listing archive contents (root):\n",
      "Listing files in system 'frontera' at path 'work2/05873/kks32/frontera/tapis-jobs-archive/2025-04-27Z/mpm-20250427_182648-530fbb91-cc06-42cd-b765-9bfdd9197f76-007'...\n",
      "Found 5 items.\n",
      "- inputDirectory (Type: dir, Size: 4096 bytes, Modified: 2025-04-27T23:31:18Z)\n",
      "- tapisjob.env (Type: file, Size: 1519 bytes, Modified: 2025-04-27T23:31:19Z)\n",
      "- tapisjob.out (Type: file, Size: 5588 bytes, Modified: 2025-04-27T23:31:19Z)\n",
      "- tapisjob.sh (Type: file, Size: 1208 bytes, Modified: 2025-04-27T23:31:19Z)\n",
      "- tapisjob_app.sh (Type: file, Size: 189 bytes, Modified: 2025-04-27T23:31:11Z)\n"
     ]
    }
   ],
   "source": [
    "# if final_status in TAPIS_TERMINAL_STATES and final_status != STATUS_UNKNOWN: # Check if it's a known end state\n",
    "print(f\"\\nAttempting to access archive information...\")\n",
    "try:\n",
    "    archive_uri = submitted_job.archive_uri\n",
    "    if archive_uri:\n",
    "        print(f\"Job Archive Tapis URI: {archive_uri}\")\n",
    "        print(\"\\nListing archive contents (root):\")\n",
    "        outputs = ds.files.list(archive_uri)\n",
    "        if outputs:\n",
    "            for item in outputs:\n",
    "                print(\n",
    "                    f\"- {item.name} (Type: {item.type}, Size: {item.size} bytes, Modified: {item.lastModified})\"\n",
    "                )\n",
    "        else:\n",
    "            print(\"No files found in the archive root directory.\")\n",
    "    else:\n",
    "        print(\"Archive URI not available for this job.\")\n",
    "except FileOperationError as e:\n",
    "    print(f\"Could not list archive files: {e}\")\n",
    "except Exception as e:\n",
    "    print(f\"An unexpected error occurred while accessing archive information: {e}\")"
   ]
  },
  {
   "cell_type": "code",
   "execution_count": 26,
   "id": "335379df-6e64-475e-8c14-5c8c748e818e",
   "metadata": {},
   "outputs": [
    {
     "name": "stdout",
     "output_type": "stream",
     "text": [
      "Found 90 total apps.\n"
     ]
    }
   ],
   "source": [
    "# Find all apps (less verbose)\n",
    "all_apps = ds.apps.find(\"\", verbose=False)\n",
    "print(f\"Found {len(all_apps)} total apps.\")"
   ]
  },
  {
   "cell_type": "code",
   "execution_count": 27,
   "id": "f5574dcd-2c32-4822-be12-fe558747ebde",
   "metadata": {},
   "outputs": [
    {
     "name": "stdout",
     "output_type": "stream",
     "text": [
      "\n",
      "Found 2 matching apps:\n",
      "- mpm (Version: 1.1.0, Owner: wma_prtl)\n",
      "- mpm-s3 (Version: 1.0, Owner: wma_prtl)\n",
      "\n"
     ]
    }
   ],
   "source": [
    "# Find MPM apps specifically\n",
    "mpm_apps = ds.apps.find(\"mpm\", verbose=True)"
   ]
  },
  {
   "cell_type": "code",
   "execution_count": null,
   "id": "37074448-fe54-4aab-b458-cfe9dc1a5101",
   "metadata": {},
   "outputs": [
    {
     "name": "stdout",
     "output_type": "stream",
     "text": [
      "\n",
      "App Details:\n",
      "  ID: opensees-express\n",
      "  Version: latest\n",
      "  Owner: wma_prtl\n",
      "  Execution System: wma-exec-01\n",
      "  Description: OpenSees-EXPRESS provides users with a sequential OpenSees interpreter. It is ideal to run small sequential scripts on DesignSafe resources freeing up your own machine.\n",
      "App Description: \n",
      "containerImage: tapis://cloud.data/corral/tacc/aci/CEP/applications/v3/opensees/latest/OpenSees-EXPRESS/opensees_express.zip\n",
      "created: 2025-02-20T18:41:03.661272Z\n",
      "deleted: False\n",
      "description: OpenSees-EXPRESS provides users with a sequential OpenSees interpreter. It is ideal to run small sequential scripts on DesignSafe resources freeing up your own machine.\n",
      "enabled: True\n",
      "id: opensees-express\n",
      "isPublic: True\n",
      "jobAttributes: \n",
      "archiveOnAppError: True\n",
      "archiveSystemDir: /tmp/${JobOwner}/tapis-jobs-archive/${JobCreateDate}/${JobName}-${JobUUID}\n",
      "archiveSystemId: cloud.data\n",
      "cmdPrefix: None\n",
      "coresPerNode: 1\n",
      "description: None\n",
      "dtnSystemInputDir: !tapis_not_set\n",
      "dtnSystemOutputDir: !tapis_not_set\n",
      "dynamicExecSystem: False\n",
      "execSystemConstraints: None\n",
      "execSystemExecDir: ${JobWorkingDir}\n",
      "execSystemId: wma-exec-01\n",
      "execSystemInputDir: ${JobWorkingDir}\n",
      "execSystemLogicalQueue: None\n",
      "execSystemOutputDir: ${JobWorkingDir}\n",
      "fileInputArrays: []\n",
      "fileInputs: [\n",
      "autoMountLocal: True\n",
      "description: Input directory that includes the tcl script as well as any other required files. Example input is in tapis://designsafe.storage.community/app_examples/opensees/OpenSeesEXPRESS\n",
      "envKey: inputDirectory\n",
      "inputMode: REQUIRED\n",
      "name: Input Directory\n",
      "notes: \n",
      "selectionMode: directory\n",
      "sourceUrl: None\n",
      "targetPath: *]\n",
      "isMpi: False\n",
      "maxMinutes: 1440\n",
      "memoryMB: 100\n",
      "mpiCmd: None\n",
      "nodeCount: 1\n",
      "parameterSet: \n",
      "appArgs: []\n",
      "archiveFilter: \n",
      "excludes: ['opensees-express.zip', 'tapisjob.env']\n",
      "includeLaunchFiles: True\n",
      "includes: []\n",
      "containerArgs: []\n",
      "envVariables: [\n",
      "description: Choose the OpenSees binary to use.\n",
      "inputMode: REQUIRED\n",
      "key: mainProgram\n",
      "notes: \n",
      "enum_values: [\n",
      "OpenSees: OpenSees, \n",
      "OpenSeesSP: OpenSeesSP, \n",
      "OpenSeesMP: OpenSeesMP]\n",
      "label: Main Program\n",
      "value: OpenSees, \n",
      "description: The filename of the OpenSees TCL script to execute, e.g. \"freeFieldEffective.tcl\".\n",
      "inputMode: REQUIRED\n",
      "key: tclScript\n",
      "notes: \n",
      "inputType: fileInput\n",
      "label: Main Script\n",
      "value: ]\n",
      "logConfig: \n",
      "stderrFilename: \n",
      "stdoutFilename: \n",
      "schedulerOptions: []\n",
      "subscriptions: []\n",
      "tags: []\n",
      "jobType: FORK\n",
      "locked: False\n",
      "maxJobs: 2147483647\n",
      "maxJobsPerUser: 2147483647\n",
      "notes: \n",
      "category: Simulation\n",
      "helpUrl: https://www.designsafe-ci.org/user-guide/tools/simulation/#opensees-user-guide\n",
      "hideNodeCountAndCoresPerNode: True\n",
      "icon: OpenSees\n",
      "isInteractive: False\n",
      "label: OpenSees-EXPRESS (VM)\n",
      "owner: wma_prtl\n",
      "runtime: ZIP\n",
      "runtimeOptions: None\n",
      "runtimeVersion: None\n",
      "sharedAppCtx: wma_prtl\n",
      "sharedWithUsers: []\n",
      "strictFileInputs: True\n",
      "tags: ['portalName: DesignSafe', 'portalName: CEP']\n",
      "tenant: designsafe\n",
      "updated: 2025-02-26T21:17:36.417952Z\n",
      "uuid: 30cb1fa1-e7c7-44a8-a0e8-d2f64043fc65\n",
      "version: latest\n",
      "versionEnabled: True\n"
     ]
    }
   ],
   "source": [
    "# Get details for the specific MPM app we want to use\n",
    "app_id_to_use = \"opensees-express\"\n",
    "app_details = ds.apps.get_details(app_id_to_use, verbose=True)\n",
    "\n",
    "if not app_details:\n",
    "    raise SystemExit(\n",
    "        f\"Could not find details for app '{app_id_to_use}'. Please check the app ID.\"\n",
    "    )\n",
    "# Print the app details\n",
    "\n",
    "print(f\"App Description: {app_details}\")"
   ]
  }
 ],
 "metadata": {
  "IMAGE_NAME": "taccsciapps/ds-nb-img:base-0.2.1",
  "UUID": "ad99fe82-d690-11ec-8bc3-165d4cd45074",
  "kernelspec": {
   "display_name": "dapi-ptztLUqK-py3.13",
   "language": "python",
   "name": "python3"
  },
  "language_info": {
   "codemirror_mode": {
    "name": "ipython",
    "version": 3
   },
   "file_extension": ".py",
   "mimetype": "text/x-python",
   "name": "python",
   "nbconvert_exporter": "python",
   "pygments_lexer": "ipython3",
   "version": "3.13.3"
  }
 },
 "nbformat": 4,
 "nbformat_minor": 5
}
