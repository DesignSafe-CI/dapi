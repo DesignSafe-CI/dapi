{
 "cells": [
  {
   "cell_type": "markdown",
   "id": "8ad4dbd4",
   "metadata": {},
   "source": [
    "# Dapi Database Access"
   ]
  },
  {
   "cell_type": "code",
   "execution_count": null,
   "id": "06f33aaa",
   "metadata": {},
   "outputs": [],
   "source": [
    "# Cell: Imports\n",
    "import os\n",
    "from dapi import DSClient  # Import only the main client\n",
    "\n",
    "# Import exceptions if needed for specific handling later\n",
    "from dapi import FileOperationError, JobSubmissionError, JobMonitorError\n",
    "import json\n",
    "from datetime import datetime\n",
    "from dataclasses import asdict\n",
    "import pandas as pd"
   ]
  },
  {
   "cell_type": "code",
   "execution_count": null,
   "id": "abc973d4",
   "metadata": {},
   "outputs": [],
   "source": [
    "# Authenticate & Initialize Client\n",
    "try:\n",
    "    print(\"Initializing DSClient...\")\n",
    "    ds = DSClient()  # This sets up ds.db internally\n",
    "    print(\"DSClient initialized.\")\n",
    "except Exception as e:\n",
    "    print(f\"Initialization failed: {e}\")\n",
    "    raise SystemExit(\"Stopping notebook due to client initialization failure.\")"
   ]
  },
  {
   "cell_type": "code",
   "execution_count": null,
   "id": "3c1d34e8",
   "metadata": {},
   "outputs": [],
   "source": [
    "# Create Convenience Variables for Databases (Optional but meets user request)\n",
    "print(\"\\nCreating database convenience variables...\")\n",
    "try:\n",
    "    # These lines trigger the lazy initialization in DatabaseAccessor._get_db\n",
    "    # if the specific database hasn't been accessed yet.\n",
    "    ngl = ds.db.ngl\n",
    "    vp = ds.db.vp\n",
    "    eq = ds.db.eq\n",
    "    print(\"Database variables (ngl, vp, eq) created.\")\n",
    "    # Note: Engines/pools are now created, but connections are only used during queries.\n",
    "except Exception as e:\n",
    "    print(f\"Failed to create database convenience variables: {e}\")\n",
    "    # Decide if this is critical - maybe only some DBs are needed?\n",
    "    # For now, we'll continue but note the failure.\n",
    "    ngl, vp, eq = None, None, None  # Ensure they exist but are None"
   ]
  },
  {
   "cell_type": "code",
   "execution_count": null,
   "id": "80a7fa20",
   "metadata": {},
   "outputs": [],
   "source": [
    "## Database Example Usage (Using convenience variables)\n",
    "if ngl:  # Check if ngl variable was successfully created\n",
    "    try:\n",
    "        print(\"\\nQuerying NGL Database using 'ngl' variable...\")\n",
    "        sql = \"SELECT * FROM SITE LIMIT 5\"\n",
    "        # Use the convenience variable directly\n",
    "        df_ngl = ngl.read_sql(sql, output_type=\"DataFrame\")\n",
    "        print(\"--- NGL Data (DataFrame) ---\")\n",
    "        print(df_ngl)\n",
    "    except Exception as e:\n",
    "        print(f\"\\nAn error occurred during NGL database query: {e}\")\n",
    "else:\n",
    "    print(\"\\nSkipping NGL query as 'ngl' variable is not available.\")\n",
    "\n",
    "if vp:  # Check if vp variable was successfully created\n",
    "    try:\n",
    "        print(\"\\nQuerying VP Database using 'vp' variable (as dict)...\")\n",
    "        sql_vp = \"SELECT vp_id, vp_name FROM viewports LIMIT 3\"\n",
    "        dict_vp = vp.read_sql(sql_vp, output_type=\"dict\")\n",
    "        print(\"--- VP Data (List of Dicts) ---\")\n",
    "        print(json.dumps(dict_vp, indent=2))\n",
    "    except Exception as e:\n",
    "        print(f\"\\nAn error occurred during VP database query: {e}\")\n",
    "else:\n",
    "    print(\"\\nSkipping VP query as 'vp' variable is not available.\")"
   ]
  }
 ],
 "metadata": {
  "language_info": {
   "name": "python"
  }
 },
 "nbformat": 4,
 "nbformat_minor": 5
}
