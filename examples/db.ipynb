{
 "cells": [
  {
   "cell_type": "markdown",
   "id": "8ad4dbd4",
   "metadata": {},
   "source": [
    "# Dapi Database Access"
   ]
  },
  {
   "cell_type": "code",
   "execution_count": null,
   "id": "5a76c77b-0078-48fc-ade6-e46cbac010dd",
   "metadata": {},
   "outputs": [
    {
     "name": "stdout",
     "output_type": "stream",
     "text": [
      "Found existing installation: dapi 1.0.0\n",
      "Uninstalling dapi-1.0.0:\n",
      "  Successfully uninstalled dapi-1.0.0\n",
      "Collecting git+https://github.com/DesignSafe-CI/dapi.git@t3\n",
      "  Cloning https://github.com/DesignSafe-CI/dapi.git (to revision t3) to /tmp/pip-req-build-f6bbn80i\n",
      "  Running command git clone --filter=blob:none --quiet https://github.com/DesignSafe-CI/dapi.git /tmp/pip-req-build-f6bbn80i\n",
      "  Running command git checkout -b t3 --track origin/t3\n",
      "  Switched to a new branch 't3'\n",
      "  Branch 't3' set up to track remote branch 't3' from 'origin'.\n",
      "  Resolved https://github.com/DesignSafe-CI/dapi.git to commit 6e85ea5b2b26fe7a82220db6260ac6c2124caaee\n",
      "  Installing build dependencies ... \u001b[?25ldone\n",
      "\u001b[?25h  Getting requirements to build wheel ... \u001b[?25ldone\n",
      "\u001b[?25h  Preparing metadata (pyproject.toml) ... \u001b[?25ldone\n",
      "\u001b[?25hRequirement already satisfied: exceptiongroup<2.0.0,>=1.2.0 in /home/jupyter/.local/lib/python3.11/site-packages (from dapi==1.0.0) (1.2.2)\n",
      "Requirement already satisfied: jsonschema>=4.18.0 in /opt/conda/lib/python3.11/site-packages (from dapi==1.0.0) (4.23.0)\n",
      "Requirement already satisfied: numpy<3.0.0,>=2.1.1 in /home/jupyter/.local/lib/python3.11/site-packages (from dapi==1.0.0) (2.2.5)\n",
      "Requirement already satisfied: pandas<3.0.0,>=2.2.3 in /home/jupyter/.local/lib/python3.11/site-packages (from dapi==1.0.0) (2.2.3)\n",
      "Requirement already satisfied: pymysql<2.0.0,>=1.1.0 in /home/jupyter/.local/lib/python3.11/site-packages (from dapi==1.0.0) (1.1.1)\n",
      "Requirement already satisfied: python-dotenv<2.0.0,>=1.0.1 in /home/jupyter/.local/lib/python3.11/site-packages (from dapi==1.0.0) (1.1.0)\n",
      "Requirement already satisfied: sqlalchemy<3.0.0,>=2.0.23 in /home/jupyter/.local/lib/python3.11/site-packages (from dapi==1.0.0) (2.0.40)\n",
      "Requirement already satisfied: tapipy<2.0.0,>=1.6.3 in /opt/conda/lib/python3.11/site-packages (from dapi==1.0.0) (1.7.0)\n",
      "Requirement already satisfied: tqdm<5.0.0,>=4.66.1 in /opt/conda/lib/python3.11/site-packages (from dapi==1.0.0) (4.66.1)\n",
      "Requirement already satisfied: attrs>=22.2.0 in /opt/conda/lib/python3.11/site-packages (from jsonschema>=4.18.0->dapi==1.0.0) (23.1.0)\n",
      "Requirement already satisfied: jsonschema-specifications>=2023.03.6 in /opt/conda/lib/python3.11/site-packages (from jsonschema>=4.18.0->dapi==1.0.0) (2023.7.1)\n",
      "Requirement already satisfied: referencing>=0.28.4 in /opt/conda/lib/python3.11/site-packages (from jsonschema>=4.18.0->dapi==1.0.0) (0.30.2)\n",
      "Requirement already satisfied: rpds-py>=0.7.1 in /opt/conda/lib/python3.11/site-packages (from jsonschema>=4.18.0->dapi==1.0.0) (0.10.6)\n",
      "Requirement already satisfied: python-dateutil>=2.8.2 in /opt/conda/lib/python3.11/site-packages (from pandas<3.0.0,>=2.2.3->dapi==1.0.0) (2.8.2)\n",
      "Requirement already satisfied: pytz>=2020.1 in /opt/conda/lib/python3.11/site-packages (from pandas<3.0.0,>=2.2.3->dapi==1.0.0) (2023.3.post1)\n",
      "Requirement already satisfied: tzdata>=2022.7 in /home/jupyter/.local/lib/python3.11/site-packages (from pandas<3.0.0,>=2.2.3->dapi==1.0.0) (2025.2)\n",
      "Requirement already satisfied: greenlet>=1 in /opt/conda/lib/python3.11/site-packages (from sqlalchemy<3.0.0,>=2.0.23->dapi==1.0.0) (3.0.0)\n",
      "Requirement already satisfied: typing-extensions>=4.6.0 in /opt/conda/lib/python3.11/site-packages (from sqlalchemy<3.0.0,>=2.0.23->dapi==1.0.0) (4.8.0)\n",
      "Requirement already satisfied: PyJWT>=1.7.1 in /opt/conda/lib/python3.11/site-packages (from tapipy<2.0.0,>=1.6.3->dapi==1.0.0) (2.8.0)\n",
      "Requirement already satisfied: atomicwrites<2.0.0,>=1.4.0 in /opt/conda/lib/python3.11/site-packages (from tapipy<2.0.0,>=1.6.3->dapi==1.0.0) (1.4.1)\n",
      "Requirement already satisfied: certifi>=2020.11.8 in /opt/conda/lib/python3.11/site-packages (from tapipy<2.0.0,>=1.6.3->dapi==1.0.0) (2023.7.22)\n",
      "Requirement already satisfied: cloudpickle>=1.6.0 in /opt/conda/lib/python3.11/site-packages (from tapipy<2.0.0,>=1.6.3->dapi==1.0.0) (3.1.0)\n",
      "Requirement already satisfied: cryptography>=3.3.2 in /opt/conda/lib/python3.11/site-packages (from tapipy<2.0.0,>=1.6.3->dapi==1.0.0) (41.0.4)\n",
      "Requirement already satisfied: openapi_core==0.16.0 in /opt/conda/lib/python3.11/site-packages (from tapipy<2.0.0,>=1.6.3->dapi==1.0.0) (0.16.0)\n",
      "Requirement already satisfied: openapi_spec_validator<0.6.0,>=0.5.0 in /opt/conda/lib/python3.11/site-packages (from tapipy<2.0.0,>=1.6.3->dapi==1.0.0) (0.5.4)\n",
      "Requirement already satisfied: pyyaml>=5.4 in /opt/conda/lib/python3.11/site-packages (from tapipy<2.0.0,>=1.6.3->dapi==1.0.0) (6.0.1)\n",
      "Requirement already satisfied: requests<3.0.0,>=2.20.0 in /opt/conda/lib/python3.11/site-packages (from tapipy<2.0.0,>=1.6.3->dapi==1.0.0) (2.31.0)\n",
      "Requirement already satisfied: setuptools>=21.0.0 in /opt/conda/lib/python3.11/site-packages (from tapipy<2.0.0,>=1.6.3->dapi==1.0.0) (68.2.2)\n",
      "Requirement already satisfied: six<2.0,>=1.10 in /opt/conda/lib/python3.11/site-packages (from tapipy<2.0.0,>=1.6.3->dapi==1.0.0) (1.16.0)\n",
      "Requirement already satisfied: urllib3<2.0.0,>=1.26.5 in /opt/conda/lib/python3.11/site-packages (from tapipy<2.0.0,>=1.6.3->dapi==1.0.0) (1.26.20)\n",
      "Requirement already satisfied: isodate in /opt/conda/lib/python3.11/site-packages (from openapi_core==0.16.0->tapipy<2.0.0,>=1.6.3->dapi==1.0.0) (0.7.2)\n",
      "Requirement already satisfied: jsonschema-spec<0.2.0,>=0.1.1 in /home/jupyter/.local/lib/python3.11/site-packages (from openapi_core==0.16.0->tapipy<2.0.0,>=1.6.3->dapi==1.0.0) (0.1.3)\n",
      "Requirement already satisfied: more-itertools in /opt/conda/lib/python3.11/site-packages (from openapi_core==0.16.0->tapipy<2.0.0,>=1.6.3->dapi==1.0.0) (10.5.0)\n",
      "Requirement already satisfied: openapi-schema-validator<0.4.0,>=0.3.0 in /opt/conda/lib/python3.11/site-packages (from openapi_core==0.16.0->tapipy<2.0.0,>=1.6.3->dapi==1.0.0) (0.3.4)\n",
      "Requirement already satisfied: parse in /opt/conda/lib/python3.11/site-packages (from openapi_core==0.16.0->tapipy<2.0.0,>=1.6.3->dapi==1.0.0) (1.20.2)\n",
      "Requirement already satisfied: pathable<0.5.0,>=0.4.0 in /opt/conda/lib/python3.11/site-packages (from openapi_core==0.16.0->tapipy<2.0.0,>=1.6.3->dapi==1.0.0) (0.4.3)\n",
      "Requirement already satisfied: werkzeug in /opt/conda/lib/python3.11/site-packages (from openapi_core==0.16.0->tapipy<2.0.0,>=1.6.3->dapi==1.0.0) (3.1.2)\n",
      "Requirement already satisfied: cffi>=1.12 in /opt/conda/lib/python3.11/site-packages (from cryptography>=3.3.2->tapipy<2.0.0,>=1.6.3->dapi==1.0.0) (1.16.0)\n",
      "Requirement already satisfied: lazy-object-proxy<2.0.0,>=1.7.1 in /opt/conda/lib/python3.11/site-packages (from openapi_spec_validator<0.6.0,>=0.5.0->tapipy<2.0.0,>=1.6.3->dapi==1.0.0) (1.10.0)\n",
      "Requirement already satisfied: charset-normalizer<4,>=2 in /opt/conda/lib/python3.11/site-packages (from requests<3.0.0,>=2.20.0->tapipy<2.0.0,>=1.6.3->dapi==1.0.0) (3.3.0)\n",
      "Requirement already satisfied: idna<4,>=2.5 in /opt/conda/lib/python3.11/site-packages (from requests<3.0.0,>=2.20.0->tapipy<2.0.0,>=1.6.3->dapi==1.0.0) (3.4)\n",
      "Requirement already satisfied: pycparser in /opt/conda/lib/python3.11/site-packages (from cffi>=1.12->cryptography>=3.3.2->tapipy<2.0.0,>=1.6.3->dapi==1.0.0) (2.21)\n",
      "Requirement already satisfied: MarkupSafe>=2.1.1 in /opt/conda/lib/python3.11/site-packages (from werkzeug->openapi_core==0.16.0->tapipy<2.0.0,>=1.6.3->dapi==1.0.0) (2.1.3)\n",
      "Building wheels for collected packages: dapi\n",
      "  Building wheel for dapi (pyproject.toml) ... \u001b[?25ldone\n",
      "\u001b[?25h  Created wheel for dapi: filename=dapi-1.0.0-py3-none-any.whl size=24062 sha256=cf0ff0df24ae1cb99cf56a627d1fdcd6d5d91e53a3c9eae6e99b8f3ab519713a\n",
      "  Stored in directory: /tmp/pip-ephem-wheel-cache-58or_9hm/wheels/e1/79/c6/a9ec0b77e5349b798d57dca8ea213ee48626dea9e159e67fdc\n",
      "Successfully built dapi\n",
      "Installing collected packages: dapi\n",
      "Successfully installed dapi-1.0.0\n"
     ]
    }
   ],
   "source": [
    "# Dapi installation\n",
    "!pip uninstall dapi --yes\n",
    "\n",
    "!pip install dapi --user --quiet\n",
    "\n",
    "# Install the latest development version of dapi from GitHub\n",
    "# !pip install git+https://github.com/DesignSafe-CI/dapi.git@dev --user --quiet\n",
    "\n",
    "# Install editable local version of dapi\n",
    "# !pip install -e ../"
   ]
  },
  {
   "cell_type": "code",
   "execution_count": 2,
   "id": "06f33aaa",
   "metadata": {},
   "outputs": [],
   "source": [
    "# Cell: Imports\n",
    "import os\n",
    "from dapi import DSClient  # Import only the main client\n",
    "\n",
    "# Import exceptions if needed for specific handling later\n",
    "from dapi import FileOperationError, JobSubmissionError, JobMonitorError\n",
    "import json\n",
    "from datetime import datetime\n",
    "from dataclasses import asdict\n",
    "import pandas as pd"
   ]
  },
  {
   "cell_type": "code",
   "execution_count": 3,
   "id": "abc973d4",
   "metadata": {},
   "outputs": [
    {
     "name": "stdout",
     "output_type": "stream",
     "text": [
      "Initializing DSClient...\n",
      "Authentication successful.\n",
      "DatabaseAccessor initialized. Connections will be created on first access.\n",
      "DSClient initialized.\n"
     ]
    }
   ],
   "source": [
    "# Authenticate & Initialize Client\n",
    "try:\n",
    "    print(\"Initializing DSClient...\")\n",
    "    ds = DSClient()  # This sets up ds.db internally\n",
    "    print(\"DSClient initialized.\")\n",
    "except Exception as e:\n",
    "    print(f\"Initialization failed: {e}\")\n",
    "    raise SystemExit(\"Stopping notebook due to client initialization failure.\")"
   ]
  },
  {
   "cell_type": "code",
   "execution_count": 4,
   "id": "3c1d34e8",
   "metadata": {},
   "outputs": [
    {
     "name": "stdout",
     "output_type": "stream",
     "text": [
      "\n",
      "Creating database convenience variables...\n",
      "First access to 'ngl', initializing DSDatabase...\n",
      "Creating SQLAlchemy engine for database 'sjbrande_ngl_db' (ngl)...\n",
      "Engine for 'ngl' created.\n",
      "First access to 'vp', initializing DSDatabase...\n",
      "Creating SQLAlchemy engine for database 'sjbrande_vpdb' (vp)...\n",
      "Engine for 'vp' created.\n",
      "First access to 'eq', initializing DSDatabase...\n",
      "Creating SQLAlchemy engine for database 'post_earthquake_recovery' (eq)...\n",
      "Engine for 'eq' created.\n",
      "Database variables (ngl, vp, eq) created.\n"
     ]
    }
   ],
   "source": [
    "# Create Convenience Variables for Databases (Optional but meets user request)\n",
    "print(\"\\nCreating database convenience variables...\")\n",
    "try:\n",
    "    # These lines trigger the lazy initialization in DatabaseAccessor._get_db\n",
    "    # if the specific database hasn't been accessed yet.\n",
    "    ngl = ds.db.ngl\n",
    "    vp = ds.db.vp\n",
    "    eq = ds.db.eq\n",
    "    print(\"Database variables (ngl, vp, eq) created.\")\n",
    "    # Note: Engines/pools are now created, but connections are only used during queries.\n",
    "except Exception as e:\n",
    "    print(f\"Failed to create database convenience variables: {e}\")\n",
    "    # Decide if this is critical - maybe only some DBs are needed?\n",
    "    # For now, we'll continue but note the failure.\n",
    "    ngl, vp, eq = None, None, None  # Ensure they exist but are None"
   ]
  },
  {
   "cell_type": "code",
   "execution_count": 6,
   "id": "80a7fa20",
   "metadata": {},
   "outputs": [
    {
     "name": "stdout",
     "output_type": "stream",
     "text": [
      "\n",
      "Querying NGL Database using 'ngl' variable...\n",
      "Executing query on 'ngl'...\n",
      "--- NGL Data (DataFrame) ---\n",
      "   SITE_ID            SITE_NAME   SITE_LAT    SITE_LON  \\\n",
      "0      147            Amagasaki  34.715560  135.400750   \n",
      "1      148         Bonds Corner  32.693100 -115.338200   \n",
      "2      149          Hachirogata  39.850000  140.017000   \n",
      "3      150  Higashi-Kobe Bridge  34.710214  135.293345   \n",
      "4      151   Hanshin Expressway  34.724834  135.301489   \n",
      "\n",
      "                    SITE_GEOL  \\\n",
      "0                         Qal   \n",
      "1  Qal, deep, Imperial Valley   \n",
      "2                   Af (Fill)   \n",
      "3                   Af (Fill)   \n",
      "4                               \n",
      "\n",
      "                                            SITE_REM  SITE_STAT  SITE_REVW  \n",
      "0  Industrial site near Yomoga River.  Coordinate...          1          2  \n",
      "1                                                             1          2  \n",
      "2  Gingery indicates the geology near the strong ...          1          2  \n",
      "3  A geologic map of the area (Geological Survey ...          1          2  \n",
      "4         Hanshin Expressway (Mylonakis et al. 2006)          1          2  \n"
     ]
    }
   ],
   "source": [
    "## Database Example Usage (Using convenience variables)\n",
    "if ngl:  # Check if ngl variable was successfully created\n",
    "    try:\n",
    "        print(\"\\nQuerying NGL Database using 'ngl' variable...\")\n",
    "        sql = \"SELECT * FROM SITE LIMIT 5\"\n",
    "        # Use the convenience variable directly\n",
    "        df_ngl = ngl.read_sql(sql, output_type=\"DataFrame\")\n",
    "        print(\"--- NGL Data (DataFrame) ---\")\n",
    "        print(df_ngl)\n",
    "    except Exception as e:\n",
    "        print(f\"\\nAn error occurred during NGL database query: {e}\")\n",
    "else:\n",
    "    print(\"\\nSkipping NGL query as 'ngl' variable is not available.\")"
   ]
  }
 ],
 "metadata": {
  "kernelspec": {
   "display_name": "dapi-ptztLUqK-py3.13",
   "language": "python",
   "name": "python3"
  },
  "language_info": {
   "codemirror_mode": {
    "name": "ipython",
    "version": 3
   },
   "file_extension": ".py",
   "mimetype": "text/x-python",
   "name": "python",
   "nbconvert_exporter": "python",
   "pygments_lexer": "ipython3",
   "version": "3.13.3"
  }
 },
 "nbformat": 4,
 "nbformat_minor": 5
}
