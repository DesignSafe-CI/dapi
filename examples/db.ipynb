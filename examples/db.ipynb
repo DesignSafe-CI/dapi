{
 "cells": [
  {
   "cell_type": "markdown",
   "id": "8ad4dbd4",
   "metadata": {},
   "source": [
    "# Dapi Database Access"
   ]
  },
  {
   "cell_type": "code",
   "execution_count": 1,
   "id": "06f33aaa",
   "metadata": {},
   "outputs": [],
   "source": [
    "# Cell: Imports\n",
    "import os\n",
    "from dapi import DSClient  # Import only the main client\n",
    "\n",
    "# Import exceptions if needed for specific handling later\n",
    "from dapi import FileOperationError, JobSubmissionError, JobMonitorError\n",
    "import json\n",
    "from datetime import datetime\n",
    "from dataclasses import asdict\n",
    "import pandas as pd"
   ]
  },
  {
   "cell_type": "code",
   "execution_count": 2,
   "id": "abc973d4",
   "metadata": {},
   "outputs": [
    {
     "name": "stdout",
     "output_type": "stream",
     "text": [
      "Initializing DSClient...\n",
      "Authentication successful.\n",
      "DatabaseAccessor initialized. Connections will be created on first access.\n",
      "DSClient initialized.\n"
     ]
    }
   ],
   "source": [
    "# Authenticate & Initialize Client\n",
    "try:\n",
    "    print(\"Initializing DSClient...\")\n",
    "    ds = DSClient()  # This sets up ds.db internally\n",
    "    print(\"DSClient initialized.\")\n",
    "except Exception as e:\n",
    "    print(f\"Initialization failed: {e}\")\n",
    "    raise SystemExit(\"Stopping notebook due to client initialization failure.\")"
   ]
  },
  {
   "cell_type": "code",
   "execution_count": 3,
   "id": "3c1d34e8",
   "metadata": {},
   "outputs": [
    {
     "name": "stdout",
     "output_type": "stream",
     "text": [
      "\n",
      "Creating database convenience variables...\n",
      "First access to 'ngl', initializing DSDatabase...\n",
      "Creating SQLAlchemy engine for database 'sjbrande_ngl_db' (ngl)...\n",
      "Engine for 'ngl' created.\n",
      "First access to 'vp', initializing DSDatabase...\n",
      "Creating SQLAlchemy engine for database 'sjbrande_vpdb' (vp)...\n",
      "Engine for 'vp' created.\n",
      "First access to 'eq', initializing DSDatabase...\n",
      "Creating SQLAlchemy engine for database 'post_earthquake_recovery' (eq)...\n",
      "Engine for 'eq' created.\n",
      "Database variables (ngl, vp, eq) created.\n"
     ]
    }
   ],
   "source": [
    "# Create Convenience Variables for Databases (Optional but meets user request)\n",
    "print(\"\\nCreating database convenience variables...\")\n",
    "try:\n",
    "    # These lines trigger the lazy initialization in DatabaseAccessor._get_db\n",
    "    # if the specific database hasn't been accessed yet.\n",
    "    ngl = ds.db.ngl\n",
    "    vp = ds.db.vp\n",
    "    eq = ds.db.eq\n",
    "    print(\"Database variables (ngl, vp, eq) created.\")\n",
    "    # Note: Engines/pools are now created, but connections are only used during queries.\n",
    "except Exception as e:\n",
    "    print(f\"Failed to create database convenience variables: {e}\")\n",
    "    # Decide if this is critical - maybe only some DBs are needed?\n",
    "    # For now, we'll continue but note the failure.\n",
    "    ngl, vp, eq = None, None, None  # Ensure they exist but are None"
   ]
  },
  {
   "cell_type": "code",
   "execution_count": null,
   "id": "80a7fa20",
   "metadata": {},
   "outputs": [],
   "source": [
    "## Database Example Usage (Using convenience variables)\n",
    "if ngl:  # Check if ngl variable was successfully created\n",
    "    try:\n",
    "        print(\"\\nQuerying NGL Database using 'ngl' variable...\")\n",
    "        sql = \"SELECT * FROM SITE LIMIT 5\"\n",
    "        # Use the convenience variable directly\n",
    "        df_ngl = ngl.read_sql(sql, output_type=\"DataFrame\")\n",
    "        print(\"--- NGL Data (DataFrame) ---\")\n",
    "        print(df_ngl)\n",
    "    except Exception as e:\n",
    "        print(f\"\\nAn error occurred during NGL database query: {e}\")\n",
    "else:\n",
    "    print(\"\\nSkipping NGL query as 'ngl' variable is not available.\")"
   ]
  }
 ],
 "metadata": {
  "kernelspec": {
   "display_name": "dapi-ptztLUqK-py3.13",
   "language": "python",
   "name": "python3"
  },
  "language_info": {
   "codemirror_mode": {
    "name": "ipython",
    "version": 3
   },
   "file_extension": ".py",
   "mimetype": "text/x-python",
   "name": "python",
   "nbconvert_exporter": "python",
   "pygments_lexer": "ipython3",
   "version": "3.13.3"
  }
 },
 "nbformat": 4,
 "nbformat_minor": 5
}
