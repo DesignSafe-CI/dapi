{
 "cells": [
  {
   "cell_type": "markdown",
   "id": "4efabb5e",
   "metadata": {},
   "source": [
    "# Templatized notebook for running CB-Geo MPM TAPIS job"
   ]
  },
  {
   "cell_type": "markdown",
   "id": "abe5d8a3-32da-4233-b605-9fd51d053ec1",
   "metadata": {},
   "source": [
    "## Install DesignSafe API (dapi)"
   ]
  },
  {
   "cell_type": "code",
   "execution_count": 1,
   "id": "d84cd553",
   "metadata": {},
   "outputs": [
    {
     "name": "stdout",
     "output_type": "stream",
     "text": [
      "\u001b[33mWARNING: Skipping dapi as it is not installed.\u001b[0m\u001b[33m\n",
      "\u001b[0mObtaining file:///Users/krishna/dev/designsafe/dapi\n",
      "  Installing build dependencies ... \u001b[?25ldone\n",
      "\u001b[?25h  Checking if build backend supports build_editable ... \u001b[?25ldone\n",
      "\u001b[?25h  Getting requirements to build editable ... \u001b[?25ldone\n",
      "\u001b[?25h  Preparing editable metadata (pyproject.toml) ... \u001b[?25ldone\n",
      "\u001b[?25hCollecting exceptiongroup<2.0.0,>=1.2.0 (from dapi==1.0.0)\n",
      "  Downloading exceptiongroup-1.3.0-py3-none-any.whl.metadata (6.7 kB)\n",
      "Collecting jsonschema>=4.18.0 (from dapi==1.0.0)\n",
      "  Downloading jsonschema-4.24.0-py3-none-any.whl.metadata (7.8 kB)\n",
      "Collecting mkdocs<1.6,>=1.5 (from dapi==1.0.0)\n",
      "  Downloading mkdocs-1.5.3-py3-none-any.whl.metadata (6.2 kB)\n",
      "Collecting mkdocs-material<9.5,>=9.0 (from dapi==1.0.0)\n",
      "  Downloading mkdocs_material-9.4.14-py3-none-any.whl.metadata (16 kB)\n",
      "Collecting mkdocstrings<0.24,>=0.20 (from mkdocstrings[python]<0.24,>=0.20->dapi==1.0.0)\n",
      "  Downloading mkdocstrings-0.23.0-py3-none-any.whl.metadata (7.6 kB)\n",
      "Collecting numpy<3.0.0,>=2.1.1 (from dapi==1.0.0)\n",
      "  Downloading numpy-2.2.6-cp311-cp311-macosx_14_0_arm64.whl.metadata (62 kB)\n",
      "Collecting pandas<3.0.0,>=2.2.3 (from dapi==1.0.0)\n",
      "  Downloading pandas-2.3.0-cp311-cp311-macosx_11_0_arm64.whl.metadata (91 kB)\n",
      "Collecting pymysql<2.0.0,>=1.1.0 (from dapi==1.0.0)\n",
      "  Downloading PyMySQL-1.1.1-py3-none-any.whl.metadata (4.4 kB)\n",
      "Collecting python-dotenv<2.0.0,>=1.0.1 (from dapi==1.0.0)\n",
      "  Using cached python_dotenv-1.1.0-py3-none-any.whl.metadata (24 kB)\n",
      "Collecting sqlalchemy<3.0.0,>=2.0.23 (from dapi==1.0.0)\n",
      "  Using cached sqlalchemy-2.0.41-cp311-cp311-macosx_11_0_arm64.whl.metadata (9.6 kB)\n",
      "Collecting tapipy<2.0.0,>=1.6.3 (from dapi==1.0.0)\n",
      "  Downloading tapipy-1.8.4-py3-none-any.whl.metadata (10 kB)\n",
      "Collecting tqdm<5.0.0,>=4.66.1 (from dapi==1.0.0)\n",
      "  Using cached tqdm-4.67.1-py3-none-any.whl.metadata (57 kB)\n",
      "Requirement already satisfied: typing-extensions>=4.6.0 in /Users/krishna/dev/designsafe/dapi/env/lib/python3.11/site-packages (from exceptiongroup<2.0.0,>=1.2.0->dapi==1.0.0) (4.14.0)\n",
      "Collecting attrs>=22.2.0 (from jsonschema>=4.18.0->dapi==1.0.0)\n",
      "  Using cached attrs-25.3.0-py3-none-any.whl.metadata (10 kB)\n",
      "Collecting jsonschema-specifications>=2023.03.6 (from jsonschema>=4.18.0->dapi==1.0.0)\n",
      "  Using cached jsonschema_specifications-2025.4.1-py3-none-any.whl.metadata (2.9 kB)\n",
      "Collecting referencing>=0.28.4 (from jsonschema>=4.18.0->dapi==1.0.0)\n",
      "  Using cached referencing-0.36.2-py3-none-any.whl.metadata (2.8 kB)\n",
      "Collecting rpds-py>=0.7.1 (from jsonschema>=4.18.0->dapi==1.0.0)\n",
      "  Downloading rpds_py-0.25.1-cp311-cp311-macosx_11_0_arm64.whl.metadata (4.1 kB)\n",
      "Collecting click>=7.0 (from mkdocs<1.6,>=1.5->dapi==1.0.0)\n",
      "  Downloading click-8.2.1-py3-none-any.whl.metadata (2.5 kB)\n",
      "Collecting ghp-import>=1.0 (from mkdocs<1.6,>=1.5->dapi==1.0.0)\n",
      "  Downloading ghp_import-2.1.0-py3-none-any.whl.metadata (7.2 kB)\n",
      "Collecting jinja2>=2.11.1 (from mkdocs<1.6,>=1.5->dapi==1.0.0)\n",
      "  Using cached jinja2-3.1.6-py3-none-any.whl.metadata (2.9 kB)\n",
      "Collecting markdown>=3.2.1 (from mkdocs<1.6,>=1.5->dapi==1.0.0)\n",
      "  Downloading markdown-3.8-py3-none-any.whl.metadata (5.1 kB)\n",
      "Collecting markupsafe>=2.0.1 (from mkdocs<1.6,>=1.5->dapi==1.0.0)\n",
      "  Using cached MarkupSafe-3.0.2-cp311-cp311-macosx_11_0_arm64.whl.metadata (4.0 kB)\n",
      "Collecting mergedeep>=1.3.4 (from mkdocs<1.6,>=1.5->dapi==1.0.0)\n",
      "  Downloading mergedeep-1.3.4-py3-none-any.whl.metadata (4.3 kB)\n",
      "Requirement already satisfied: packaging>=20.5 in /Users/krishna/dev/designsafe/dapi/env/lib/python3.11/site-packages (from mkdocs<1.6,>=1.5->dapi==1.0.0) (25.0)\n",
      "Collecting pathspec>=0.11.1 (from mkdocs<1.6,>=1.5->dapi==1.0.0)\n",
      "  Using cached pathspec-0.12.1-py3-none-any.whl.metadata (21 kB)\n",
      "Requirement already satisfied: platformdirs>=2.2.0 in /Users/krishna/dev/designsafe/dapi/env/lib/python3.11/site-packages (from mkdocs<1.6,>=1.5->dapi==1.0.0) (4.3.8)\n",
      "Collecting pyyaml-env-tag>=0.1 (from mkdocs<1.6,>=1.5->dapi==1.0.0)\n",
      "  Downloading pyyaml_env_tag-1.1-py3-none-any.whl.metadata (5.5 kB)\n",
      "Collecting pyyaml>=5.1 (from mkdocs<1.6,>=1.5->dapi==1.0.0)\n",
      "  Using cached PyYAML-6.0.2-cp311-cp311-macosx_11_0_arm64.whl.metadata (2.1 kB)\n",
      "Collecting watchdog>=2.0 (from mkdocs<1.6,>=1.5->dapi==1.0.0)\n",
      "  Downloading watchdog-6.0.0-cp311-cp311-macosx_11_0_arm64.whl.metadata (44 kB)\n",
      "Collecting babel~=2.10 (from mkdocs-material<9.5,>=9.0->dapi==1.0.0)\n",
      "  Using cached babel-2.17.0-py3-none-any.whl.metadata (2.0 kB)\n",
      "Collecting colorama~=0.4 (from mkdocs-material<9.5,>=9.0->dapi==1.0.0)\n",
      "  Using cached colorama-0.4.6-py2.py3-none-any.whl.metadata (17 kB)\n",
      "Collecting mkdocs-material-extensions~=1.3 (from mkdocs-material<9.5,>=9.0->dapi==1.0.0)\n",
      "  Downloading mkdocs_material_extensions-1.3.1-py3-none-any.whl.metadata (6.9 kB)\n",
      "Collecting paginate~=0.5 (from mkdocs-material<9.5,>=9.0->dapi==1.0.0)\n",
      "  Downloading paginate-0.5.7-py2.py3-none-any.whl.metadata (11 kB)\n",
      "Requirement already satisfied: pygments~=2.16 in /Users/krishna/dev/designsafe/dapi/env/lib/python3.11/site-packages (from mkdocs-material<9.5,>=9.0->dapi==1.0.0) (2.19.1)\n",
      "Collecting pymdown-extensions~=10.2 (from mkdocs-material<9.5,>=9.0->dapi==1.0.0)\n",
      "  Downloading pymdown_extensions-10.15-py3-none-any.whl.metadata (3.0 kB)\n",
      "Collecting regex>=2022.4 (from mkdocs-material<9.5,>=9.0->dapi==1.0.0)\n",
      "  Using cached regex-2024.11.6-cp311-cp311-macosx_11_0_arm64.whl.metadata (40 kB)\n",
      "Collecting requests~=2.26 (from mkdocs-material<9.5,>=9.0->dapi==1.0.0)\n",
      "  Using cached requests-2.32.3-py3-none-any.whl.metadata (4.6 kB)\n",
      "Collecting mkdocs-autorefs>=0.3.1 (from mkdocstrings<0.24,>=0.20->mkdocstrings[python]<0.24,>=0.20->dapi==1.0.0)\n",
      "  Downloading mkdocs_autorefs-1.4.2-py3-none-any.whl.metadata (13 kB)\n",
      "Collecting mkdocstrings-python>=0.5.2 (from mkdocstrings[python]<0.24,>=0.20->dapi==1.0.0)\n",
      "  Downloading mkdocstrings_python-1.16.12-py3-none-any.whl.metadata (5.6 kB)\n",
      "Requirement already satisfied: python-dateutil>=2.8.2 in /Users/krishna/dev/designsafe/dapi/env/lib/python3.11/site-packages (from pandas<3.0.0,>=2.2.3->dapi==1.0.0) (2.9.0.post0)\n",
      "Collecting pytz>=2020.1 (from pandas<3.0.0,>=2.2.3->dapi==1.0.0)\n",
      "  Using cached pytz-2025.2-py2.py3-none-any.whl.metadata (22 kB)\n",
      "Collecting tzdata>=2022.7 (from pandas<3.0.0,>=2.2.3->dapi==1.0.0)\n",
      "  Using cached tzdata-2025.2-py2.py3-none-any.whl.metadata (1.4 kB)\n",
      "Collecting PyJWT>=1.7.1 (from tapipy<2.0.0,>=1.6.3->dapi==1.0.0)\n",
      "  Downloading PyJWT-2.10.1-py3-none-any.whl.metadata (4.0 kB)\n",
      "Collecting atomicwrites<2.0.0,>=1.4.0 (from tapipy<2.0.0,>=1.6.3->dapi==1.0.0)\n",
      "  Using cached atomicwrites-1.4.1-py2.py3-none-any.whl\n",
      "Collecting certifi>=2020.11.8 (from tapipy<2.0.0,>=1.6.3->dapi==1.0.0)\n",
      "  Using cached certifi-2025.4.26-py3-none-any.whl.metadata (2.5 kB)\n",
      "Collecting cloudpickle>=1.6.0 (from tapipy<2.0.0,>=1.6.3->dapi==1.0.0)\n",
      "  Downloading cloudpickle-3.1.1-py3-none-any.whl.metadata (7.1 kB)\n",
      "Collecting cryptography>=3.3.2 (from tapipy<2.0.0,>=1.6.3->dapi==1.0.0)\n",
      "  Downloading cryptography-45.0.3-cp311-abi3-macosx_10_9_universal2.whl.metadata (5.7 kB)\n",
      "Collecting openapi_core==0.16.0 (from tapipy<2.0.0,>=1.6.3->dapi==1.0.0)\n",
      "  Downloading openapi_core-0.16.0-py3-none-any.whl.metadata (7.1 kB)\n",
      "Collecting openapi_spec_validator<0.6.0,>=0.5.0 (from tapipy<2.0.0,>=1.6.3->dapi==1.0.0)\n",
      "  Using cached openapi_spec_validator-0.5.7-py3-none-any.whl.metadata (5.4 kB)\n",
      "Requirement already satisfied: setuptools>=21.0.0 in /Users/krishna/dev/designsafe/dapi/env/lib/python3.11/site-packages (from tapipy<2.0.0,>=1.6.3->dapi==1.0.0) (80.3.1)\n",
      "Requirement already satisfied: six<2.0,>=1.10 in /Users/krishna/dev/designsafe/dapi/env/lib/python3.11/site-packages (from tapipy<2.0.0,>=1.6.3->dapi==1.0.0) (1.17.0)\n",
      "Collecting urllib3<2.0.0,>=1.26.5 (from tapipy<2.0.0,>=1.6.3->dapi==1.0.0)\n",
      "  Downloading urllib3-1.26.20-py2.py3-none-any.whl.metadata (50 kB)\n",
      "Collecting isodate (from openapi_core==0.16.0->tapipy<2.0.0,>=1.6.3->dapi==1.0.0)\n",
      "  Downloading isodate-0.7.2-py3-none-any.whl.metadata (11 kB)\n",
      "Collecting jsonschema-spec<0.2.0,>=0.1.1 (from openapi_core==0.16.0->tapipy<2.0.0,>=1.6.3->dapi==1.0.0)\n",
      "  Using cached jsonschema_spec-0.1.6-py3-none-any.whl.metadata (4.4 kB)\n",
      "Collecting more-itertools (from openapi_core==0.16.0->tapipy<2.0.0,>=1.6.3->dapi==1.0.0)\n",
      "  Downloading more_itertools-10.7.0-py3-none-any.whl.metadata (37 kB)\n",
      "Collecting openapi-schema-validator<0.4.0,>=0.3.0 (from openapi_core==0.16.0->tapipy<2.0.0,>=1.6.3->dapi==1.0.0)\n",
      "  Downloading openapi_schema_validator-0.3.4-py3-none-any.whl.metadata (7.9 kB)\n",
      "Collecting parse (from openapi_core==0.16.0->tapipy<2.0.0,>=1.6.3->dapi==1.0.0)\n",
      "  Downloading parse-1.20.2-py2.py3-none-any.whl.metadata (22 kB)\n",
      "Collecting pathable<0.5.0,>=0.4.0 (from openapi_core==0.16.0->tapipy<2.0.0,>=1.6.3->dapi==1.0.0)\n",
      "  Downloading pathable-0.4.4-py3-none-any.whl.metadata (1.8 kB)\n",
      "Collecting werkzeug (from openapi_core==0.16.0->tapipy<2.0.0,>=1.6.3->dapi==1.0.0)\n",
      "  Downloading werkzeug-3.1.3-py3-none-any.whl.metadata (3.7 kB)\n",
      "Collecting cffi>=1.14 (from cryptography>=3.3.2->tapipy<2.0.0,>=1.6.3->dapi==1.0.0)\n",
      "  Downloading cffi-1.17.1-cp311-cp311-macosx_11_0_arm64.whl.metadata (1.5 kB)\n",
      "INFO: pip is looking at multiple versions of mkdocstrings-python to determine which version is compatible with other requirements. This could take a while.\n",
      "Collecting mkdocstrings-python>=0.5.2 (from mkdocstrings[python]<0.24,>=0.20->dapi==1.0.0)\n",
      "  Downloading mkdocstrings_python-1.16.11-py3-none-any.whl.metadata (5.6 kB)\n",
      "  Downloading mkdocstrings_python-1.16.10-py3-none-any.whl.metadata (5.6 kB)\n",
      "  Downloading mkdocstrings_python-1.16.9-py3-none-any.whl.metadata (5.6 kB)\n",
      "  Downloading mkdocstrings_python-1.16.8-py3-none-any.whl.metadata (5.6 kB)\n",
      "  Downloading mkdocstrings_python-1.16.7-py3-none-any.whl.metadata (5.6 kB)\n",
      "  Downloading mkdocstrings_python-1.16.6-py3-none-any.whl.metadata (5.6 kB)\n",
      "  Downloading mkdocstrings_python-1.16.5-py3-none-any.whl.metadata (5.6 kB)\n",
      "INFO: pip is still looking at multiple versions of mkdocstrings-python to determine which version is compatible with other requirements. This could take a while.\n",
      "  Downloading mkdocstrings_python-1.16.4-py3-none-any.whl.metadata (5.6 kB)\n",
      "  Downloading mkdocstrings_python-1.16.3-py3-none-any.whl.metadata (5.6 kB)\n",
      "  Downloading mkdocstrings_python-1.16.2-py3-none-any.whl.metadata (5.6 kB)\n",
      "  Downloading mkdocstrings_python-1.16.1-py3-none-any.whl.metadata (5.6 kB)\n",
      "  Downloading mkdocstrings_python-1.16.0-py3-none-any.whl.metadata (5.6 kB)\n",
      "INFO: This is taking longer than usual. You might need to provide the dependency resolver with stricter constraints to reduce runtime. See https://pip.pypa.io/warnings/backtracking for guidance. If you want to abort this run, press Ctrl + C.\n",
      "  Downloading mkdocstrings_python-1.15.1-py3-none-any.whl.metadata (5.6 kB)\n",
      "  Downloading mkdocstrings_python-1.15.0-py3-none-any.whl.metadata (5.6 kB)\n",
      "  Downloading mkdocstrings_python-1.14.7-py3-none-any.whl.metadata (5.6 kB)\n",
      "  Downloading mkdocstrings_python-1.14.6-py3-none-any.whl.metadata (5.6 kB)\n",
      "  Downloading mkdocstrings_python-1.14.5-py3-none-any.whl.metadata (5.6 kB)\n",
      "  Downloading mkdocstrings_python-1.14.4-py3-none-any.whl.metadata (5.6 kB)\n",
      "  Downloading mkdocstrings_python-1.14.3-py3-none-any.whl.metadata (5.6 kB)\n",
      "  Downloading mkdocstrings_python-1.14.2-py3-none-any.whl.metadata (5.6 kB)\n",
      "  Downloading mkdocstrings_python-1.14.1-py3-none-any.whl.metadata (5.6 kB)\n",
      "  Downloading mkdocstrings_python-1.14.0-py3-none-any.whl.metadata (5.6 kB)\n",
      "  Downloading mkdocstrings_python-1.13.0-py3-none-any.whl.metadata (5.5 kB)\n",
      "  Downloading mkdocstrings_python-1.12.2-py3-none-any.whl.metadata (5.6 kB)\n",
      "  Downloading mkdocstrings_python-1.12.1-py3-none-any.whl.metadata (5.6 kB)\n",
      "  Downloading mkdocstrings_python-1.12.0-py3-none-any.whl.metadata (5.6 kB)\n",
      "  Downloading mkdocstrings_python-1.11.1-py3-none-any.whl.metadata (5.6 kB)\n",
      "  Downloading mkdocstrings_python-1.11.0-py3-none-any.whl.metadata (5.6 kB)\n",
      "  Downloading mkdocstrings_python-1.10.9-py3-none-any.whl.metadata (5.6 kB)\n",
      "  Downloading mkdocstrings_python-1.10.8-py3-none-any.whl.metadata (5.6 kB)\n",
      "  Downloading mkdocstrings_python-1.10.7-py3-none-any.whl.metadata (5.6 kB)\n",
      "  Downloading mkdocstrings_python-1.10.6-py3-none-any.whl.metadata (5.6 kB)\n",
      "  Downloading mkdocstrings_python-1.10.5-py3-none-any.whl.metadata (5.6 kB)\n",
      "  Downloading mkdocstrings_python-1.10.4-py3-none-any.whl.metadata (5.6 kB)\n",
      "  Downloading mkdocstrings_python-1.10.3-py3-none-any.whl.metadata (5.5 kB)\n",
      "  Downloading mkdocstrings_python-1.10.2-py3-none-any.whl.metadata (5.5 kB)\n",
      "  Downloading mkdocstrings_python-1.10.1-py3-none-any.whl.metadata (5.5 kB)\n",
      "  Downloading mkdocstrings_python-1.10.0-py3-none-any.whl.metadata (5.5 kB)\n",
      "  Downloading mkdocstrings_python-1.9.2-py3-none-any.whl.metadata (5.5 kB)\n",
      "  Downloading mkdocstrings_python-1.9.1-py3-none-any.whl.metadata (5.5 kB)\n",
      "Collecting markdown>=3.2.1 (from mkdocs<1.6,>=1.5->dapi==1.0.0)\n",
      "  Downloading Markdown-3.5.2-py3-none-any.whl.metadata (7.0 kB)\n",
      "Collecting griffe>=0.37 (from mkdocstrings-python>=0.5.2->mkdocstrings[python]<0.24,>=0.20->dapi==1.0.0)\n",
      "  Using cached griffe-1.7.3-py3-none-any.whl.metadata (5.0 kB)\n",
      "INFO: pip is looking at multiple versions of openapi-spec-validator to determine which version is compatible with other requirements. This could take a while.\n",
      "Collecting openapi_spec_validator<0.6.0,>=0.5.0 (from tapipy<2.0.0,>=1.6.3->dapi==1.0.0)\n",
      "  Downloading openapi_spec_validator-0.5.6-py3-none-any.whl.metadata (5.6 kB)\n",
      "  Downloading openapi_spec_validator-0.5.5-py3-none-any.whl.metadata (5.9 kB)\n",
      "Collecting lazy-object-proxy<2.0.0,>=1.7.1 (from openapi_spec_validator<0.6.0,>=0.5.0->tapipy<2.0.0,>=1.6.3->dapi==1.0.0)\n",
      "  Downloading lazy_object_proxy-1.11.0-cp311-cp311-macosx_11_0_arm64.whl.metadata (8.4 kB)\n",
      "Collecting openapi_spec_validator<0.6.0,>=0.5.0 (from tapipy<2.0.0,>=1.6.3->dapi==1.0.0)\n",
      "  Downloading openapi_spec_validator-0.5.4-py3-none-any.whl.metadata (5.9 kB)\n",
      "INFO: pip is looking at multiple versions of pymdown-extensions to determine which version is compatible with other requirements. This could take a while.\n",
      "Collecting pymdown-extensions~=10.2 (from mkdocs-material<9.5,>=9.0->dapi==1.0.0)\n",
      "  Downloading pymdown_extensions-10.14.3-py3-none-any.whl.metadata (3.0 kB)\n",
      "  Downloading pymdown_extensions-10.14.2-py3-none-any.whl.metadata (3.0 kB)\n",
      "  Downloading pymdown_extensions-10.14.1-py3-none-any.whl.metadata (3.0 kB)\n",
      "  Downloading pymdown_extensions-10.14-py3-none-any.whl.metadata (3.0 kB)\n",
      "  Downloading pymdown_extensions-10.13-py3-none-any.whl.metadata (3.0 kB)\n",
      "  Downloading pymdown_extensions-10.12-py3-none-any.whl.metadata (3.0 kB)\n",
      "  Downloading pymdown_extensions-10.11.2-py3-none-any.whl.metadata (3.0 kB)\n",
      "INFO: pip is still looking at multiple versions of pymdown-extensions to determine which version is compatible with other requirements. This could take a while.\n",
      "  Downloading pymdown_extensions-10.11.1-py3-none-any.whl.metadata (3.0 kB)\n",
      "  Downloading pymdown_extensions-10.11-py3-none-any.whl.metadata (3.0 kB)\n",
      "  Downloading pymdown_extensions-10.10.2-py3-none-any.whl.metadata (3.0 kB)\n",
      "  Downloading pymdown_extensions-10.10.1-py3-none-any.whl.metadata (3.0 kB)\n",
      "  Downloading pymdown_extensions-10.10-py3-none-any.whl.metadata (3.0 kB)\n",
      "INFO: This is taking longer than usual. You might need to provide the dependency resolver with stricter constraints to reduce runtime. See https://pip.pypa.io/warnings/backtracking for guidance. If you want to abort this run, press Ctrl + C.\n",
      "  Downloading pymdown_extensions-10.9-py3-none-any.whl.metadata (3.0 kB)\n",
      "  Downloading pymdown_extensions-10.8.1-py3-none-any.whl.metadata (3.0 kB)\n",
      "  Downloading pymdown_extensions-10.8-py3-none-any.whl.metadata (3.0 kB)\n",
      "  Downloading pymdown_extensions-10.7.1-py3-none-any.whl.metadata (3.0 kB)\n",
      "Collecting charset-normalizer<4,>=2 (from requests~=2.26->mkdocs-material<9.5,>=9.0->dapi==1.0.0)\n",
      "  Using cached charset_normalizer-3.4.2-cp311-cp311-macosx_10_9_universal2.whl.metadata (35 kB)\n",
      "Collecting idna<4,>=2.5 (from requests~=2.26->mkdocs-material<9.5,>=9.0->dapi==1.0.0)\n",
      "  Using cached idna-3.10-py3-none-any.whl.metadata (10 kB)\n",
      "Collecting pycparser (from cffi>=1.14->cryptography>=3.3.2->tapipy<2.0.0,>=1.6.3->dapi==1.0.0)\n",
      "  Using cached pycparser-2.22-py3-none-any.whl.metadata (943 bytes)\n",
      "INFO: pip is looking at multiple versions of jsonschema-spec to determine which version is compatible with other requirements. This could take a while.\n",
      "Collecting jsonschema-spec<0.2.0,>=0.1.1 (from openapi_core==0.16.0->tapipy<2.0.0,>=1.6.3->dapi==1.0.0)\n",
      "  Downloading jsonschema_spec-0.1.5-py3-none-any.whl.metadata (4.4 kB)\n",
      "  Downloading jsonschema_spec-0.1.4-py3-none-any.whl.metadata (4.6 kB)\n",
      "  Downloading jsonschema_spec-0.1.3-py3-none-any.whl.metadata (3.9 kB)\n",
      "Downloading exceptiongroup-1.3.0-py3-none-any.whl (16 kB)\n",
      "Downloading jsonschema-4.24.0-py3-none-any.whl (88 kB)\n",
      "Downloading mkdocs-1.5.3-py3-none-any.whl (3.7 MB)\n",
      "\u001b[2K   \u001b[90m━━━━━━━━━━━━━━━━━━━━━━━━━━━━━━━━━━━━━━━━\u001b[0m \u001b[32m3.7/3.7 MB\u001b[0m \u001b[31m11.3 MB/s\u001b[0m eta \u001b[36m0:00:00\u001b[0ma \u001b[36m0:00:01\u001b[0m\n",
      "\u001b[?25hDownloading mkdocs_material-9.4.14-py3-none-any.whl (8.4 MB)\n",
      "\u001b[2K   \u001b[90m━━━━━━━━━━━━━━━━━━━━━━━━━━━━━━━━━━━━━━━━\u001b[0m \u001b[32m8.4/8.4 MB\u001b[0m \u001b[31m17.0 MB/s\u001b[0m eta \u001b[36m0:00:00\u001b[0ma \u001b[36m0:00:01\u001b[0m\n",
      "\u001b[?25hDownloading mkdocstrings-0.23.0-py3-none-any.whl (25 kB)\n",
      "Downloading numpy-2.2.6-cp311-cp311-macosx_14_0_arm64.whl (5.4 MB)\n",
      "\u001b[2K   \u001b[90m━━━━━━━━━━━━━━━━━━━━━━━━━━━━━━━━━━━━━━━━\u001b[0m \u001b[32m5.4/5.4 MB\u001b[0m \u001b[31m16.5 MB/s\u001b[0m eta \u001b[36m0:00:00\u001b[0ma \u001b[36m0:00:01\u001b[0m\n",
      "\u001b[?25hDownloading pandas-2.3.0-cp311-cp311-macosx_11_0_arm64.whl (10.8 MB)\n",
      "\u001b[2K   \u001b[90m━━━━━━━━━━━━━━━━━━━━━━━━━━━━━━━━━━━━━━━━\u001b[0m \u001b[32m10.8/10.8 MB\u001b[0m \u001b[31m18.0 MB/s\u001b[0m eta \u001b[36m0:00:00\u001b[0m \u001b[36m0:00:01\u001b[0m\n",
      "\u001b[?25hDownloading PyMySQL-1.1.1-py3-none-any.whl (44 kB)\n",
      "Using cached python_dotenv-1.1.0-py3-none-any.whl (20 kB)\n",
      "Using cached sqlalchemy-2.0.41-cp311-cp311-macosx_11_0_arm64.whl (2.1 MB)\n",
      "Downloading tapipy-1.8.4-py3-none-any.whl (311 kB)\n",
      "Using cached openapi_core-0.16.0-py3-none-any.whl (67 kB)\n",
      "Using cached tqdm-4.67.1-py3-none-any.whl (78 kB)\n",
      "Using cached attrs-25.3.0-py3-none-any.whl (63 kB)\n",
      "Using cached babel-2.17.0-py3-none-any.whl (10.2 MB)\n",
      "Using cached certifi-2025.4.26-py3-none-any.whl (159 kB)\n",
      "Downloading click-8.2.1-py3-none-any.whl (102 kB)\n",
      "Downloading cloudpickle-3.1.1-py3-none-any.whl (20 kB)\n",
      "Using cached colorama-0.4.6-py2.py3-none-any.whl (25 kB)\n",
      "Downloading cryptography-45.0.3-cp311-abi3-macosx_10_9_universal2.whl (7.1 MB)\n",
      "\u001b[2K   \u001b[90m━━━━━━━━━━━━━━━━━━━━━━━━━━━━━━━━━━━━━━━━\u001b[0m \u001b[32m7.1/7.1 MB\u001b[0m \u001b[31m4.3 MB/s\u001b[0m eta \u001b[36m0:00:00\u001b[0ma \u001b[36m0:00:01\u001b[0mm\n",
      "\u001b[?25hDownloading ghp_import-2.1.0-py3-none-any.whl (11 kB)\n",
      "Using cached jinja2-3.1.6-py3-none-any.whl (134 kB)\n",
      "Using cached jsonschema_specifications-2025.4.1-py3-none-any.whl (18 kB)\n",
      "Using cached MarkupSafe-3.0.2-cp311-cp311-macosx_11_0_arm64.whl (12 kB)\n",
      "Downloading mergedeep-1.3.4-py3-none-any.whl (6.4 kB)\n",
      "Downloading mkdocs_autorefs-1.4.2-py3-none-any.whl (24 kB)\n",
      "Downloading mkdocs_material_extensions-1.3.1-py3-none-any.whl (8.7 kB)\n",
      "Downloading mkdocstrings_python-1.9.1-py3-none-any.whl (58 kB)\n",
      "Downloading Markdown-3.5.2-py3-none-any.whl (103 kB)\n",
      "Using cached openapi_spec_validator-0.5.4-py3-none-any.whl (32 kB)\n",
      "Downloading paginate-0.5.7-py2.py3-none-any.whl (13 kB)\n",
      "Using cached pathspec-0.12.1-py3-none-any.whl (31 kB)\n",
      "Downloading PyJWT-2.10.1-py3-none-any.whl (22 kB)\n",
      "Downloading pymdown_extensions-10.7.1-py3-none-any.whl (250 kB)\n",
      "Using cached pytz-2025.2-py2.py3-none-any.whl (509 kB)\n",
      "Using cached PyYAML-6.0.2-cp311-cp311-macosx_11_0_arm64.whl (172 kB)\n",
      "Downloading pyyaml_env_tag-1.1-py3-none-any.whl (4.7 kB)\n",
      "Using cached referencing-0.36.2-py3-none-any.whl (26 kB)\n",
      "Using cached regex-2024.11.6-cp311-cp311-macosx_11_0_arm64.whl (284 kB)\n",
      "Using cached requests-2.32.3-py3-none-any.whl (64 kB)\n",
      "Downloading rpds_py-0.25.1-cp311-cp311-macosx_11_0_arm64.whl (359 kB)\n",
      "Using cached tzdata-2025.2-py2.py3-none-any.whl (347 kB)\n",
      "Downloading urllib3-1.26.20-py2.py3-none-any.whl (144 kB)\n",
      "Downloading watchdog-6.0.0-cp311-cp311-macosx_11_0_arm64.whl (89 kB)\n",
      "Downloading cffi-1.17.1-cp311-cp311-macosx_11_0_arm64.whl (178 kB)\n",
      "Using cached charset_normalizer-3.4.2-cp311-cp311-macosx_10_9_universal2.whl (198 kB)\n",
      "Using cached griffe-1.7.3-py3-none-any.whl (129 kB)\n",
      "Using cached idna-3.10-py3-none-any.whl (70 kB)\n",
      "Downloading jsonschema_spec-0.1.3-py3-none-any.whl (12 kB)\n",
      "Downloading lazy_object_proxy-1.11.0-cp311-cp311-macosx_11_0_arm64.whl (28 kB)\n",
      "Using cached openapi_schema_validator-0.3.4-py3-none-any.whl (9.8 kB)\n",
      "Downloading pathable-0.4.4-py3-none-any.whl (9.6 kB)\n",
      "Downloading isodate-0.7.2-py3-none-any.whl (22 kB)\n",
      "Downloading more_itertools-10.7.0-py3-none-any.whl (65 kB)\n",
      "Downloading parse-1.20.2-py2.py3-none-any.whl (20 kB)\n",
      "Downloading werkzeug-3.1.3-py3-none-any.whl (224 kB)\n",
      "Using cached pycparser-2.22-py3-none-any.whl (117 kB)\n",
      "Building wheels for collected packages: dapi\n",
      "  Building editable for dapi (pyproject.toml) ... \u001b[?25ldone\n",
      "\u001b[?25h  Created wheel for dapi: filename=dapi-1.0.0-py3-none-any.whl size=3956 sha256=0efcd1ce2cee5995ab44bf81aaaa71ef4259006d40cbc9ea24d547ab0a2f25e9\n",
      "  Stored in directory: /private/var/folders/6k/lmrc2s553fq0vn7c57__f37r0000gn/T/pip-ephem-wheel-cache-ifi7apzu/wheels/25/ae/22/58a8882864c6c6d809db0560400b6efe27cce7a4c875a32c86\n",
      "Successfully built dapi\n",
      "Installing collected packages: pytz, parse, paginate, watchdog, urllib3, tzdata, tqdm, sqlalchemy, rpds-py, regex, pyyaml, python-dotenv, pymysql, PyJWT, pycparser, pathspec, pathable, numpy, more-itertools, mkdocs-material-extensions, mergedeep, markupsafe, markdown, lazy-object-proxy, isodate, idna, exceptiongroup, colorama, cloudpickle, click, charset-normalizer, certifi, babel, attrs, atomicwrites, werkzeug, requests, referencing, pyyaml-env-tag, pymdown-extensions, pandas, jinja2, griffe, ghp-import, cffi, mkdocs, jsonschema-specifications, cryptography, mkdocs-material, mkdocs-autorefs, jsonschema, openapi-schema-validator, mkdocstrings, jsonschema-spec, openapi_spec_validator, mkdocstrings-python, openapi_core, tapipy, dapi\n",
      "Successfully installed PyJWT-2.10.1 atomicwrites-1.4.1 attrs-25.3.0 babel-2.17.0 certifi-2025.4.26 cffi-1.17.1 charset-normalizer-3.4.2 click-8.2.1 cloudpickle-3.1.1 colorama-0.4.6 cryptography-45.0.3 dapi-1.0.0 exceptiongroup-1.3.0 ghp-import-2.1.0 griffe-1.7.3 idna-3.10 isodate-0.7.2 jinja2-3.1.6 jsonschema-4.24.0 jsonschema-spec-0.1.3 jsonschema-specifications-2025.4.1 lazy-object-proxy-1.11.0 markdown-3.5.2 markupsafe-3.0.2 mergedeep-1.3.4 mkdocs-1.5.3 mkdocs-autorefs-1.4.2 mkdocs-material-9.4.14 mkdocs-material-extensions-1.3.1 mkdocstrings-0.23.0 mkdocstrings-python-1.9.1 more-itertools-10.7.0 numpy-2.2.6 openapi-schema-validator-0.3.4 openapi_core-0.16.0 openapi_spec_validator-0.5.4 paginate-0.5.7 pandas-2.3.0 parse-1.20.2 pathable-0.4.4 pathspec-0.12.1 pycparser-2.22 pymdown-extensions-10.7.1 pymysql-1.1.1 python-dotenv-1.1.0 pytz-2025.2 pyyaml-6.0.2 pyyaml-env-tag-1.1 referencing-0.36.2 regex-2024.11.6 requests-2.32.3 rpds-py-0.25.1 sqlalchemy-2.0.41 tapipy-1.8.4 tqdm-4.67.1 tzdata-2025.2 urllib3-1.26.20 watchdog-6.0.0 werkzeug-3.1.3\n",
      "\n",
      "\u001b[1m[\u001b[0m\u001b[34;49mnotice\u001b[0m\u001b[1;39;49m]\u001b[0m\u001b[39;49m A new release of pip is available: \u001b[0m\u001b[31;49m25.0.1\u001b[0m\u001b[39;49m -> \u001b[0m\u001b[32;49m25.1.1\u001b[0m\n",
      "\u001b[1m[\u001b[0m\u001b[34;49mnotice\u001b[0m\u001b[1;39;49m]\u001b[0m\u001b[39;49m To update, run: \u001b[0m\u001b[32;49mpip install --upgrade pip\u001b[0m\n"
     ]
    }
   ],
   "source": [
    "# Dapi installation\n",
    "!pip uninstall dapi --yes\n",
    "\n",
    "# Upgrade dapi dependencies to avoid conflicts\n",
    "# !python -m pip install --upgrade numpy\n",
    "\n",
    "# Install the latest development version of dapi from GitHub\n",
    "# !pip install git+https://github.com/DesignSafe-CI/dapi.git@dev --user --quiet\n",
    "\n",
    "# Install editable local version of dapi\n",
    "!pip install -e ../"
   ]
  },
  {
   "cell_type": "code",
   "execution_count": 2,
   "id": "35fca324-ee48-41c8-84a1-78ad7b03aae8",
   "metadata": {},
   "outputs": [],
   "source": [
    "# Import required modules\n",
    "from dapi import DSClient\n",
    "import json"
   ]
  },
  {
   "cell_type": "code",
   "execution_count": 3,
   "id": "58b62f77-23b6-4355-91f1-b680ae6d6cdf",
   "metadata": {},
   "outputs": [
    {
     "name": "stdout",
     "output_type": "stream",
     "text": [
      "Authentication successful.\n",
      "DatabaseAccessor initialized. Connections will be created on first access.\n"
     ]
    }
   ],
   "source": [
    "# Initialize DesignSafe client\n",
    "ds = DSClient()"
   ]
  },
  {
   "cell_type": "code",
   "execution_count": 5,
   "id": "feee3ce0",
   "metadata": {},
   "outputs": [],
   "source": [
    "# Job configuration parameters\n",
    "ds_path: str = \"/MyData/mpm-benchmarks/2d/uniaxial_stress/\"  # Path to input files\n",
    "input_filename: str = \"mpm.json\"  # Main input script filename\n",
    "max_job_minutes: int = 10  # Maximum runtime in minutes\n",
    "tacc_allocation: str = \"ASC25049\"  # TACC allocation to charge\n",
    "app_id_to_use = \"mpm-s3\"  # MPM application ID"
   ]
  },
  {
   "cell_type": "code",
   "execution_count": 6,
   "id": "3f0ee687",
   "metadata": {},
   "outputs": [
    {
     "name": "stdout",
     "output_type": "stream",
     "text": [
      "Translated '/MyData/mpm-benchmarks/2d/uniaxial_stress/' to 'tapis://designsafe.storage.default/kks32/mpm-benchmarks/2d/uniaxial_stress/' using t.username\n",
      "Input Directory Tapis URI: tapis://designsafe.storage.default/kks32/mpm-benchmarks/2d/uniaxial_stress/\n"
     ]
    }
   ],
   "source": [
    "# Convert DesignSafe path to Tapis URI format\n",
    "input_uri = ds.files.translate_path_to_uri(ds_path)\n",
    "print(f\"Input Directory Tapis URI: {input_uri}\")"
   ]
  },
  {
   "cell_type": "code",
   "execution_count": 7,
   "id": "6257d31a",
   "metadata": {},
   "outputs": [
    {
     "name": "stdout",
     "output_type": "stream",
     "text": [
      "Generating job request for app 'mpm-s3'...\n",
      "Using App Details: mpm-s3 v1.0\n",
      "Placing script 'mpm.json' in appArgs: 'Input Script'\n",
      "Adding allocation: ASC25049\n",
      "Job request dictionary generated successfully.\n",
      "{\n",
      "  \"name\": \"mpm-s3-20250605_141247\",\n",
      "  \"appId\": \"mpm-s3\",\n",
      "  \"appVersion\": \"1.0\",\n",
      "  \"description\": \"Material Point Method (MPM) is a particle based method that represents the material as a collection of material points, and their deformations are determined by Newton\\u2019s laws of motion.\",\n",
      "  \"execSystemId\": \"stampede3\",\n",
      "  \"archiveSystemId\": \"stampede3\",\n",
      "  \"archiveOnAppError\": true,\n",
      "  \"execSystemLogicalQueue\": \"skx-dev\",\n",
      "  \"nodeCount\": 1,\n",
      "  \"coresPerNode\": 48,\n",
      "  \"maxMinutes\": 10,\n",
      "  \"memoryMB\": 192000,\n",
      "  \"isMpi\": false,\n",
      "  \"tags\": [],\n",
      "  \"fileInputs\": [\n",
      "    {\n",
      "      \"name\": \"Input Directory\",\n",
      "      \"sourceUrl\": \"tapis://designsafe.storage.default/kks32/mpm-benchmarks/2d/uniaxial_stress/\",\n",
      "      \"autoMountLocal\": true,\n",
      "      \"targetPath\": \"inputDirectory\"\n",
      "    }\n",
      "  ],\n",
      "  \"parameterSet\": {\n",
      "    \"appArgs\": [\n",
      "      {\n",
      "        \"name\": \"Input Script\",\n",
      "        \"arg\": \"mpm.json\"\n",
      "      }\n",
      "    ],\n",
      "    \"schedulerOptions\": [\n",
      "      {\n",
      "        \"name\": \"TACC Allocation\",\n",
      "        \"arg\": \"-A ASC25049\"\n",
      "      }\n",
      "    ]\n",
      "  }\n",
      "}\n"
     ]
    }
   ],
   "source": [
    "# Generate job request dictionary using app defaults\n",
    "job_dict = ds.jobs.generate_request(\n",
    "    app_id=app_id_to_use,\n",
    "    input_dir_uri=input_uri,\n",
    "    script_filename=input_filename,\n",
    "    max_minutes=max_job_minutes,\n",
    "    allocation=tacc_allocation,\n",
    ")\n",
    "print(json.dumps(job_dict, indent=2, default=str))"
   ]
  },
  {
   "cell_type": "code",
   "execution_count": 8,
   "id": "5a17eee7",
   "metadata": {},
   "outputs": [
    {
     "name": "stdout",
     "output_type": "stream",
     "text": [
      "{\n",
      "  \"name\": \"mpm-s3-20250605_141247\",\n",
      "  \"appId\": \"mpm-s3\",\n",
      "  \"appVersion\": \"1.0\",\n",
      "  \"description\": \"Material Point Method (MPM) is a particle based method that represents the material as a collection of material points, and their deformations are determined by Newton\\u2019s laws of motion.\",\n",
      "  \"execSystemId\": \"stampede3\",\n",
      "  \"archiveSystemId\": \"stampede3\",\n",
      "  \"archiveOnAppError\": true,\n",
      "  \"execSystemLogicalQueue\": \"skx-dev\",\n",
      "  \"nodeCount\": 1,\n",
      "  \"coresPerNode\": 1,\n",
      "  \"maxMinutes\": 10,\n",
      "  \"memoryMB\": 192000,\n",
      "  \"isMpi\": false,\n",
      "  \"tags\": [],\n",
      "  \"fileInputs\": [\n",
      "    {\n",
      "      \"name\": \"Input Directory\",\n",
      "      \"sourceUrl\": \"tapis://designsafe.storage.default/kks32/mpm-benchmarks/2d/uniaxial_stress/\",\n",
      "      \"autoMountLocal\": true,\n",
      "      \"targetPath\": \"inputDirectory\"\n",
      "    }\n",
      "  ],\n",
      "  \"parameterSet\": {\n",
      "    \"appArgs\": [\n",
      "      {\n",
      "        \"name\": \"Input Script\",\n",
      "        \"arg\": \"mpm.json\"\n",
      "      }\n",
      "    ],\n",
      "    \"schedulerOptions\": [\n",
      "      {\n",
      "        \"name\": \"TACC Allocation\",\n",
      "        \"arg\": \"-A ASC25049\"\n",
      "      }\n",
      "    ]\n",
      "  }\n",
      "}\n"
     ]
    }
   ],
   "source": [
    "# Customize job settings (optional)\n",
    "job_dict[\"nodeCount\"] = 1  # Use single node\n",
    "job_dict[\"coresPerNode\"] = 1  # Use single core\n",
    "print(json.dumps(job_dict, indent=2, default=str))"
   ]
  },
  {
   "cell_type": "code",
   "execution_count": 9,
   "id": "8e04a5ef",
   "metadata": {},
   "outputs": [
    {
     "name": "stdout",
     "output_type": "stream",
     "text": [
      "\n",
      "--- Submitting Tapis Job Request ---\n",
      "{\n",
      "  \"name\": \"mpm-s3-20250605_141247\",\n",
      "  \"appId\": \"mpm-s3\",\n",
      "  \"appVersion\": \"1.0\",\n",
      "  \"description\": \"Material Point Method (MPM) is a particle based method that represents the material as a collection of material points, and their deformations are determined by Newton\\u2019s laws of motion.\",\n",
      "  \"execSystemId\": \"stampede3\",\n",
      "  \"archiveSystemId\": \"stampede3\",\n",
      "  \"archiveOnAppError\": true,\n",
      "  \"execSystemLogicalQueue\": \"skx-dev\",\n",
      "  \"nodeCount\": 1,\n",
      "  \"coresPerNode\": 1,\n",
      "  \"maxMinutes\": 10,\n",
      "  \"memoryMB\": 192000,\n",
      "  \"isMpi\": false,\n",
      "  \"tags\": [],\n",
      "  \"fileInputs\": [\n",
      "    {\n",
      "      \"name\": \"Input Directory\",\n",
      "      \"sourceUrl\": \"tapis://designsafe.storage.default/kks32/mpm-benchmarks/2d/uniaxial_stress/\",\n",
      "      \"autoMountLocal\": true,\n",
      "      \"targetPath\": \"inputDirectory\"\n",
      "    }\n",
      "  ],\n",
      "  \"parameterSet\": {\n",
      "    \"appArgs\": [\n",
      "      {\n",
      "        \"name\": \"Input Script\",\n",
      "        \"arg\": \"mpm.json\"\n",
      "      }\n",
      "    ],\n",
      "    \"schedulerOptions\": [\n",
      "      {\n",
      "        \"name\": \"TACC Allocation\",\n",
      "        \"arg\": \"-A ASC25049\"\n",
      "      }\n",
      "    ]\n",
      "  }\n",
      "}\n",
      "------------------------------------\n",
      "Job submitted successfully. UUID: 66778a7f-ac75-486d-91ee-acf82ffe8abe-007\n",
      "Job UUID: 66778a7f-ac75-486d-91ee-acf82ffe8abe-007\n"
     ]
    }
   ],
   "source": [
    "# Submit the job to TACC\n",
    "submitted_job = ds.jobs.submit_request(job_dict)\n",
    "print(f\"Job UUID: {submitted_job.uuid}\")"
   ]
  },
  {
   "cell_type": "code",
   "execution_count": 10,
   "id": "cd6089f0",
   "metadata": {},
   "outputs": [
    {
     "name": "stdout",
     "output_type": "stream",
     "text": [
      "\n",
      "Monitoring Job: 66778a7f-ac75-486d-91ee-acf82ffe8abe-007\n"
     ]
    },
    {
     "name": "stderr",
     "output_type": "stream",
     "text": [
      "Monitoring job:   0%|                                                   | 0/40 [00:00<?, ? checks/s]"
     ]
    },
    {
     "name": "stdout",
     "output_type": "stream",
     "text": [
      "\tStatus: RUNNING\n"
     ]
    },
    {
     "name": "stderr",
     "output_type": "stream",
     "text": [
      "Monitoring job (Status: ARCHIVING):   5%|█▏                     | 2/40 [00:15<04:47,  7.55s/ checks]"
     ]
    },
    {
     "name": "stdout",
     "output_type": "stream",
     "text": [
      "\tStatus: ARCHIVING\n"
     ]
    },
    {
     "name": "stderr",
     "output_type": "stream",
     "text": [
      "Monitoring job (Status: ARCHIVING): 100%|██████████████████████| 40/40 [00:45<00:00,  1.13s/ checks]"
     ]
    },
    {
     "name": "stdout",
     "output_type": "stream",
     "text": [
      "\tStatus: FINISHED\n",
      "Job 66778a7f-ac75-486d-91ee-acf82ffe8abe-007 finished with status: FINISHED\n"
     ]
    },
    {
     "name": "stderr",
     "output_type": "stream",
     "text": [
      "\n"
     ]
    }
   ],
   "source": [
    "# Monitor job execution until completion\n",
    "final_status = submitted_job.monitor(interval=15)  # Check every 15 seconds\n",
    "print(f\"Job {submitted_job.uuid} finished with status: {final_status}\")"
   ]
  },
  {
   "cell_type": "code",
   "execution_count": 11,
   "id": "4a6daeec",
   "metadata": {},
   "outputs": [
    {
     "name": "stdout",
     "output_type": "stream",
     "text": [
      "Job 66778a7f-ac75-486d-91ee-acf82ffe8abe-007 completed successfully.\n"
     ]
    }
   ],
   "source": [
    "# Interpret and display job outcome\n",
    "ds.jobs.interpret_status(final_status, submitted_job.uuid)"
   ]
  },
  {
   "cell_type": "code",
   "execution_count": 12,
   "id": "1b2b45f5",
   "metadata": {},
   "outputs": [
    {
     "name": "stdout",
     "output_type": "stream",
     "text": [
      "\n",
      "Runtime Summary\n",
      "---------------\n",
      "QUEUED  time: 00:00:01\n",
      "RUNNING time: 00:00:24\n",
      "TOTAL   time: 00:02:19\n",
      "---------------\n"
     ]
    }
   ],
   "source": [
    "# Display job runtime summary\n",
    "submitted_job.print_runtime_summary(verbose=False)"
   ]
  },
  {
   "cell_type": "code",
   "execution_count": 13,
   "id": "6437373b",
   "metadata": {},
   "outputs": [
    {
     "name": "stdout",
     "output_type": "stream",
     "text": [
      "Current status: FINISHED\n"
     ]
    }
   ],
   "source": [
    "# Get current job status\n",
    "current_status = ds.jobs.get_status(submitted_job.uuid)\n",
    "print(f\"Current status: {current_status}\")"
   ]
  },
  {
   "cell_type": "code",
   "execution_count": 14,
   "id": "a722b7c8",
   "metadata": {},
   "outputs": [
    {
     "name": "stdout",
     "output_type": "stream",
     "text": [
      "Last message: Setting job status to FINISHED.\n"
     ]
    }
   ],
   "source": [
    "# Display last status message from TACC\n",
    "print(f\"Last message: {submitted_job.last_message}\")"
   ]
  },
  {
   "cell_type": "code",
   "execution_count": 15,
   "id": "3d39ee5f",
   "metadata": {},
   "outputs": [
    {
     "name": "stdout",
     "output_type": "stream",
     "text": [
      "Attempting to fetch content of 'tapisjob.out' from job archive...\n",
      "Returning last 50 lines of 'tapisjob.out'.\n",
      "Job output:\n",
      "TACC:  Starting parallel tasks... \n",
      "[2025-06-05 14:14:37.135] [main] [info] git revision: 18f353fee2ac6735e4f53c9498e7976746b04055\n",
      "[2025-06-05 14:14:37.160] [MPMBase] [warning] /work2/05873/kks32/stampede3/mpm/include/solvers/mpm_base.tcc #71: Velocity update parameter is not specified, using default as false\n",
      "[2025-06-05 14:14:37.160] [MPMBase] [warning] /work2/05873/kks32/stampede3/mpm/include/solvers/mpm_base.tcc #94: No math functions are defined\n",
      "[2025-06-05 14:14:37.160] [MPMBase] [warning] /work2/05873/kks32/stampede3/mpm/include/solvers/mpm_base.tcc #135: No VTK variables were specified, none will be generated\n",
      "[2025-06-05 14:14:37.160] [MPMBase] [warning] /work2/05873/kks32/stampede3/mpm/include/solvers/mpm_base.tcc #166: No VTK statevariable were specified, none will be generated\n",
      "[2025-06-05 14:14:37.160] [MPMExplicit] [info] MPM analysis type MPMExplicit2D\n",
      "[2025-06-05 14:14:37.160] [MPMExplicit] [warning] /work2/05873/kks32/stampede3/mpm/include/solvers/mpm_base.tcc #193: Check duplicates, not specified setting default as true\n",
      "[2025-06-05 14:14:37.162] [MPMExplicit] [info] Rank 0 Read nodes: 1 ms\n",
      "[2025-06-05 14:14:37.164] [MPMExplicit] [warning] #831: Euler angles are undefined Euler angles JSON not found \n",
      "[2025-06-05 14:14:37.164] [MPMExplicit] [warning] #935: Friction conditions are undefined Friction constraints JSON not found \n",
      "[2025-06-05 14:14:37.166] [MPMExplicit] [warning] #960: Cell entity sets are undefined Cell sets are not properly assigned \n",
      "[2025-06-05 14:14:37.166] [MPMExplicit] [info] Rank 0 Read cells: 1 ms\n",
      "[2025-06-05 14:14:37.167] [MPMExplicit] [info] Rank 0 Generate particles: 1 ms\n",
      "[2025-06-05 14:14:37.167] [MPMExplicit] [warning] #987: Particle cells are undefined Particle cells JSON not found \n",
      "[2025-06-05 14:14:37.181] [MPMExplicit] [info] Rank 0 Locate particles: 13 ms\n",
      "[2025-06-05 14:14:37.181] [MPMExplicit] [warning] #1012: Particle volumes are undefined Particle volumes JSON not found \n",
      "[2025-06-05 14:14:37.181] [MPMExplicit] [warning] #1082: Particle stresses are undefined Particle stresses JSON not found \n",
      "[2025-06-05 14:14:37.181] [MPMExplicit] [info] Rank 0 Read volume, velocity and stresses: 0 ms\n",
      "[2025-06-05 14:14:37.183] [MPMExplicit] [warning] #1109: Particle sets are undefined Particle set creation failed \n",
      "[2025-06-05 14:14:37.183] [MPMExplicit] [warning] #1053: Particle velocity constraints are undefined Particle velocity constraints JSON not found \n",
      "[2025-06-05 14:14:37.183] [MPMExplicit] [info] Rank 0 Create particle sets: 0 ms\n",
      "[2025-06-05 14:14:37.183] [MPMExplicit] [warning] /work2/05873/kks32/stampede3/mpm/include/solvers/mpm_base.tcc #388: Material sets are not specified\n",
      "[2025-06-05 14:14:37.183] [MPMExplicit] [warning] No particle surface traction is defined for the analysis\n",
      "[2025-06-05 14:14:37.183] [MPMExplicit] [warning] No concentrated nodal force is defined for the analysis\n",
      "[2025-06-05 14:14:37.183] [MPMExplicit] [info] Step: 0 of 10.\n",
      "\n",
      "[2025-06-05 14:14:37.280] [MPMExplicit] [info] Step: 1 of 10.\n",
      "\n",
      "[2025-06-05 14:14:37.301] [MPMExplicit] [info] Step: 2 of 10.\n",
      "\n",
      "[2025-06-05 14:14:37.323] [MPMExplicit] [info] Step: 3 of 10.\n",
      "\n",
      "[2025-06-05 14:14:37.346] [MPMExplicit] [info] Step: 4 of 10.\n",
      "\n",
      "[2025-06-05 14:14:37.367] [MPMExplicit] [info] Step: 5 of 10.\n",
      "\n",
      "[2025-06-05 14:14:37.389] [MPMExplicit] [info] Step: 6 of 10.\n",
      "\n",
      "[2025-06-05 14:14:37.409] [MPMExplicit] [info] Step: 7 of 10.\n",
      "\n",
      "[2025-06-05 14:14:37.427] [MPMExplicit] [info] Step: 8 of 10.\n",
      "\n",
      "[2025-06-05 14:14:37.447] [MPMExplicit] [info] Step: 9 of 10.\n",
      "\n",
      "[2025-06-05 14:14:37.469] [MPMExplicit] [info] Rank 0, Explicit USF solver duration: 285 ms\n",
      "TACC:  Shutdown complete. Exiting. \n",
      "+++ date\n",
      "++ echo 'Job  execution finished at: Thu Jun  5 02:14:37 PM CDT 2025'\n",
      "Job  execution finished at: Thu Jun  5 02:14:37 PM CDT 2025\n"
     ]
    }
   ],
   "source": [
    "# Display job output from stdout\n",
    "stdout_content = submitted_job.get_output_content(\"tapisjob.out\", max_lines=50)\n",
    "if stdout_content:\n",
    "    print(\"Job output:\")\n",
    "    print(stdout_content)"
   ]
  },
  {
   "cell_type": "code",
   "execution_count": 16,
   "id": "2fe8ac5f",
   "metadata": {},
   "outputs": [
    {
     "name": "stdout",
     "output_type": "stream",
     "text": [
      "Archive URI: tapis://stampede3/work2/05873/kks32/stampede3/tapis-jobs-archive/2025-06-05Z/mpm-s3-20250605_141247-66778a7f-ac75-486d-91ee-acf82ffe8abe-007\n",
      "Listing files in system 'stampede3' at path 'work2/05873/kks32/stampede3/tapis-jobs-archive/2025-06-05Z/mpm-s3-20250605_141247-66778a7f-ac75-486d-91ee-acf82ffe8abe-007'...\n",
      "Found 5 items.\n",
      "- inputDirectory (dir)\n",
      "- tapisjob.env (file)\n",
      "- tapisjob.out (file)\n",
      "- tapisjob.sh (file)\n",
      "- tapisjob_app.sh (file)\n"
     ]
    }
   ],
   "source": [
    "# List contents of job archive directory\n",
    "archive_uri = submitted_job.archive_uri\n",
    "print(f\"Archive URI: {archive_uri}\")\n",
    "outputs = ds.files.list(archive_uri)\n",
    "for item in outputs:\n",
    "    print(f\"- {item.name} ({item.type})\")"
   ]
  }
 ],
 "metadata": {
  "IMAGE_NAME": "taccsciapps/ds-nb-img:base-0.2.1",
  "UUID": "ad99fe82-d690-11ec-8bc3-165d4cd45074",
  "kernelspec": {
   "display_name": "env",
   "language": "python",
   "name": "python3"
  },
  "language_info": {
   "codemirror_mode": {
    "name": "ipython",
    "version": 3
   },
   "file_extension": ".py",
   "mimetype": "text/x-python",
   "name": "python",
   "nbconvert_exporter": "python",
   "pygments_lexer": "ipython3",
   "version": "3.11.12"
  }
 },
 "nbformat": 4,
 "nbformat_minor": 5
}
