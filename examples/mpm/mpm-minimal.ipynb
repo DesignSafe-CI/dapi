{
 "cells": [
  {
   "cell_type": "markdown",
   "id": "4efabb5e",
   "metadata": {},
   "source": [
    "# Templatized notebook for running CB-Geo MPM TAPIS job"
   ]
  },
  {
   "cell_type": "markdown",
   "id": "abe5d8a3-32da-4233-b605-9fd51d053ec1",
   "metadata": {},
   "source": [
    "## Install DesignSafe API (dapi)"
   ]
  },
  {
   "cell_type": "code",
   "execution_count": null,
   "id": "8ed2d128",
   "metadata": {},
   "outputs": [],
   "source": [
    "!pip install --user --ignore-installed dapi==0.4.2 --quiet"
   ]
  },
  {
   "cell_type": "code",
   "execution_count": null,
   "id": "64e3f3a3",
   "metadata": {},
   "outputs": [],
   "source": [
    "import sys, os\n",
    "\n",
    "print(\n",
    "    \"Old NumPy 1.24 installed!\"\n",
    "    if sys.version_info < (3, 10)\n",
    "    and os.system(\"pip install --user --force-reinstall numpy~=1.24.0 --quiet\") == 0\n",
    "    else \"Skipped (Python 3.10+)\"\n",
    "    if sys.version_info >= (3, 10)\n",
    "    else \"Install failed!\"\n",
    ")"
   ]
  },
  {
   "cell_type": "markdown",
   "id": "b9fe1a7a",
   "metadata": {},
   "source": [
    "### ⚠️ Please restart the kernel by choosing Kernel >> Restart kernel ⚠️"
   ]
  },
  {
   "cell_type": "code",
   "execution_count": null,
   "id": "58391f6c",
   "metadata": {},
   "outputs": [],
   "source": [
    "import numpy as np\n",
    "\n",
    "print(np.__version__)"
   ]
  },
  {
   "cell_type": "code",
   "execution_count": 1,
   "id": "35fca324-ee48-41c8-84a1-78ad7b03aae8",
   "metadata": {},
   "outputs": [
    {
     "name": "stderr",
     "output_type": "stream",
     "text": [
      "/Users/krishna/dev/DesignSafe/dapi/env/lib/python3.9/site-packages/tqdm/auto.py:21: TqdmWarning: IProgress not found. Please update jupyter and ipywidgets. See https://ipywidgets.readthedocs.io/en/stable/user_install.html\n",
      "  from .autonotebook import tqdm as notebook_tqdm\n"
     ]
    }
   ],
   "source": [
    "# Import required modules\n",
    "from dapi import DSClient\n",
    "import json"
   ]
  },
  {
   "cell_type": "code",
   "execution_count": 2,
   "id": "58b62f77-23b6-4355-91f1-b680ae6d6cdf",
   "metadata": {},
   "outputs": [
    {
     "name": "stdout",
     "output_type": "stream",
     "text": [
      "Authentication successful.\n",
      "DatabaseAccessor initialized. Connections will be created on first access.\n"
     ]
    }
   ],
   "source": [
    "# Initialize DesignSafe client\n",
    "ds = DSClient()"
   ]
  },
  {
   "cell_type": "markdown",
   "id": "81678a61",
   "metadata": {},
   "source": [
    "### Get MPM Benchmark directory"
   ]
  },
  {
   "cell_type": "code",
   "execution_count": null,
   "id": "29172af2",
   "metadata": {},
   "outputs": [],
   "source": [
    "![ ! -d ~/MyData/mpm-benchmarks-develop ] && wget https://github.com/cb-geo/mpm-benchmarks/archive/refs/heads/develop.zip -P ~/MyData/ && cd ~/MyData/ && unzip develop.zip && rm develop.zip"
   ]
  },
  {
   "cell_type": "markdown",
   "id": "e4ac6312",
   "metadata": {},
   "source": [
    "### MPM Job configuration"
   ]
  },
  {
   "cell_type": "code",
   "execution_count": 3,
   "id": "feee3ce0",
   "metadata": {},
   "outputs": [],
   "source": [
    "# Job configuration parameters\n",
    "ds_path: str = \"/MyData/mpm-benchmarks/2d/uniaxial_stress/\"  # Path to input files\n",
    "input_filename: str = \"mpm.json\"  # Main input script filename\n",
    "max_job_minutes: int = 10  # Maximum runtime in minutes\n",
    "tacc_allocation: str = \"ASC25049\"  # TACC allocation to charge\n",
    "app_id_to_use = \"mpm-s3\"  # MPM application ID"
   ]
  },
  {
   "cell_type": "code",
   "execution_count": 4,
   "id": "3f0ee687",
   "metadata": {},
   "outputs": [
    {
     "name": "stdout",
     "output_type": "stream",
     "text": [
      "Translated '/MyData/mpm-benchmarks/2d/uniaxial_stress/' to 'tapis://designsafe.storage.default/kks32/mpm-benchmarks/2d/uniaxial_stress/' using t.username\n",
      "Input Directory Tapis URI: tapis://designsafe.storage.default/kks32/mpm-benchmarks/2d/uniaxial_stress/\n"
     ]
    }
   ],
   "source": [
    "# Convert DesignSafe path to Tapis URI format\n",
    "input_uri = ds.files.translate_path_to_uri(ds_path)\n",
    "print(f\"Input Directory Tapis URI: {input_uri}\")"
   ]
  },
  {
   "cell_type": "code",
   "execution_count": 5,
   "id": "6257d31a",
   "metadata": {},
   "outputs": [
    {
     "name": "stdout",
     "output_type": "stream",
     "text": [
      "Generating job request for app 'mpm-s3'...\n",
      "Using App Details: mpm-s3 v1.0\n",
      "Found exact match for input parameter: 'Input Directory'\n",
      "Placing script 'mpm.json' in appArgs: 'Input Script'\n",
      "Adding/Updating TACC allocation: ASC25049\n",
      "Job request dictionary generated successfully.\n",
      "{\n",
      "  \"name\": \"mpm-s3-20250609_214141\",\n",
      "  \"appId\": \"mpm-s3\",\n",
      "  \"appVersion\": \"1.0\",\n",
      "  \"description\": \"Material Point Method (MPM) is a particle based method that represents the material as a collection of material points, and their deformations are determined by Newton\\u2019s laws of motion.\",\n",
      "  \"execSystemId\": \"stampede3\",\n",
      "  \"archiveSystemId\": \"stampede3\",\n",
      "  \"archiveSystemDir\": \"HOST_EVAL($WORK)/tapis-jobs-archive/${JobCreateDate}/${JobName}-${JobUUID}\",\n",
      "  \"archiveOnAppError\": true,\n",
      "  \"execSystemLogicalQueue\": \"skx-dev\",\n",
      "  \"nodeCount\": 1,\n",
      "  \"coresPerNode\": 48,\n",
      "  \"maxMinutes\": 10,\n",
      "  \"memoryMB\": 192000,\n",
      "  \"isMpi\": false,\n",
      "  \"tags\": [],\n",
      "  \"fileInputs\": [\n",
      "    {\n",
      "      \"name\": \"Input Directory\",\n",
      "      \"sourceUrl\": \"tapis://designsafe.storage.default/kks32/mpm-benchmarks/2d/uniaxial_stress/\",\n",
      "      \"autoMountLocal\": true,\n",
      "      \"targetPath\": \"inputDirectory\"\n",
      "    }\n",
      "  ],\n",
      "  \"parameterSet\": {\n",
      "    \"appArgs\": [\n",
      "      {\n",
      "        \"name\": \"Input Script\",\n",
      "        \"arg\": \"mpm.json\"\n",
      "      }\n",
      "    ],\n",
      "    \"schedulerOptions\": [\n",
      "      {\n",
      "        \"name\": \"TACC Allocation\",\n",
      "        \"arg\": \"-A ASC25049\"\n",
      "      }\n",
      "    ]\n",
      "  }\n",
      "}\n"
     ]
    }
   ],
   "source": [
    "# Generate job request dictionary using app defaults\n",
    "job_dict = ds.jobs.generate_request(\n",
    "    app_id=app_id_to_use,\n",
    "    input_dir_uri=input_uri,\n",
    "    script_filename=input_filename,\n",
    "    max_minutes=max_job_minutes,\n",
    "    allocation=tacc_allocation,\n",
    ")\n",
    "print(json.dumps(job_dict, indent=2, default=str))"
   ]
  },
  {
   "cell_type": "code",
   "execution_count": 6,
   "id": "5a17eee7",
   "metadata": {},
   "outputs": [
    {
     "name": "stdout",
     "output_type": "stream",
     "text": [
      "{\n",
      "  \"name\": \"mpm-s3-20250609_214141\",\n",
      "  \"appId\": \"mpm-s3\",\n",
      "  \"appVersion\": \"1.0\",\n",
      "  \"description\": \"Material Point Method (MPM) is a particle based method that represents the material as a collection of material points, and their deformations are determined by Newton\\u2019s laws of motion.\",\n",
      "  \"execSystemId\": \"stampede3\",\n",
      "  \"archiveSystemId\": \"stampede3\",\n",
      "  \"archiveSystemDir\": \"HOST_EVAL($WORK)/tapis-jobs-archive/${JobCreateDate}/${JobName}-${JobUUID}\",\n",
      "  \"archiveOnAppError\": true,\n",
      "  \"execSystemLogicalQueue\": \"skx-dev\",\n",
      "  \"nodeCount\": 1,\n",
      "  \"coresPerNode\": 1,\n",
      "  \"maxMinutes\": 10,\n",
      "  \"memoryMB\": 192000,\n",
      "  \"isMpi\": false,\n",
      "  \"tags\": [],\n",
      "  \"fileInputs\": [\n",
      "    {\n",
      "      \"name\": \"Input Directory\",\n",
      "      \"sourceUrl\": \"tapis://designsafe.storage.default/kks32/mpm-benchmarks/2d/uniaxial_stress/\",\n",
      "      \"autoMountLocal\": true,\n",
      "      \"targetPath\": \"inputDirectory\"\n",
      "    }\n",
      "  ],\n",
      "  \"parameterSet\": {\n",
      "    \"appArgs\": [\n",
      "      {\n",
      "        \"name\": \"Input Script\",\n",
      "        \"arg\": \"mpm.json\"\n",
      "      }\n",
      "    ],\n",
      "    \"schedulerOptions\": [\n",
      "      {\n",
      "        \"name\": \"TACC Allocation\",\n",
      "        \"arg\": \"-A ASC25049\"\n",
      "      }\n",
      "    ]\n",
      "  }\n",
      "}\n"
     ]
    }
   ],
   "source": [
    "# Customize job settings (optional)\n",
    "job_dict[\"nodeCount\"] = 1  # Use single node\n",
    "job_dict[\"coresPerNode\"] = 1  # Use single core\n",
    "print(json.dumps(job_dict, indent=2, default=str))"
   ]
  },
  {
   "cell_type": "code",
   "execution_count": 7,
   "id": "8e04a5ef",
   "metadata": {},
   "outputs": [
    {
     "name": "stdout",
     "output_type": "stream",
     "text": [
      "\n",
      "--- Submitting Tapis Job Request ---\n",
      "{\n",
      "  \"name\": \"mpm-s3-20250609_214141\",\n",
      "  \"appId\": \"mpm-s3\",\n",
      "  \"appVersion\": \"1.0\",\n",
      "  \"description\": \"Material Point Method (MPM) is a particle based method that represents the material as a collection of material points, and their deformations are determined by Newton\\u2019s laws of motion.\",\n",
      "  \"execSystemId\": \"stampede3\",\n",
      "  \"archiveSystemId\": \"stampede3\",\n",
      "  \"archiveSystemDir\": \"HOST_EVAL($WORK)/tapis-jobs-archive/${JobCreateDate}/${JobName}-${JobUUID}\",\n",
      "  \"archiveOnAppError\": true,\n",
      "  \"execSystemLogicalQueue\": \"skx-dev\",\n",
      "  \"nodeCount\": 1,\n",
      "  \"coresPerNode\": 1,\n",
      "  \"maxMinutes\": 10,\n",
      "  \"memoryMB\": 192000,\n",
      "  \"isMpi\": false,\n",
      "  \"tags\": [],\n",
      "  \"fileInputs\": [\n",
      "    {\n",
      "      \"name\": \"Input Directory\",\n",
      "      \"sourceUrl\": \"tapis://designsafe.storage.default/kks32/mpm-benchmarks/2d/uniaxial_stress/\",\n",
      "      \"autoMountLocal\": true,\n",
      "      \"targetPath\": \"inputDirectory\"\n",
      "    }\n",
      "  ],\n",
      "  \"parameterSet\": {\n",
      "    \"appArgs\": [\n",
      "      {\n",
      "        \"name\": \"Input Script\",\n",
      "        \"arg\": \"mpm.json\"\n",
      "      }\n",
      "    ],\n",
      "    \"schedulerOptions\": [\n",
      "      {\n",
      "        \"name\": \"TACC Allocation\",\n",
      "        \"arg\": \"-A ASC25049\"\n",
      "      }\n",
      "    ]\n",
      "  }\n",
      "}\n",
      "------------------------------------\n",
      "Job submitted successfully. UUID: 96f1a204-b223-40dc-93ef-98e92046dba0-007\n",
      "Job UUID: 96f1a204-b223-40dc-93ef-98e92046dba0-007\n"
     ]
    }
   ],
   "source": [
    "# Submit the job to TACC\n",
    "submitted_job = ds.jobs.submit_request(job_dict)\n",
    "print(f\"Job UUID: {submitted_job.uuid}\")"
   ]
  },
  {
   "cell_type": "code",
   "execution_count": 8,
   "id": "cd6089f0",
   "metadata": {},
   "outputs": [
    {
     "name": "stdout",
     "output_type": "stream",
     "text": [
      "\n",
      "Monitoring Job: 96f1a204-b223-40dc-93ef-98e92046dba0-007\n"
     ]
    },
    {
     "name": "stderr",
     "output_type": "stream",
     "text": [
      "Monitoring job:   0%|          | 0/40 [00:00<?, ? checks/s]                       "
     ]
    },
    {
     "name": "stdout",
     "output_type": "stream",
     "text": [
      "\tStatus: RUNNING\n"
     ]
    },
    {
     "name": "stderr",
     "output_type": "stream",
     "text": [
      "Monitoring job (Status: ARCHIVING):   8%|▊         | 3/40 [00:31<06:47, 11.02s/ checks]"
     ]
    },
    {
     "name": "stdout",
     "output_type": "stream",
     "text": [
      "\tStatus: ARCHIVING\n"
     ]
    },
    {
     "name": "stderr",
     "output_type": "stream",
     "text": [
      "Monitoring job (Status: ARCHIVING): 100%|██████████| 40/40 [01:02<00:00,  1.55s/ checks]"
     ]
    },
    {
     "name": "stdout",
     "output_type": "stream",
     "text": [
      "\tStatus: FINISHED\n",
      "Job 96f1a204-b223-40dc-93ef-98e92046dba0-007 finished with status: FINISHED\n"
     ]
    },
    {
     "name": "stderr",
     "output_type": "stream",
     "text": [
      "\n"
     ]
    }
   ],
   "source": [
    "# Monitor job execution until completion\n",
    "final_status = submitted_job.monitor(interval=15)  # Check every 15 seconds\n",
    "print(f\"Job {submitted_job.uuid} finished with status: {final_status}\")"
   ]
  },
  {
   "cell_type": "code",
   "execution_count": 11,
   "id": "4a6daeec",
   "metadata": {},
   "outputs": [
    {
     "name": "stdout",
     "output_type": "stream",
     "text": [
      "Job 66778a7f-ac75-486d-91ee-acf82ffe8abe-007 completed successfully.\n"
     ]
    }
   ],
   "source": [
    "# Interpret and display job outcome\n",
    "ds.jobs.interpret_status(final_status, submitted_job.uuid)"
   ]
  },
  {
   "cell_type": "code",
   "execution_count": 12,
   "id": "1b2b45f5",
   "metadata": {},
   "outputs": [
    {
     "name": "stdout",
     "output_type": "stream",
     "text": [
      "\n",
      "Runtime Summary\n",
      "---------------\n",
      "QUEUED  time: 00:00:01\n",
      "RUNNING time: 00:00:24\n",
      "TOTAL   time: 00:02:19\n",
      "---------------\n"
     ]
    }
   ],
   "source": [
    "# Display job runtime summary\n",
    "submitted_job.print_runtime_summary(verbose=False)"
   ]
  },
  {
   "cell_type": "code",
   "execution_count": 13,
   "id": "6437373b",
   "metadata": {},
   "outputs": [
    {
     "name": "stdout",
     "output_type": "stream",
     "text": [
      "Current status: FINISHED\n"
     ]
    }
   ],
   "source": [
    "# Get current job status\n",
    "current_status = ds.jobs.get_status(submitted_job.uuid)\n",
    "print(f\"Current status: {current_status}\")"
   ]
  },
  {
   "cell_type": "code",
   "execution_count": 14,
   "id": "a722b7c8",
   "metadata": {},
   "outputs": [
    {
     "name": "stdout",
     "output_type": "stream",
     "text": [
      "Last message: Setting job status to FINISHED.\n"
     ]
    }
   ],
   "source": [
    "# Display last status message from TACC\n",
    "print(f\"Last message: {submitted_job.last_message}\")"
   ]
  },
  {
   "cell_type": "code",
   "execution_count": 15,
   "id": "3d39ee5f",
   "metadata": {},
   "outputs": [
    {
     "name": "stdout",
     "output_type": "stream",
     "text": [
      "Attempting to fetch content of 'tapisjob.out' from job archive...\n",
      "Returning last 50 lines of 'tapisjob.out'.\n",
      "Job output:\n",
      "TACC:  Starting parallel tasks... \n",
      "[2025-06-05 14:14:37.135] [main] [info] git revision: 18f353fee2ac6735e4f53c9498e7976746b04055\n",
      "[2025-06-05 14:14:37.160] [MPMBase] [warning] /work2/05873/kks32/stampede3/mpm/include/solvers/mpm_base.tcc #71: Velocity update parameter is not specified, using default as false\n",
      "[2025-06-05 14:14:37.160] [MPMBase] [warning] /work2/05873/kks32/stampede3/mpm/include/solvers/mpm_base.tcc #94: No math functions are defined\n",
      "[2025-06-05 14:14:37.160] [MPMBase] [warning] /work2/05873/kks32/stampede3/mpm/include/solvers/mpm_base.tcc #135: No VTK variables were specified, none will be generated\n",
      "[2025-06-05 14:14:37.160] [MPMBase] [warning] /work2/05873/kks32/stampede3/mpm/include/solvers/mpm_base.tcc #166: No VTK statevariable were specified, none will be generated\n",
      "[2025-06-05 14:14:37.160] [MPMExplicit] [info] MPM analysis type MPMExplicit2D\n",
      "[2025-06-05 14:14:37.160] [MPMExplicit] [warning] /work2/05873/kks32/stampede3/mpm/include/solvers/mpm_base.tcc #193: Check duplicates, not specified setting default as true\n",
      "[2025-06-05 14:14:37.162] [MPMExplicit] [info] Rank 0 Read nodes: 1 ms\n",
      "[2025-06-05 14:14:37.164] [MPMExplicit] [warning] #831: Euler angles are undefined Euler angles JSON not found \n",
      "[2025-06-05 14:14:37.164] [MPMExplicit] [warning] #935: Friction conditions are undefined Friction constraints JSON not found \n",
      "[2025-06-05 14:14:37.166] [MPMExplicit] [warning] #960: Cell entity sets are undefined Cell sets are not properly assigned \n",
      "[2025-06-05 14:14:37.166] [MPMExplicit] [info] Rank 0 Read cells: 1 ms\n",
      "[2025-06-05 14:14:37.167] [MPMExplicit] [info] Rank 0 Generate particles: 1 ms\n",
      "[2025-06-05 14:14:37.167] [MPMExplicit] [warning] #987: Particle cells are undefined Particle cells JSON not found \n",
      "[2025-06-05 14:14:37.181] [MPMExplicit] [info] Rank 0 Locate particles: 13 ms\n",
      "[2025-06-05 14:14:37.181] [MPMExplicit] [warning] #1012: Particle volumes are undefined Particle volumes JSON not found \n",
      "[2025-06-05 14:14:37.181] [MPMExplicit] [warning] #1082: Particle stresses are undefined Particle stresses JSON not found \n",
      "[2025-06-05 14:14:37.181] [MPMExplicit] [info] Rank 0 Read volume, velocity and stresses: 0 ms\n",
      "[2025-06-05 14:14:37.183] [MPMExplicit] [warning] #1109: Particle sets are undefined Particle set creation failed \n",
      "[2025-06-05 14:14:37.183] [MPMExplicit] [warning] #1053: Particle velocity constraints are undefined Particle velocity constraints JSON not found \n",
      "[2025-06-05 14:14:37.183] [MPMExplicit] [info] Rank 0 Create particle sets: 0 ms\n",
      "[2025-06-05 14:14:37.183] [MPMExplicit] [warning] /work2/05873/kks32/stampede3/mpm/include/solvers/mpm_base.tcc #388: Material sets are not specified\n",
      "[2025-06-05 14:14:37.183] [MPMExplicit] [warning] No particle surface traction is defined for the analysis\n",
      "[2025-06-05 14:14:37.183] [MPMExplicit] [warning] No concentrated nodal force is defined for the analysis\n",
      "[2025-06-05 14:14:37.183] [MPMExplicit] [info] Step: 0 of 10.\n",
      "\n",
      "[2025-06-05 14:14:37.280] [MPMExplicit] [info] Step: 1 of 10.\n",
      "\n",
      "[2025-06-05 14:14:37.301] [MPMExplicit] [info] Step: 2 of 10.\n",
      "\n",
      "[2025-06-05 14:14:37.323] [MPMExplicit] [info] Step: 3 of 10.\n",
      "\n",
      "[2025-06-05 14:14:37.346] [MPMExplicit] [info] Step: 4 of 10.\n",
      "\n",
      "[2025-06-05 14:14:37.367] [MPMExplicit] [info] Step: 5 of 10.\n",
      "\n",
      "[2025-06-05 14:14:37.389] [MPMExplicit] [info] Step: 6 of 10.\n",
      "\n",
      "[2025-06-05 14:14:37.409] [MPMExplicit] [info] Step: 7 of 10.\n",
      "\n",
      "[2025-06-05 14:14:37.427] [MPMExplicit] [info] Step: 8 of 10.\n",
      "\n",
      "[2025-06-05 14:14:37.447] [MPMExplicit] [info] Step: 9 of 10.\n",
      "\n",
      "[2025-06-05 14:14:37.469] [MPMExplicit] [info] Rank 0, Explicit USF solver duration: 285 ms\n",
      "TACC:  Shutdown complete. Exiting. \n",
      "+++ date\n",
      "++ echo 'Job  execution finished at: Thu Jun  5 02:14:37 PM CDT 2025'\n",
      "Job  execution finished at: Thu Jun  5 02:14:37 PM CDT 2025\n"
     ]
    }
   ],
   "source": [
    "# Display job output from stdout\n",
    "stdout_content = submitted_job.get_output_content(\"tapisjob.out\", max_lines=50)\n",
    "if stdout_content:\n",
    "    print(\"Job output:\")\n",
    "    print(stdout_content)"
   ]
  },
  {
   "cell_type": "code",
   "execution_count": 16,
   "id": "2fe8ac5f",
   "metadata": {},
   "outputs": [
    {
     "name": "stdout",
     "output_type": "stream",
     "text": [
      "Archive URI: tapis://stampede3/work2/05873/kks32/stampede3/tapis-jobs-archive/2025-06-05Z/mpm-s3-20250605_141247-66778a7f-ac75-486d-91ee-acf82ffe8abe-007\n",
      "Listing files in system 'stampede3' at path 'work2/05873/kks32/stampede3/tapis-jobs-archive/2025-06-05Z/mpm-s3-20250605_141247-66778a7f-ac75-486d-91ee-acf82ffe8abe-007'...\n",
      "Found 5 items.\n",
      "- inputDirectory (dir)\n",
      "- tapisjob.env (file)\n",
      "- tapisjob.out (file)\n",
      "- tapisjob.sh (file)\n",
      "- tapisjob_app.sh (file)\n"
     ]
    }
   ],
   "source": [
    "# List contents of job archive directory\n",
    "archive_uri = submitted_job.archive_uri\n",
    "print(f\"Archive URI: {archive_uri}\")\n",
    "outputs = ds.files.list(archive_uri)\n",
    "for item in outputs:\n",
    "    print(f\"- {item.name} ({item.type})\")"
   ]
  }
 ],
 "metadata": {
  "IMAGE_NAME": "taccsciapps/ds-nb-img:base-0.2.1",
  "UUID": "ad99fe82-d690-11ec-8bc3-165d4cd45074",
  "kernelspec": {
   "display_name": "env",
   "language": "python",
   "name": "python3"
  },
  "language_info": {
   "codemirror_mode": {
    "name": "ipython",
    "version": 3
   },
   "file_extension": ".py",
   "mimetype": "text/x-python",
   "name": "python",
   "nbconvert_exporter": "python",
   "pygments_lexer": "ipython3",
   "version": "3.9.23"
  }
 },
 "nbformat": 4,
 "nbformat_minor": 5
}
