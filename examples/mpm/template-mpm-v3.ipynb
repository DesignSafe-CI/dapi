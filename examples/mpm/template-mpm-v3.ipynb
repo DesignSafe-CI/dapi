{
 "cells": [
  {
   "cell_type": "markdown",
   "id": "4efabb5e",
   "metadata": {},
   "source": [
    "# Templatized notebook for running CB-Geo MPM TAPIS job"
   ]
  },
  {
   "cell_type": "markdown",
   "id": "abe5d8a3-32da-4233-b605-9fd51d053ec1",
   "metadata": {},
   "source": [
    "## Install DesignSafe API (dapi)"
   ]
  },
  {
   "cell_type": "code",
   "execution_count": 1,
   "id": "8479c1ee-d621-44bb-8d77-7d8f2fe72c27",
   "metadata": {},
   "outputs": [
    {
     "name": "stdout",
     "output_type": "stream",
     "text": [
      "Requirement already satisfied: setuptools in /home/kks32/.local/lib/python3.10/site-packages (75.1.0)\n"
     ]
    }
   ],
   "source": [
    "!pip install --user --upgrade setuptools\n",
    "!pip install --user --only-binary=:all: atomicwrites==1.4.0\n",
    "!pip install --user jsonschema<4.18.0\n",
    "!pip install git+https://github.com/DesignSafe-CI/dapi.git@tapisv3 --user"
   ]
  },
  {
   "cell_type": "markdown",
   "id": "dd802d14-8cb5-49e7-b43c-1c21ac253961",
   "metadata": {},
   "source": [
    "## Modify MPM Job parameters\n",
    "\n",
    "> Only change the cell below"
   ]
  },
  {
   "cell_type": "code",
   "execution_count": 6,
   "id": "8593c08c-c96a-4a66-9b52-80b8b5c27e44",
   "metadata": {
    "tags": [
     "parameters"
    ]
   },
   "outputs": [],
   "source": [
    "# Default parameters for the MPM template notebook\n",
    "path: str = \"/MyData/mpm-benchmarks/2d/uniaxial_stress/\"  # path to input file\n",
    "\n",
    "input_file: str = \"mpm.json\"  # input file.json\n",
    "\n",
    "duration: str = \"00:10:00\"  # Runtime duration ('HH:MM:SS')\n",
    "\n",
    "# The parameters modified in your job will be included in the cell below."
   ]
  },
  {
   "cell_type": "markdown",
   "id": "89d9596b-1c14-4d0c-a127-ee6c46da2671",
   "metadata": {},
   "source": [
    "## Imports"
   ]
  },
  {
   "cell_type": "code",
   "execution_count": 13,
   "id": "58d09a12-300a-4cd3-9722-b4de8e4cc8d2",
   "metadata": {},
   "outputs": [],
   "source": [
    "import os\n",
    "import dapi\n",
    "import json"
   ]
  },
  {
   "cell_type": "code",
   "execution_count": 14,
   "id": "fd5b809f-5bc5-4e49-9ae7-e5a4b44e70c3",
   "metadata": {},
   "outputs": [],
   "source": [
    "# Authenticate\n",
    "t = dapi.auth.init()"
   ]
  },
  {
   "cell_type": "markdown",
   "id": "14a18561-3bf7-4605-a6f4-98ab0b99af10",
   "metadata": {},
   "source": [
    "## Configure and run MPM job"
   ]
  },
  {
   "cell_type": "code",
   "execution_count": 19,
   "id": "f73c5bab-83d8-4f23-8752-4ad150b4dc59",
   "metadata": {},
   "outputs": [
    {
     "name": "stdout",
     "output_type": "stream",
     "text": [
      "tapis://designsafe.storage.default/kks32/mpm-benchmarks/2d/uniaxial_stress/\n"
     ]
    }
   ],
   "source": [
    "# Identify folder with input file in DesignSafe\n",
    "input_uri = dapi.jobs.get_ds_path_uri(t, path)\n",
    "print(input_uri)"
   ]
  },
  {
   "cell_type": "code",
   "execution_count": 20,
   "id": "b6b3818d-0358-487d-a67b-f91b6431b290",
   "metadata": {},
   "outputs": [
    {
     "name": "stdout",
     "output_type": "stream",
     "text": [
      "\n",
      "---Job Info---\n",
      "\n",
      "{\n",
      "  \"name\": \"mpm_20241001_114511\",\n",
      "  \"appId\": \"mpm\",\n",
      "  \"appVersion\": \"1.1.0\",\n",
      "  \"execSystemId\": \"frontera\",\n",
      "  \"maxMinutes\": 10,\n",
      "  \"archiveOnAppError\": true,\n",
      "  \"fileInputs\": [\n",
      "    {\n",
      "      \"name\": \"Input Directory\",\n",
      "      \"sourceUrl\": \"tapis://designsafe.storage.default/kks32/mpm-benchmarks/2d/uniaxial_stress/\"\n",
      "    }\n",
      "  ],\n",
      "  \"execSystemLogicalQueue\": \"development\",\n",
      "  \"nodeCount\": 1,\n",
      "  \"coresPerNode\": 1,\n",
      "  \"parameterSet\": {\n",
      "    \"appArgs\": [\n",
      "      {\n",
      "        \"name\": \"Input Script\",\n",
      "        \"arg\": \"mpm.json\"\n",
      "      }\n",
      "    ],\n",
      "    \"schedulerOptions\": [\n",
      "      {\n",
      "        \"name\": \"TACC Allocation\",\n",
      "        \"arg\": \"-A BCS20003\"\n",
      "      }\n",
      "    ]\n",
      "  }\n",
      "}\n"
     ]
    }
   ],
   "source": [
    "# Generate job info for mpm\n",
    "job_info = dapi.jobs.generate_job_info(\n",
    "    t, \"mpm\", input_uri, input_file, allocation=\"BCS20003\"\n",
    ")\n",
    "job_info[\"maxMinutes\"] = 10\n",
    "job_info[\"execSystemLogicalQueue\"] = \"development\"\n",
    "print(\"\\n---Job Info---\\n\\n\" + json.dumps(job_info, indent=2))"
   ]
  },
  {
   "cell_type": "markdown",
   "id": "9851e692-2ba8-4cb0-887f-b639ba8832d2",
   "metadata": {},
   "source": [
    "## Submit and monitor job status"
   ]
  },
  {
   "cell_type": "code",
   "execution_count": 17,
   "id": "004bdcf4-c93b-4770-805d-bfd05d47d7b6",
   "metadata": {},
   "outputs": [],
   "source": [
    "# Submit job\n",
    "job = t.jobs.submitJob(**job_info)\n",
    "jobUuid = job.uuid"
   ]
  },
  {
   "cell_type": "code",
   "execution_count": 21,
   "id": "17c70c97-aea3-4b92-af78-5fd63592ecd6",
   "metadata": {},
   "outputs": [
    {
     "name": "stderr",
     "output_type": "stream",
     "text": [
      "Waiting for job to start: 0it [00:00, ?it/s]\n",
      "Monitoring job:   0%|                                                        | 0/40 [00:00<?, ?it/s]"
     ]
    },
    {
     "name": "stdout",
     "output_type": "stream",
     "text": [
      "\tStatus: RUNNING\n"
     ]
    },
    {
     "name": "stderr",
     "output_type": "stream",
     "text": [
      "Monitoring job:   5%|██▍                                             | 2/40 [00:30<09:31, 15.05s/it]"
     ]
    },
    {
     "name": "stdout",
     "output_type": "stream",
     "text": [
      "\tStatus: ARCHIVING\n"
     ]
    },
    {
     "name": "stderr",
     "output_type": "stream",
     "text": [
      "Monitoring job:   8%|███▌                                            | 3/40 [00:45<09:17, 15.07s/it]"
     ]
    },
    {
     "name": "stdout",
     "output_type": "stream",
     "text": [
      "\tStatus: FINISHED\n"
     ]
    },
    {
     "name": "stderr",
     "output_type": "stream",
     "text": [
      "\n"
     ]
    },
    {
     "data": {
      "text/plain": [
       "'FINISHED'"
      ]
     },
     "execution_count": 21,
     "metadata": {},
     "output_type": "execute_result"
    }
   ],
   "source": [
    "# Monitor job status\n",
    "dapi.jobs.get_status(t, jobUuid)"
   ]
  },
  {
   "cell_type": "code",
   "execution_count": 22,
   "id": "614f3568-d290-44d9-896d-608375293a58",
   "metadata": {},
   "outputs": [
    {
     "name": "stdout",
     "output_type": "stream",
     "text": [
      "\n",
      "Runtime Summary\n",
      "---------------\n",
      "QUEUED  time: 00:00:02\n",
      "RUNNING time: 00:00:37\n",
      "TOTAL   time: 00:01:43\n",
      "---------------\n"
     ]
    }
   ],
   "source": [
    "# Get runtime summary\n",
    "dapi.jobs.runtime_summary(t, jobUuid)"
   ]
  },
  {
   "cell_type": "code",
   "execution_count": 27,
   "id": "00285b28-6ef9-4270-8c90-95e2079f984c",
   "metadata": {},
   "outputs": [
    {
     "data": {
      "text/plain": [
       "\n",
       "_fileInputsSpec: None\n",
       "_parameterSetModel: None\n",
       "appId: mpm\n",
       "appVersion: 1.1.0\n",
       "archiveCorrelationId: d57774ea-70d6-4873-ba2b-f7fd2a3b4f25\n",
       "archiveOnAppError: True\n",
       "archiveSystemDir: /home/kks32/tapis-jobs-archive/2024-10-01Z/mpm_20241001_114355-6f0c334f-5f64-463a-83b3-394921bf1eab-007\n",
       "archiveSystemId: cloud.data\n",
       "archiveTransactionId: 73be3f7e-825e-4569-b680-10d3c4f47acc\n",
       "blockedCount: 0\n",
       "cmdPrefix: None\n",
       "condition: NORMAL_COMPLETION\n",
       "coresPerNode: 1\n",
       "created: 2024-10-01T11:44:09.196972Z\n",
       "createdby: kks32\n",
       "createdbyTenant: designsafe\n",
       "description: mpm-1.1.0 submitted by kks32@designsafe\n",
       "dtnInputCorrelationId: None\n",
       "dtnInputTransactionId: None\n",
       "dtnOutputCorrelationId: None\n",
       "dtnOutputTransactionId: None\n",
       "dtnSystemId: None\n",
       "dtnSystemInputDir: None\n",
       "dtnSystemOutputDir: None\n",
       "dynamicExecSystem: False\n",
       "ended: 2024-10-01T11:45:58.879888Z\n",
       "execSystemConstraints: None\n",
       "execSystemExecDir: /scratch1/05873/kks32/tapis/6f0c334f-5f64-463a-83b3-394921bf1eab-007\n",
       "execSystemId: frontera\n",
       "execSystemInputDir: /scratch1/05873/kks32/tapis/6f0c334f-5f64-463a-83b3-394921bf1eab-007\n",
       "execSystemLogicalQueue: development\n",
       "execSystemOutputDir: /scratch1/05873/kks32/tapis/6f0c334f-5f64-463a-83b3-394921bf1eab-007\n",
       "fileInputs: [{\"name\": \"Input Directory\", \"notes\": \"{\\\"selectionMode\\\":\\\"directory\\\"}\", \"envKey\": \"inputDirectory\", \"optional\": false, \"sourceUrl\": \"tapis://designsafe.storage.default/kks32/mpm-benchmarks/2d/uniaxial_stress/\", \"targetPath\": \"inputDirectory\", \"description\": \"The directory containing your MPM input files. Example input is in tapis://cloud.data/corral/tacc/aci/CEP/community/app_examples/mpm/uniaxial_stress\", \"autoMountLocal\": true, \"srcSharedAppCtx\": \"\", \"destSharedAppCtx\": \"wma_prtl\"}]\n",
       "id: 16004\n",
       "inputCorrelationId: f094a125-e648-4e57-bc6f-508522fbfa8d\n",
       "inputTransactionId: 81518613-f93c-4ac3-b4ab-03f365249313\n",
       "isMpi: False\n",
       "jobType: BATCH\n",
       "lastMessage: Setting job status to FINISHED.\n",
       "lastUpdated: 2024-10-01T11:45:58.879888Z\n",
       "maxMinutes: 10\n",
       "memoryMB: 192000\n",
       "mpiCmd: None\n",
       "name: mpm_20241001_114355\n",
       "nodeCount: 1\n",
       "notes: {\"icon\": \"MPM\", \"label\": \"MPM\", \"helpUrl\": \"https://www.designsafe-ci.org/user-guide/usecases/#running-the-mpm-code\", \"category\": \"Simulation\", \"hideNodeCountAndCoresPerNode\": false}\n",
       "owner: kks32\n",
       "parameterSet: {\"appArgs\": [{\"arg\": \"mpm.json\", \"name\": \"Input Script\", \"notes\": \"{}\", \"include\": null, \"description\": \"Please provide the input file name. Example input file is mpm.json\"}], \"logConfig\": {\"stderrFilename\": \"tapisjob.out\", \"stdoutFilename\": \"tapisjob.out\"}, \"envVariables\": [{\"key\": \"_tapisAppId\", \"notes\": null, \"value\": \"mpm\", \"include\": null, \"description\": null}, {\"key\": \"_tapisAppVersion\", \"notes\": null, \"value\": \"1.1.0\", \"include\": null, \"description\": null}, {\"key\": \"_tapisArchiveOnAppError\", \"notes\": null, \"value\": \"true\", \"include\": null, \"description\": null}, {\"key\": \"_tapisArchiveSystemDir\", \"notes\": null, \"value\": \"/home/kks32/tapis-jobs-archive/2024-10-01Z/mpm_20241001_114355-6f0c334f-5f64-463a-83b3-394921bf1eab-007\", \"include\": null, \"description\": null}, {\"key\": \"_tapisArchiveSystemId\", \"notes\": null, \"value\": \"cloud.data\", \"include\": null, \"description\": null}, {\"key\": \"_tapisCoresPerNode\", \"notes\": null, \"value\": \"1\", \"include\": null, \"description\": null}, {\"key\": \"_tapisDynamicExecSystem\", \"notes\": null, \"value\": \"false\", \"include\": null, \"description\": null}, {\"key\": \"_tapisEffectiveUserId\", \"notes\": null, \"value\": \"kks32\", \"include\": null, \"description\": null}, {\"key\": \"_tapisExecSystemExecDir\", \"notes\": null, \"value\": \"/scratch1/05873/kks32/tapis/6f0c334f-5f64-463a-83b3-394921bf1eab-007\", \"include\": null, \"description\": null}, {\"key\": \"_tapisExecSystemHPCQueue\", \"notes\": null, \"value\": \"development\", \"include\": null, \"description\": null}, {\"key\": \"_tapisExecSystemId\", \"notes\": null, \"value\": \"frontera\", \"include\": null, \"description\": null}, {\"key\": \"_tapisExecSystemInputDir\", \"notes\": null, \"value\": \"/scratch1/05873/kks32/tapis/6f0c334f-5f64-463a-83b3-394921bf1eab-007\", \"include\": null, \"description\": null}, {\"key\": \"_tapisExecSystemLogicalQueue\", \"notes\": null, \"value\": \"development\", \"include\": null, \"description\": null}, {\"key\": \"_tapisExecSystemOutputDir\", \"notes\": null, \"value\": \"/scratch1/05873/kks32/tapis/6f0c334f-5f64-463a-83b3-394921bf1eab-007\", \"include\": null, \"description\": null}, {\"key\": \"_tapisJobCreateDate\", \"notes\": null, \"value\": \"2024-10-01Z\", \"include\": null, \"description\": null}, {\"key\": \"_tapisJobCreateTime\", \"notes\": null, \"value\": \"11:44:09.196972406Z\", \"include\": null, \"description\": null}, {\"key\": \"_tapisJobCreateTimestamp\", \"notes\": null, \"value\": \"2024-10-01T11:44:09.196972406Z\", \"include\": null, \"description\": null}, {\"key\": \"_tapisJobName\", \"notes\": null, \"value\": \"mpm_20241001_114355\", \"include\": null, \"description\": null}, {\"key\": \"_tapisJobOwner\", \"notes\": null, \"value\": \"kks32\", \"include\": null, \"description\": null}, {\"key\": \"_tapisJobUUID\", \"notes\": null, \"value\": \"6f0c334f-5f64-463a-83b3-394921bf1eab-007\", \"include\": null, \"description\": null}, {\"key\": \"_tapisJobWorkingDir\", \"notes\": null, \"value\": \"/scratch1/05873/kks32/tapis/6f0c334f-5f64-463a-83b3-394921bf1eab-007\", \"include\": null, \"description\": null}, {\"key\": \"_tapisMaxMinutes\", \"notes\": null, \"value\": \"10\", \"include\": null, \"description\": null}, {\"key\": \"_tapisMemoryMB\", \"notes\": null, \"value\": \"192000\", \"include\": null, \"description\": null}, {\"key\": \"_tapisNodes\", \"notes\": null, \"value\": \"1\", \"include\": null, \"description\": null}, {\"key\": \"_tapisStderrFilename\", \"notes\": null, \"value\": \"tapisjob.out\", \"include\": null, \"description\": null}, {\"key\": \"_tapisStdoutFilename\", \"notes\": null, \"value\": \"tapisjob.out\", \"include\": null, \"description\": null}, {\"key\": \"_tapisSysBatchScheduler\", \"notes\": null, \"value\": \"SLURM\", \"include\": null, \"description\": null}, {\"key\": \"_tapisSysHost\", \"notes\": null, \"value\": \"frontera.tacc.utexas.edu\", \"include\": null, \"description\": null}, {\"key\": \"_tapisSysRootDir\", \"notes\": null, \"value\": \"/\", \"include\": null, \"description\": null}, {\"key\": \"_tapisTenant\", \"notes\": null, \"value\": \"designsafe\", \"include\": null, \"description\": null}, {\"key\": \"inputDirectory\", \"notes\": \"{}\", \"value\": \"inputDirectory\", \"include\": true, \"description\": \"EnvKey from input file: Input Directory\"}], \"archiveFilter\": {\"excludes\": [\"mpm.zip\"], \"includes\": [], \"includeLaunchFiles\": true}, \"containerArgs\": [], \"schedulerOptions\": [{\"arg\": \"--tapis-profile mpm\", \"name\": \"TACC Scheduler Profile\", \"notes\": \"{\\\"isHidden\\\":true}\", \"include\": null, \"description\": \"Scheduler profile for HPC clusters at TACC\"}, {\"arg\": \"--job-name mpm_20241001_114355\", \"name\": \"Slurm job name\", \"notes\": \"{\\\"isHidden\\\":true}\", \"include\": null, \"description\": \"Set the slurm job name to be identical to the Tapis job name.\"}, {\"arg\": \"-A BCS20003\", \"name\": \"TACC Allocation\", \"notes\": null, \"include\": null, \"description\": null}]}\n",
       "remoteChecksFailed: 0\n",
       "remoteChecksSuccess: 5\n",
       "remoteEnded: 2024-10-01T11:45:44.010993Z\n",
       "remoteJobId: 6669631\n",
       "remoteJobId2: None\n",
       "remoteLastStatusCheck: 2024-10-01T11:45:44.006661Z\n",
       "remoteOutcome: FINISHED\n",
       "remoteQueue: None\n",
       "remoteResultInfo: 0:0\n",
       "remoteStarted: 2024-10-01T11:45:06.885350Z\n",
       "remoteSubmitRetries: 0\n",
       "remoteSubmitted: 2024-10-01T11:45:04.671554Z\n",
       "sharedAppCtx: wma_prtl\n",
       "sharedAppCtxAttribs: ['SAC_EXEC_SYSTEM_ID', 'SAC_ARCHIVE_SYSTEM_ID', 'SAC_EXEC_SYSTEM_INPUT_DIR', 'SAC_EXEC_SYSTEM_EXEC_DIR', 'SAC_EXEC_SYSTEM_OUTPUT_DIR', 'SAC_ARCHIVE_SYSTEM_DIR']\n",
       "stageAppCorrelationId: c04f1b0f-dea8-4c22-802e-6957ec71585a\n",
       "stageAppTransactionId: 8013f736-0a37-4c24-8165-2a4e100f2949\n",
       "status: FINISHED\n",
       "subscriptions: []\n",
       "tags: None\n",
       "tapisQueue: tapis.jobq.submit.DefaultQueue\n",
       "tenant: designsafe\n",
       "uuid: 6f0c334f-5f64-463a-83b3-394921bf1eab-007\n",
       "visible: True"
      ]
     },
     "execution_count": 27,
     "metadata": {},
     "output_type": "execute_result"
    }
   ],
   "source": [
    "# Fet details from Tapis results of a job\n",
    "t.jobs.getJob(jobUuid=jobUuid)"
   ]
  },
  {
   "cell_type": "markdown",
   "id": "798bd1bc-44e9-4e2f-b999-0ecf3ee769a4",
   "metadata": {},
   "source": [
    "## Archive path to view output results"
   ]
  },
  {
   "cell_type": "code",
   "execution_count": 29,
   "id": "daf7f33a-594c-4a69-b2d3-bc39a434d154",
   "metadata": {},
   "outputs": [
    {
     "name": "stdout",
     "output_type": "stream",
     "text": [
      "/home/kks32/tapis-jobs-archive/2024-10-01Z/mpm_20241001_114355-6f0c334f-5f64-463a-83b3-394921bf1eab-007\n"
     ]
    }
   ],
   "source": [
    "# Get local archive path on DesignSafe\n",
    "archive_path = t.jobs.getJob(jobUuid=jobUuid).archiveSystemDir\n",
    "print(archive_path)"
   ]
  }
 ],
 "metadata": {
  "IMAGE_NAME": "taccsciapps/ds-nb-img:base-0.1.9",
  "UUID": "ad99fe82-d690-11ec-8bc3-165d4cd45074",
  "kernelspec": {
   "display_name": "Python 3 (ipykernel)",
   "language": "python",
   "name": "python3"
  },
  "language_info": {
   "codemirror_mode": {
    "name": "ipython",
    "version": 3
   },
   "file_extension": ".py",
   "mimetype": "text/x-python",
   "name": "python",
   "nbconvert_exporter": "python",
   "pygments_lexer": "ipython3",
   "version": "3.9.10"
  }
 },
 "nbformat": 4,
 "nbformat_minor": 5
}
